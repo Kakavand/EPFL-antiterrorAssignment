{
 "cells": [
  {
   "cell_type": "markdown",
   "metadata": {},
   "source": [
    "# [NTDS'18] milestone 2: network models\n",
    "[ntds'18]: https://github.com/mdeff/ntds_2018\n",
    "\n",
    "[Hermina Petric Maretic](https://people.epfl.ch/hermina.petricmaretic), [EPFL LTS4](https://lts4.epfl.ch)"
   ]
  },
  {
   "cell_type": "markdown",
   "metadata": {},
   "source": [
    "## Students\n",
    "\n",
    "* Team: `27`\n",
    "* Students: `Abrate Marco Pietro, Bolón Brun Natalie, Kakavandy Shahow, Park Jangwon`\n",
    "* Dataset: `Terrorist attacks and relations`"
   ]
  },
  {
   "cell_type": "markdown",
   "metadata": {},
   "source": [
    "## Rules\n",
    "\n",
    "* Milestones have to be completed by teams. No collaboration between teams is allowed.\n",
    "* Textual answers shall be short. Typically one to two sentences.\n",
    "* Code has to be clean.\n",
    "* In the first part, you cannot import any other library than we imported. In the second part, you are allowed to import any library you want.\n",
    "* When submitting, the notebook is executed and the results are stored. I.e., if you open the notebook again it should show numerical results and plots. We won't be able to execute your notebooks.\n",
    "* The notebook is re-executed from a blank state before submission. That is to be sure it is reproducible. You can click \"Kernel\" then \"Restart & Run All\" in Jupyter."
   ]
  },
  {
   "cell_type": "markdown",
   "metadata": {},
   "source": [
    "## Objective\n",
    "\n",
    "The purpose of this milestone is to explore various random network models, analyse their properties and compare them to your network. In the first part of the milestone you will implement two random graph models and try to fit them to your network. In this part you are not allowed to use any additional package. In the second part of the milestone you will choose a third random graph model that you think shares some properties with your network. You will be allowed to use additional packages to construct this network, but you must explain your network choice. Finally, make your code as clean as possible, and keep your textual answers short."
   ]
  },
  {
   "cell_type": "markdown",
   "metadata": {},
   "source": [
    "## Part 0\n",
    "\n",
    "Import the adjacency matrix of your graph that you constructed in milestone 1, as well as the number of nodes and edges of your network."
   ]
  },
  {
   "cell_type": "code",
   "execution_count": 1,
   "metadata": {},
   "outputs": [
    {
     "name": "stdout",
     "output_type": "stream",
     "text": [
      "Number of nodes = 848\n",
      "Number of edges = 8196.0\n"
     ]
    }
   ],
   "source": [
    "import numpy as np\n",
    "\n",
    "adjacency = np.load('adjacency.npy')\n",
    "zero_index = np.where(np.sum(adjacency, axis=0) == 0)[0]\n",
    "adjacency = np.delete(adjacency, zero_index, axis = 0)\n",
    "adjacency = np.delete(adjacency, zero_index, axis = 1)\n",
    "\n",
    "n_nodes =  np.count_nonzero(np.sum(adjacency, axis=0))\n",
    "n_edges =  np.count_nonzero(adjacency) / 2\n",
    "\n",
    "print('Number of nodes = {n:}'.format(n=n_nodes))\n",
    "print('Number of edges = {e:}'.format(e=n_edges))"
   ]
  },
  {
   "cell_type": "markdown",
   "metadata": {},
   "source": [
    "## Part 1\n",
    "\n",
    "**For the computation of this part of the milestone you are only allowed to use the packages that have been imported in the cell below.**"
   ]
  },
  {
   "cell_type": "code",
   "execution_count": 2,
   "metadata": {},
   "outputs": [],
   "source": [
    "%matplotlib inline\n",
    "\n",
    "import random\n",
    "\n",
    "import numpy as np\n",
    "import pandas as pd\n",
    "import matplotlib.pyplot as plt\n",
    "import scipy"
   ]
  },
  {
   "cell_type": "markdown",
   "metadata": {},
   "source": [
    "### Question 1\n",
    "\n",
    "Create a function that constructs an Erdős–Rényi graph."
   ]
  },
  {
   "cell_type": "code",
   "execution_count": 3,
   "metadata": {},
   "outputs": [],
   "source": [
    "def erdos_renyi(n, p, seed=None):\n",
    "    \"\"\"Create an instance from the Erdos-Renyi graph model.\n",
    "    \n",
    "    Parameters\n",
    "    ----------\n",
    "    n: int\n",
    "        Size of the graph.\n",
    "    p: float\n",
    "        Edge probability. A number between 0 and 1.\n",
    "    seed: int (optional)\n",
    "        Seed for the random number generator. To get reproducible results.\n",
    "    \n",
    "    Returns\n",
    "    -------\n",
    "    adjacency\n",
    "        The adjacency matrix of a graph.\n",
    "    \"\"\"\n",
    "    \n",
    "    np.random.seed(seed)\n",
    "    \n",
    "    # Define adjacency of all zeros\n",
    "    adjacency = np.zeros((n,n))\n",
    "    \n",
    "    for i in range(n):\n",
    "        for j in range(n):\n",
    "            if i >= j: continue\n",
    "                \n",
    "            # Select a random number between 0 and 1\n",
    "            num_rand = np.random.uniform(0,1)\n",
    "            # Construct link if less than p\n",
    "            if num_rand < p:\n",
    "                adjacency[i,j] = 1\n",
    "                adjacency[j,i] = 1\n",
    "    \n",
    "    return adjacency"
   ]
  },
  {
   "cell_type": "code",
   "execution_count": 4,
   "metadata": {},
   "outputs": [
    {
     "data": {
      "text/plain": [
       "Text(0.5, 1.05, 'Erdos-Renyi (5, 0.6)')"
      ]
     },
     "execution_count": 4,
     "metadata": {},
     "output_type": "execute_result"
    },
    {
     "data": {
      "image/png": "[encoded data removed]",
      "text/plain": [
       "<Figure size 432x288 with 1 Axes>"
      ]
     },
     "metadata": {},
     "output_type": "display_data"
    }
   ],
   "source": [
    "er = erdos_renyi(5, 0.6, 9765)\n",
    "plt.spy(er)\n",
    "plt.title('Erdos-Renyi (5, 0.6)')"
   ]
  },
  {
   "cell_type": "code",
   "execution_count": 5,
   "metadata": {},
   "outputs": [
    {
     "data": {
      "text/plain": [
       "Text(0.5, 1.05, 'Erdos-Renyi (10, 0.4)')"
      ]
     },
     "execution_count": 5,
     "metadata": {},
     "output_type": "execute_result"
    },
    {
     "data": {
      "image/png": "[encoded data removed]",
      "text/plain": [
       "<Figure size 432x288 with 1 Axes>"
      ]
     },
     "metadata": {},
     "output_type": "display_data"
    }
   ],
   "source": [
    "er = erdos_renyi(10, 0.4, 7648)\n",
    "plt.spy(er)\n",
    "plt.title('Erdos-Renyi (10, 0.4)')"
   ]
  },
  {
   "cell_type": "markdown",
   "metadata": {},
   "source": [
    "### Question 2\n",
    "\n",
    "Use the function to create a random Erdos-Renyi graph. Choose the parameters such that number of nodes is the same as in your graph, and the number of edges similar. You don't need to set the random seed. Comment on your choice of parameters."
   ]
  },
  {
   "cell_type": "code",
   "execution_count": 6,
   "metadata": {},
   "outputs": [
    {
     "name": "stdout",
     "output_type": "stream",
     "text": [
      "Number of nodes = 848\n",
      "Number of links = 8123.0\n"
     ]
    },
    {
     "data": {
      "image/png": "[encoded data removed]",
      "text/plain": [
       "<Figure size 432x288 with 1 Axes>"
      ]
     },
     "metadata": {},
     "output_type": "display_data"
    }
   ],
   "source": [
    "p = np.sum(adjacency) / (n_nodes**2)\n",
    "er = erdos_renyi(n_nodes, p)\n",
    "\n",
    "plt.spy(er)\n",
    "plt.title('Erdos-Renyi')\n",
    "print('Number of nodes = {n:}'.format(n=len(er)))\n",
    "print('Number of links = {l:}'.format(l=np.count_nonzero(er)/2))"
   ]
  },
  {
   "cell_type": "markdown",
   "metadata": {},
   "source": [
    "**Answer:**\n",
    "Having similar number of links is equivalent to having similar average clustering coefficient. From the lecture, we know that average clustering coefficient is equal to average degree divided by the number of nodes for an Erdos-Renyi random network. Therefore, we can set the probability to $p = \\frac{Average  Degree}{N} $. As the true number of edges is equal to 8196, we observe that the random network is reasonably close to the real network in terms of number of edges."
   ]
  },
  {
   "cell_type": "markdown",
   "metadata": {},
   "source": [
    "### Question 3\n",
    "\n",
    "Create a function that constructs a Barabási-Albert graph."
   ]
  },
  {
   "cell_type": "code",
   "execution_count": 25,
   "metadata": {},
   "outputs": [],
   "source": [
    "def barabasi_albert(n, m, m0=0, seed=None):\n",
    "    \"\"\"Create an instance from the Barabasi-Albert graph model.\n",
    "    \n",
    "    Parameters\n",
    "    ----------\n",
    "    n: int\n",
    "        Size of the graph.\n",
    "    m: int\n",
    "        Number of edges to attach from a new node to existing nodes.\n",
    "    m0: int (optional)\n",
    "        Number of nodes for the inital connected network.\n",
    "    seed: int (optional)\n",
    "        Seed for the random number generator. To get reproducible results.\n",
    "    \n",
    "    Returns\n",
    "    -------\n",
    "    adjacency\n",
    "        The adjacency matrix of a graph.\n",
    "    \"\"\"\n",
    "    # Initialize network with two nodes connected \n",
    "    nodes = m0\n",
    "    adjacency = np.zeros((nodes,nodes))\n",
    "    \n",
    "    # Set seed for reproducible results\n",
    "    np.random.seed(seed)\n",
    "    \n",
    "    # Build initial network \n",
    "    if nodes == 2:\n",
    "        #Connect the two existing links\n",
    "        adjacency[0,1] = 1\n",
    "        adjacency[1,0] = 1\n",
    "    else:\n",
    "        # Build initial network with at least one edge per new node. \n",
    "        # Final size m0 starting from 2 connected nodes.\n",
    "        adjacency = barabasi_albert(m0, 1, m0=2, seed=seed)\n",
    "    \n",
    "    \n",
    "    for i in range(n-m0):\n",
    "        \n",
    "        # Compute preference attachment\n",
    "        # 1. degree of all the existing nodes:\n",
    "        degrees = np.sum(adjacency, axis=1)\n",
    "        # 2. probability distribution \n",
    "        prob = degrees/(np.sum(degrees))\n",
    "        \n",
    "        # Select to which nodes to connect.\n",
    "        n = np.array(list(range(nodes)))\n",
    "        to_connect = np.random.choice(n, size=m, p=prob, replace=False)\n",
    "        \n",
    "        # Expand Adjacency Matrix\n",
    "        new_row = np.zeros((1,nodes))\n",
    "        adjacency = np.vstack([adjacency, new_row])\n",
    "        \n",
    "        # Add connection to chosen nodes\n",
    "        for i in to_connect:\n",
    "            adjacency[nodes,i] = 1\n",
    "        \n",
    "        # Update adjacency matrix\n",
    "        new_col = np.append(adjacency[nodes, :],[0])\n",
    "        new_col = np.reshape(new_col,(new_col.shape[0],1))\n",
    "        adjacency = np.hstack([adjacency, new_col])\n",
    "        \n",
    "        # Update graph size\n",
    "        nodes += 1\n",
    "    \n",
    "    return adjacency"
   ]
  },
  {
   "cell_type": "code",
   "execution_count": 26,
   "metadata": {},
   "outputs": [
    {
     "data": {
      "text/plain": [
       "Text(0.5, 1.05, 'Barabasi-Albert (5, 1)')"
      ]
     },
     "execution_count": 26,
     "metadata": {},
     "output_type": "execute_result"
    },
    {
     "data": {
      "image/png": "[encoded data removed]",
      "text/plain": [
       "<Figure size 432x288 with 1 Axes>"
      ]
     },
     "metadata": {},
     "output_type": "display_data"
    }
   ],
   "source": [
    "ba = barabasi_albert(5, 1, 2, 9087)\n",
    "plt.spy(ba)\n",
    "plt.title('Barabasi-Albert (5, 1)')"
   ]
  },
  {
   "cell_type": "code",
   "execution_count": 27,
   "metadata": {},
   "outputs": [
    {
     "data": {
      "text/plain": [
       "Text(0.5, 1.05, 'Barabasi-Albert (10, 2)')"
      ]
     },
     "execution_count": 27,
     "metadata": {},
     "output_type": "execute_result"
    },
    {
     "data": {
      "image/png": "[encoded data removed]",
      "text/plain": [
       "<Figure size 432x288 with 1 Axes>"
      ]
     },
     "metadata": {},
     "output_type": "display_data"
    }
   ],
   "source": [
    "ba = barabasi_albert(10, 2, 3, 8708)\n",
    "plt.spy(ba)\n",
    "plt.title('Barabasi-Albert (10, 2)')"
   ]
  },
  {
   "cell_type": "markdown",
   "metadata": {},
   "source": [
    "### Question 4\n",
    "\n",
    "Use the function to create a random Barabási-Albert graph. Choose the parameters such that number of nodes is the same as in your graph, and the number of edges similar. You don't need to set the random seed. Comment on your choice of parameters."
   ]
  },
  {
   "cell_type": "code",
   "execution_count": 29,
   "metadata": {},
   "outputs": [
    {
     "name": "stdout",
     "output_type": "stream",
     "text": [
      "Original number of edges: 8196.0\n",
      "Barabási-Albert number of edges 8197.0\n",
      "Original number of nodes: 848\n",
      "Barabási-Albert number of nodes: 848\n"
     ]
    },
    {
     "data": {
      "text/plain": [
       "Text(0.5, 1.05, 'Barabasi-Albert (848, 10)')"
      ]
     },
     "execution_count": 29,
     "metadata": {},
     "output_type": "execute_result"
    },
    {
     "data": {
      "image/png": "[encoded data removed]",
      "text/plain": [
       "<Figure size 432x288 with 1 Axes>"
      ]
     },
     "metadata": {},
     "output_type": "display_data"
    }
   ],
   "source": [
    "ba = barabasi_albert(n_nodes, 11, m0=113)\n",
    "print('Original number of edges: {}\\nBarabási-Albert number of edges {}'.format(n_edges, np.count_nonzero(ba)/2))\n",
    "print('Original number of nodes: {}\\nBarabási-Albert number of nodes: {}'.format(n_nodes, len(ba)))\n",
    "plt.spy(ba)\n",
    "plt.title('Barabasi-Albert (848, 10)')"
   ]
  },
  {
   "cell_type": "markdown",
   "metadata": {},
   "source": [
    "**Answer**: To obtain a similar network in terms of number of nodes and edges, we have specified as final size of the network the number of nodes of the original network. The network is built in two steps: first, an initial network of m0 nodes is built adding one edge per new node.  \n",
    "${Edges}_0 = m0-1$ \n",
    "\n",
    "In the following step, new nodes are incorporated to the existing network adding 11 edges per new node. This results in a total of 8197 edges in the network.\n",
    "\n",
    "${Edges}_{total} = {Edges}_0 + (Nodes-m0)*Edge/Node$"
   ]
  },
  {
   "cell_type": "markdown",
   "metadata": {},
   "source": [
    "### Definition of the new two network with the same nodes and edges as ours"
   ]
  },
  {
   "cell_type": "code",
   "execution_count": 31,
   "metadata": {},
   "outputs": [],
   "source": [
    "p = np.sum(adjacency) / (n_nodes**2)\n",
    "erdos_renyi_adj = erdos_renyi(n_nodes, p, seed=17)\n",
    "barabasi_albert_adj = barabasi_albert(n_nodes, 11, m0=113, seed=7272)"
   ]
  },
  {
   "cell_type": "markdown",
   "metadata": {},
   "source": [
    "### Question 5\n",
    "\n",
    "Compare the number of edges in all three networks (your real network, the Erdős–Rényi network, and the Barabási-Albert netowk)."
   ]
  },
  {
   "cell_type": "code",
   "execution_count": 32,
   "metadata": {},
   "outputs": [
    {
     "name": "stdout",
     "output_type": "stream",
     "text": [
      "Our network number of edges = 8196\n",
      "Erdos-Renyi number of edges = 8187\n",
      "Barabasi-Albert number of edges = 8197\n"
     ]
    }
   ],
   "source": [
    "er_n_edges = np.sum(np.count_nonzero(erdos_renyi_adj)/2)\n",
    "ba_n_edges = np.sum(np.count_nonzero(barabasi_albert_adj)/2)\n",
    "\n",
    "print(\"Our network number of edges = %d\" %n_edges)\n",
    "print(\"Erdos-Renyi number of edges = %d\" %er_n_edges)\n",
    "print(\"Barabasi-Albert number of edges = %d\" %ba_n_edges)"
   ]
  },
  {
   "cell_type": "markdown",
   "metadata": {},
   "source": [
    "### Question 6\n",
    "\n",
    "Implement a function that computes the [Kullback–Leibler (KL) divergence](https://en.wikipedia.org/wiki/Kullback%E2%80%93Leibler_divergence) between two probability distributions.\n",
    "We'll use it to compare the degree distributions of networks."
   ]
  },
  {
   "cell_type": "code",
   "execution_count": 33,
   "metadata": {},
   "outputs": [],
   "source": [
    "def kl_divergence(p, q):\n",
    "    \"\"\"Compute the KL divergence between probability distributions of degrees of two networks.\n",
    "    \n",
    "    Parameters\n",
    "    ----------\n",
    "    p: np.array\n",
    "        Probability distribution of degrees of the 1st graph.\n",
    "    q: np.array\n",
    "        Probability distribution of degrees of the 2nd graph.\n",
    "    \n",
    "    Returns\n",
    "    -------\n",
    "    kl\n",
    "        The KL divergence between the two distributions.\n",
    "    \"\"\"\n",
    "    \n",
    "    return np.sum(p * np.log(np.divide(p, q)))"
   ]
  },
  {
   "cell_type": "code",
   "execution_count": 34,
   "metadata": {},
   "outputs": [
    {
     "data": {
      "text/plain": [
       "0.09151622184943575"
      ]
     },
     "execution_count": 34,
     "metadata": {},
     "output_type": "execute_result"
    }
   ],
   "source": [
    "p_test = np.array([0.2, 0.2, 0.2, 0.4])\n",
    "q_test = np.array([0.3, 0.3, 0.1, 0.3])\n",
    "kl_divergence(p_test, q_test)"
   ]
  },
  {
   "cell_type": "markdown",
   "metadata": {},
   "source": [
    "### Question 7\n",
    "\n",
    "Compare the degree distribution of your network to each of the two synthetic ones, in terms of KL divergence. **Hint:** Make sure you normalise your degree distributions to make them valid probability distributions."
   ]
  },
  {
   "cell_type": "code",
   "execution_count": 35,
   "metadata": {},
   "outputs": [],
   "source": [
    "def degree_distribution(adjacency):\n",
    "    return np.sum(adjacency, axis=1)"
   ]
  },
  {
   "cell_type": "code",
   "execution_count": 36,
   "metadata": {},
   "outputs": [],
   "source": [
    "def normalised_degree_distribution(adjacency):\n",
    "    degree_distr = degree_distribution(adjacency)\n",
    "    total_sum = np.sum(degree_distr)\n",
    "    \n",
    "    return degree_distr / total_sum"
   ]
  },
  {
   "cell_type": "code",
   "execution_count": 37,
   "metadata": {},
   "outputs": [
    {
     "name": "stdout",
     "output_type": "stream",
     "text": [
      "KL(our network | erdos-renyi) = 0.171071\n",
      "KL(our network | barbasi-albert) = 0.317631\n"
     ]
    }
   ],
   "source": [
    "norm_degree_distr = normalised_degree_distribution(adjacency)\n",
    "er_norm_degree_distr = normalised_degree_distribution(erdos_renyi_adj)\n",
    "ba_norm_degree_distr = normalised_degree_distribution(barabasi_albert_adj)\n",
    "\n",
    "print(\"KL(our network | erdos-renyi) = %f\" %kl_divergence(\n",
    "    norm_degree_distr, er_norm_degree_distr))\n",
    "print(\"KL(our network | barbasi-albert) = %f\" %kl_divergence(\n",
    "    norm_degree_distr, ba_norm_degree_distr))"
   ]
  },
  {
   "cell_type": "markdown",
   "metadata": {},
   "source": [
    "### Question 8\n",
    "\n",
    "Plot the degree distribution historgrams for all three networks. Are they consistent with the KL divergence results? Explain."
   ]
  },
  {
   "cell_type": "code",
   "execution_count": 38,
   "metadata": {},
   "outputs": [
    {
     "name": "stdout",
     "output_type": "stream",
     "text": [
      "Our degree distribution\n"
     ]
    },
    {
     "data": {
      "image/png": "[encoded data removed]",
      "text/plain": [
       "<Figure size 432x288 with 1 Axes>"
      ]
     },
     "metadata": {},
     "output_type": "display_data"
    }
   ],
   "source": [
    "print(\"Our degree distribution\")\n",
    "o_degree_distr = degree_distribution(adjacency)\n",
    "o_weights = np.ones_like(o_degree_distr) / float(n_nodes)\n",
    "plt.hist(o_degree_distr, weights=o_weights);"
   ]
  },
  {
   "cell_type": "code",
   "execution_count": 39,
   "metadata": {},
   "outputs": [
    {
     "name": "stdout",
     "output_type": "stream",
     "text": [
      "Erdos-Renyi degree distribution\n"
     ]
    },
    {
     "data": {
      "image/png": "[encoded data removed]",
      "text/plain": [
       "<Figure size 432x288 with 1 Axes>"
      ]
     },
     "metadata": {},
     "output_type": "display_data"
    }
   ],
   "source": [
    "print(\"Erdos-Renyi degree distribution\")\n",
    "er_degree_distrib = degree_distribution(erdos_renyi_adj)\n",
    "er_weights = np.ones_like(er_degree_distrib) / float(n_nodes)\n",
    "plt.hist(er_degree_distrib, weights=er_weights);"
   ]
  },
  {
   "cell_type": "code",
   "execution_count": 40,
   "metadata": {},
   "outputs": [
    {
     "name": "stdout",
     "output_type": "stream",
     "text": [
      "Barabasi-Albert degree distribution\n"
     ]
    },
    {
     "data": {
      "image/png": "[encoded data removed]",
      "text/plain": [
       "<Figure size 432x288 with 1 Axes>"
      ]
     },
     "metadata": {},
     "output_type": "display_data"
    }
   ],
   "source": [
    "print(\"Barabasi-Albert degree distribution\")\n",
    "ba_degree_distrib = degree_distribution(barabasi_albert_adj)\n",
    "ba_weights = np.ones_like(ba_degree_distrib) / float(n_nodes)\n",
    "plt.hist(ba_degree_distrib, weights=ba_weights);"
   ]
  },
  {
   "cell_type": "markdown",
   "metadata": {},
   "source": [
    "**Answer:**\n",
    "\n",
    "Values of KL divergence closer to 0 indicates a higher similarity between the real network and the random network model in question. Our results show that the Erdos-Renyi model has a more closely resembling degree distribution since its KL divergence value is closer to 0 than that of Barabasi-Albert model. By visualizing the degree distribution, we observe that although none of them accurately capture the degree distribution of the real network, Barabasi-Albert model indeed does a poorer job because the vast majority of nodes have low numbers of degrees while the true network has a more widely distributed numbers of nodes across various values of degrees."
   ]
  },
  {
   "cell_type": "markdown",
   "metadata": {},
   "source": [
    "### Question 9\n",
    "\n",
    "Imagine you got equal degree distributions. Would that guarantee you got the same graph? Explain."
   ]
  },
  {
   "cell_type": "markdown",
   "metadata": {},
   "source": [
    "**Answer:**\n",
    "No, equal degree distributions do not guarantee the same graphs. While it means equal numbers of nodes have equal numbers of degrees, it does not specify which nodes are connected to which, which can vastly change the nature of the graph and imply very different relationships."
   ]
  },
  {
   "cell_type": "markdown",
   "metadata": {},
   "source": [
    "## Part 2\n",
    "\n",
    "**You are allowed to use any additional library here (e.g., NetworkX, PyGSP, etc.).** Be careful not to include something here and use it in part 1!"
   ]
  },
  {
   "cell_type": "code",
   "execution_count": 41,
   "metadata": {},
   "outputs": [],
   "source": [
    "# Import all functions that we wrote in milestone 1\n",
    "from our_functions import *\n",
    "import networkx as nx"
   ]
  },
  {
   "cell_type": "markdown",
   "metadata": {},
   "source": [
    "### Question 10\n",
    "\n",
    "Choose a random network model that fits you network well. Explain your choice. \n",
    "\n",
    "**Hint:** Check lecture notes for different network models and their properties. Your choice should be made based on at least one property you'd expect to be similar."
   ]
  },
  {
   "cell_type": "markdown",
   "metadata": {},
   "source": [
    "**Answer:**\n",
    "We conclude that Watts-Strogatz random model best fits our network because it is expected to achieve a much higher average clustering coefficient than Erdos-Renyi or Barabasi-Albert models while retaining the small world property. Moreover, it is expected to produce a lower KL divergence value, which will indicate that its degree distribution emulates that of our network most closely.\n",
    "\n",
    "We shall aim at producing a similar average clustering coefficient because the terrorist relations network is characterized by a relatively high average clustering coefficient (0.57277). Based on a few research articles, this number is higher than most other real social networks such as Facebook, Flikr, Orkut, or LiveJournal [1, 2]. This is an important finding in our network because it reveals that different groups of terrorists are tightly knit together via other terrorists that they know in common (**note:** nodes represent \"relationships\" and edges \"terrorists\"; therefore a node can be viewed as a gathering of terrorists). Thus, failing to capture this could lead to a network of a very different nature.\n",
    "\n",
    "[1] https://ieeexplore.ieee.org/stamp/stamp.jsp?arnumber=6883962\n",
    "\n",
    "[2] http://delivery.acm.org/10.1145/2800000/2790304/a19-katzir.pdf?ip=128.179.199.227&id=2790304&acc=ACTIVE%20SERVICE&key=FC66C24E42F07228%2E7E17DDD1CCA0F75B%2E4D4702B0C3E38B35%2E4D4702B0C3E38B35&__acm__=1541765127_74d4995bde10c4840d097861db39773e"
   ]
  },
  {
   "cell_type": "markdown",
   "metadata": {},
   "source": [
    "### Question 11\n",
    "\n",
    "Explain (in short) how the chosen model works."
   ]
  },
  {
   "cell_type": "markdown",
   "metadata": {},
   "source": [
    "**Answer:**\n",
    "Watts-Strogatz is an extension of the random network for small world property and high clustering coefficient. Its construction begins with a ring of N nodes with each node linked to K of its nearest neighbors. WIth probability p, these links are rewired to other nodes. While increasing K would imply a higher clustering coefficient, higher p would imply an increasingly random network. By experimenting with these two parameters, we can achieve a random model with a reasonably high clustering coefficient and the small-world property."
   ]
  },
  {
   "cell_type": "markdown",
   "metadata": {},
   "source": [
    "### Question 12\n",
    "\n",
    "Create a random graph from that model, such that the number of nodes is the same as in your graph."
   ]
  },
  {
   "cell_type": "code",
   "execution_count": 43,
   "metadata": {},
   "outputs": [
    {
     "name": "stdout",
     "output_type": "stream",
     "text": [
      "Number of nodes in our network: 848\n",
      "Number of nodes in Watts-Strogatz network: 848\n"
     ]
    }
   ],
   "source": [
    "# Generate a Watts-Strogatz random model\n",
    "ws = nx.connected_watts_strogatz_graph(n_nodes, 20, 0.25, 1000)\n",
    "ws_adj = np.array(nx.adjacency_matrix(ws).todense())\n",
    "\n",
    "# Compute average clustering coefficient\n",
    "CC_ws = [compute_clustering_coefficient(ws_adj, i) for i in range(n_nodes)]\n",
    "avg_CC_ws = sum(CC_ws)/len(CC_ws)\n",
    "\n",
    "# Compute diameter\n",
    "# Diameter_ws = compute_diameter(ws_adj)\n",
    "\n",
    "# Compute KL divergence\n",
    "norm_degree_distr = normalised_degree_distribution(adjacency)\n",
    "ws_norm_degree_distr = normalised_degree_distribution(ws_adj)\n",
    "kl_ws = kl_divergence(norm_degree_distr, ws_norm_degree_distr)\n",
    "\n",
    "print('Number of nodes in our network: {f:}'.format(f=n_nodes))\n",
    "print('Number of nodes in Watts-Strogatz network: {f:}'.format(f=ws_adj.shape[1]))"
   ]
  },
  {
   "cell_type": "markdown",
   "metadata": {},
   "source": [
    "### Question 13\n",
    "\n",
    "Check the properties you expected to be similar, and compare to your network."
   ]
  },
  {
   "cell_type": "code",
   "execution_count": 44,
   "metadata": {},
   "outputs": [],
   "source": [
    "# Compute average clustering coefficients, diameters, and KL divergence for other models\n",
    "# Our network\n",
    "CC = [compute_clustering_coefficient(adjacency, i) for i in range(n_nodes)]\n",
    "avg_CC = sum(CC) / len(CC)\n",
    "# diameter = compute_diameter(adjacency)\n",
    "\n",
    "# Erdos Renyi\n",
    "CC_er = [compute_clustering_coefficient(erdos_renyi_adj, i) for i in range(n_nodes)]\n",
    "avg_CC_er = sum(CC_er) / len(CC_er)\n",
    "# diameter_er = compute_diameter(erdos_renyi_adj)\n",
    "er_norm_degree_distr = normalised_degree_distribution(erdos_renyi_adj)\n",
    "kl_er = kl_divergence(norm_degree_distr, er_norm_degree_distr)\n",
    "\n",
    "# Barabasi-Albert\n",
    "CC_ba = [compute_clustering_coefficient(barabasi_albert_adj, i) for i in range(n_nodes)]\n",
    "avg_CC_ba = sum(CC_ba) / len(CC_ba)\n",
    "# diameter_ba = compute_diameter(barabasi_albert_adj)\n",
    "ba_norm_degree_distr = normalised_degree_distribution(barabasi_albert_adj)\n",
    "kl_ba = kl_divergence(norm_degree_distr, ba_norm_degree_distr)"
   ]
  },
  {
   "cell_type": "code",
   "execution_count": 45,
   "metadata": {},
   "outputs": [
    {
     "name": "stdout",
     "output_type": "stream",
     "text": [
      "True average clustering coefficient: 0.57277\n",
      "Watts-Strogatz average clustering coefficient: 0.31168\n",
      "Erdos Renyi average clustering coefficient: 0.02308\n",
      "Barabasi-Albert average clustering coefficient: 0.04957\n",
      "\n",
      "KL(true network | Watts-Strogatz) = 0.14425\n",
      "KL(true network | Erdos-Renyi) = 0.17107\n",
      "KL(true network | Barabasi-Albert) = 0.31763\n"
     ]
    }
   ],
   "source": [
    "# compare\n",
    "print('True average clustering coefficient: {d:.5f}'.format(d=avg_CC))\n",
    "print('Watts-Strogatz average clustering coefficient: {d:.5f}'.format(d=avg_CC_ws))\n",
    "print('Erdos Renyi average clustering coefficient: {d:.5f}'.format(d=avg_CC_er))\n",
    "print('Barabasi-Albert average clustering coefficient: {d:.5f}'.format(d=avg_CC_ba))\n",
    "print('')\n",
    "print(\"KL(true network | Watts-Strogatz) = {k:.5f}\".format(k=kl_ws))\n",
    "print(\"KL(true network | Erdos-Renyi) = {k:.5f}\".format(k=kl_er))\n",
    "print(\"KL(true network | Barabasi-Albert) = {k:.5f}\".format(k=kl_ba))"
   ]
  },
  {
   "cell_type": "markdown",
   "metadata": {},
   "source": [
    "Are the results what you expected? Explain."
   ]
  },
  {
   "cell_type": "markdown",
   "metadata": {},
   "source": [
    "**Answer:**\n",
    "As expected, **Watt-Strogatz** model does a much better job in producing a **higher clustering coefficient** and a **lower KL divergence** value than the other two random models. However, while keeping the number of edges similar, the average clustering coefficient is still not quite close enough. This demonstrates that while some random models tend to better, real networks are in general poorly replicated by random networks."
   ]
  }
 ],
 "metadata": {
  "kernelspec": {
   "display_name": "Python 3",
   "language": "python",
   "name": "python3"
  },
  "language_info": {
   "codemirror_mode": {
    "name": "ipython",
    "version": 3
   },
   "file_extension": ".py",
   "mimetype": "text/x-python",
   "name": "python",
   "nbconvert_exporter": "python",
   "pygments_lexer": "ipython3",
   "version": "3.6.6"
  }
 },
 "nbformat": 4,
 "nbformat_minor": 2
}

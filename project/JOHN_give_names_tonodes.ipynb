{
 "cells": [
  {
   "cell_type": "markdown",
   "metadata": {},
   "source": [
    "# Giving names to nodes"
   ]
  },
  {
   "cell_type": "code",
   "execution_count": 15,
   "metadata": {},
   "outputs": [],
   "source": [
    "%matplotlib inline\n",
    "import numpy as np\n",
    "from scipy import sparse\n",
    "import scipy.sparse.linalg\n",
    "from matplotlib import pyplot as plt\n",
    "from pyunlocbox import functions, solvers\n",
    "import pygsp as pg\n",
    "import networkx as nx\n",
    "\n",
    "# import our own functions\n",
    "from our_functions import get_true_labels, find_components, find_largest_component, give_names_tonodes_dates_based, num_nodes, connected_graph\n",
    "import random"
   ]
  },
  {
   "cell_type": "code",
   "execution_count": 2,
   "metadata": {},
   "outputs": [],
   "source": [
    "A = np.load('adjacency.npy')\n",
    "\n",
    "# get the largest component\n",
    "A, size = find_largest_component(find_components(A))\n",
    "\n",
    "n_nodes = size\n",
    "n_edges = np.count_nonzero(A) / 2\n",
    "\n",
    "# get terrorist names for each node\n",
    "names, A, name_dict = give_names_tonodes_dates_based(A)\n",
    "\n",
    "# get relation label for each node\n",
    "labels = get_true_labels(A)"
   ]
  },
  {
   "cell_type": "markdown",
   "metadata": {},
   "source": [
    "# Graph Inversion"
   ]
  },
  {
   "cell_type": "code",
   "execution_count": 3,
   "metadata": {},
   "outputs": [
    {
     "name": "stdout",
     "output_type": "stream",
     "text": [
      "Number of unique terrorist: 244\n"
     ]
    },
    {
     "data": {
      "image/png": "[encoded data removed]",
      "text/plain": [
       "<Figure size 432x288 with 1 Axes>"
      ]
     },
     "metadata": {
      "needs_background": "light"
     },
     "output_type": "display_data"
    }
   ],
   "source": [
    "# Number of unique terrorists\n",
    "num_terrorist = len(name_dict.keys())\n",
    "print(\"Number of unique terrorist: {n:}\".format(n=num_terrorist))\n",
    "\n",
    "# Array of terrorist names \n",
    "all_names = np.array(list(name_dict.keys()))\n",
    "\n",
    "# Initialize inverted adjacency matrix. Symmetric and unweighted by default.\n",
    "A_inverted = np.zeros((num_terrorist, num_terrorist))\n",
    "A_relations = np.zeros((num_terrorist, num_terrorist))\n",
    "\n",
    "counter = set()\n",
    "for n in range(n_nodes):\n",
    "    temp = []\n",
    "    for d in range(num_terrorist):\n",
    "        if n in list(name_dict.values())[d]:\n",
    "            # collect all terrorist names that correspond to node n\n",
    "            temp.append(list(name_dict.keys())[d])\n",
    "            counter.update(set(list(name_dict.values())[d]))\n",
    "\n",
    "    for k in range(len(temp)):\n",
    "        for j in range(len(temp)):\n",
    "            if k >= j: continue\n",
    "            idx = np.where(np.array(list(name_dict.keys()))==temp[k])[0][0]\n",
    "            idx2 = np.where(np.array(list(name_dict.keys()))==temp[j])[0][0]\n",
    "            \n",
    "            # create an edge between all terrorists that belonged to the same node in original graph\n",
    "            A_inverted[idx,idx2] = 1\n",
    "            A_inverted[idx2,idx] = 1\n",
    "            \n",
    "            # create a matrix which stores corresponding relations between terrorists             \n",
    "            A_relations[idx,idx2] = int(labels[n])\n",
    "            A_relations[idx2,idx] = int(labels[n])\n",
    "            \n",
    "plt.hist(np.sum(A_inverted,axis=1), bins=15)\n",
    "plt.show()"
   ]
  },
  {
   "cell_type": "code",
   "execution_count": 4,
   "metadata": {},
   "outputs": [
    {
     "name": "stdout",
     "output_type": "stream",
     "text": [
      "Number of disconnected components: 30\n"
     ]
    },
    {
     "data": {
      "image/png": "[encoded data removed]",
      "text/plain": [
       "<Figure size 432x288 with 1 Axes>"
      ]
     },
     "metadata": {
      "needs_background": "light"
     },
     "output_type": "display_data"
    },
    {
     "name": "stdout",
     "output_type": "stream",
     "text": [
      "Size of original inverted graph: 244\n"
     ]
    },
    {
     "data": {
      "image/png": "[encoded data removed]",
      "text/plain": [
       "<Figure size 432x288 with 1 Axes>"
      ]
     },
     "metadata": {
      "needs_background": "light"
     },
     "output_type": "display_data"
    },
    {
     "name": "stdout",
     "output_type": "stream",
     "text": [
      "Size of largest component: 129\n"
     ]
    },
    {
     "data": {
      "image/png": "[encoded data removed]",
      "text/plain": [
       "<Figure size 432x288 with 1 Axes>"
      ]
     },
     "metadata": {
      "needs_background": "light"
     },
     "output_type": "display_data"
    }
   ],
   "source": [
    "components = find_components(A_inverted)\n",
    "largest_component_inv, size = find_largest_component(components)\n",
    "print(\"Number of disconnected components: {d:}\".format(d=len(components)))\n",
    "deg_dist = []\n",
    "for c in range(len(components)):\n",
    "    deg_dist.append(num_nodes(components[c]))\n",
    "plt.hist(deg_dist, bins=len(components))\n",
    "plt.xlabel('Component Size')\n",
    "plt.show()\n",
    "\n",
    "print(\"Size of original inverted graph: {s:}\".format(s=num_terrorist))\n",
    "plt.spy(A_inverted)\n",
    "plt.show()\n",
    "\n",
    "print(\"Size of largest component: {s:}\".format(s=size))\n",
    "plt.spy(largest_component_inv)\n",
    "plt.show()\n",
    "\n"
   ]
  },
  {
   "cell_type": "code",
   "execution_count": 5,
   "metadata": {
    "scrolled": false
   },
   "outputs": [],
   "source": [
    "display = False\n",
    "if display:\n",
    "    for idx, name in enumerate(names):\n",
    "        print(name)\n",
    "        for i in range(A.shape[0]):\n",
    "            if A[idx, i] == 1:\n",
    "                print(\"\\t\"+str(names[i]))"
   ]
  },
  {
   "cell_type": "code",
   "execution_count": 7,
   "metadata": {},
   "outputs": [
    {
     "data": {
      "text/plain": [
       "<matplotlib.lines.Line2D at 0x1c2aced7668>"
      ]
     },
     "execution_count": 7,
     "metadata": {},
     "output_type": "execute_result"
    },
    {
     "data": {
      "image/png": "[encoded data removed]",
      "text/plain": [
       "<Figure size 432x288 with 1 Axes>"
      ]
     },
     "metadata": {
      "needs_background": "light"
     },
     "output_type": "display_data"
    }
   ],
   "source": [
    "plt.spy(A_inverted, markersize=1)"
   ]
  },
  {
   "cell_type": "code",
   "execution_count": 8,
   "metadata": {},
   "outputs": [
    {
     "data": {
      "text/plain": [
       "(array([49., 44., 21., 12., 28., 31., 16.,  7.,  5.,  0., 11.,  1., 17.,\n",
       "         1.,  0.,  1.]),\n",
       " array([ 0.  ,  1.25,  2.5 ,  3.75,  5.  ,  6.25,  7.5 ,  8.75, 10.  ,\n",
       "        11.25, 12.5 , 13.75, 15.  , 16.25, 17.5 , 18.75, 20.  ]),\n",
       " <a list of 16 Patch objects>)"
      ]
     },
     "execution_count": 8,
     "metadata": {},
     "output_type": "execute_result"
    },
    {
     "data": {
      "image/png": "[encoded data removed]",
      "text/plain": [
       "<Figure size 432x288 with 1 Axes>"
      ]
     },
     "metadata": {
      "needs_background": "light"
     },
     "output_type": "display_data"
    }
   ],
   "source": [
    "degrees = sum(A_inverted)\n",
    "plt.hist(degrees, bins=16)"
   ]
  },
  {
   "cell_type": "markdown",
   "metadata": {},
   "source": [
    "### Convert to graph object"
   ]
  },
  {
   "cell_type": "code",
   "execution_count": 17,
   "metadata": {},
   "outputs": [],
   "source": [
    "G = nx.from_numpy_matrix(A_inverted)\n",
    "nx.write_gexf(G, \"terrorist_relations_inverted.gexf\")"
   ]
  },
  {
   "cell_type": "code",
   "execution_count": null,
   "metadata": {},
   "outputs": [],
   "source": []
  }
 ],
 "metadata": {
  "kernelspec": {
   "display_name": "Python 3",
   "language": "python",
   "name": "python3"
  },
  "language_info": {
   "codemirror_mode": {
    "name": "ipython",
    "version": 3
   },
   "file_extension": ".py",
   "mimetype": "text/x-python",
   "name": "python",
   "nbconvert_exporter": "python",
   "pygments_lexer": "ipython3",
   "version": "3.6.4"
  }
 },
 "nbformat": 4,
 "nbformat_minor": 2
}

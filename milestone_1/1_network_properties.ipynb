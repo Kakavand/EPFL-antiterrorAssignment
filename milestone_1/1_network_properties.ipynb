{
 "cells": [
  {
   "cell_type": "markdown",
   "metadata": {},
   "source": [
    "# NTDS'18 milestone 1: network collection and properties\n",
    "[Effrosyni Simou](https://lts4.epfl.ch/simou), [EPFL LTS4](https://lts4.epfl.ch)"
   ]
  },
  {
   "cell_type": "markdown",
   "metadata": {},
   "source": [
    "## Students\n",
    "\n",
    "* Team: `27`\n",
    "* Students: `Abrate Marco Pietro, Bolón Brun Natalie, Kakavandy Shahow, Park Jangwon`\n",
    "* Dataset: `Terrorist attacks and relations`"
   ]
  },
  {
   "cell_type": "markdown",
   "metadata": {},
   "source": [
    "## Rules\n",
    "\n",
    "* Milestones have to be completed by teams. No collaboration between teams is allowed.\n",
    "* Textual answers shall be short. Typically one to three sentences.\n",
    "* Code has to be clean.\n",
    "* You cannot import any other library than we imported.\n",
    "* When submitting, the notebook is executed and the results are stored. I.e., if you open the notebook again it should show numerical results and plots. We won't be able to execute your notebooks.\n",
    "* The notebook is re-executed from a blank state before submission. That is to be sure it is reproducible. You can click \"Kernel\" then \"Restart & Run All\" in Jupyter."
   ]
  },
  {
   "cell_type": "markdown",
   "metadata": {},
   "source": [
    "## Objective "
   ]
  },
  {
   "cell_type": "markdown",
   "metadata": {},
   "source": [
    "The purpose of this milestone is to start getting acquainted to the network that you will use for this class. In the first part of the milestone you will import your data using [Pandas](http://pandas.pydata.org) and you will create the adjacency matrix using [Numpy](http://www.numpy.org). This part is project specific. In the second part you will have to compute some basic properties of your network. **For the computation of the properties you are only allowed to use the packages that have been imported in the cell below.** You are not allowed to use any graph-specific toolboxes for this milestone (such as networkx and PyGSP). Furthermore, the aim is not to blindly compute the network properties, but to also start to think about what kind of network you will be working with this semester. "
   ]
  },
  {
   "cell_type": "code",
   "execution_count": 1,
   "metadata": {},
   "outputs": [],
   "source": [
    "import numpy as np\n",
    "import pandas as pd\n",
    "import matplotlib.pyplot as plt\n",
    "import time\n",
    "start_time = time.time()"
   ]
  },
  {
   "cell_type": "markdown",
   "metadata": {},
   "source": [
    "## Part 1 - Import your data and manipulate them. "
   ]
  },
  {
   "cell_type": "markdown",
   "metadata": {},
   "source": [
    "###  A. Load your data in a Panda dataframe."
   ]
  },
  {
   "cell_type": "markdown",
   "metadata": {},
   "source": [
    "First, you should define and understand what are your nodes, what features you have and what are your labels. Please provide below a Panda dataframe where each row corresponds to a node with its features and labels. For example, in the the case of the Free Music Archive (FMA) Project, each row of the dataframe would be of the following form:\n",
    "\n",
    "\n",
    "| Track   |  Feature 1  | Feature 2 | . . . | Feature 518|  Label 1 |  Label 2 |. . .|Label 16|\n",
    "|:-------:|:-----------:|:---------:|:-----:|:----------:|:--------:|:--------:|:---:|:------:|\n",
    "|         |             |           |       |            |          |          |     |        |\n",
    "\n",
    "It is possible that in some of the projects either the features or the labels are not available. This is OK, in that case just make sure that you create a dataframe where each of the rows corresponds to a node and its associated features or labels."
   ]
  },
  {
   "cell_type": "code",
   "execution_count": 2,
   "metadata": {},
   "outputs": [
    {
     "name": "stderr",
     "output_type": "stream",
     "text": [
      "C:\\Users\\Marco\\Anaconda3\\lib\\site-packages\\ipykernel_launcher.py:34: ParserWarning: Falling back to the 'python' engine because the 'c' engine does not support regex separators (separators > 1 char and different from '\\s+' are interpreted as regex); you can avoid this warning by specifying engine='python'.\n",
      "C:\\Users\\Marco\\Anaconda3\\lib\\site-packages\\pandas\\io\\parsers.py:2230: FutureWarning: split() requires a non-empty pattern match.\n",
      "  yield pat.split(line.strip())\n",
      "C:\\Users\\Marco\\Anaconda3\\lib\\site-packages\\pandas\\io\\parsers.py:2232: FutureWarning: split() requires a non-empty pattern match.\n",
      "  yield pat.split(line.strip())\n",
      "C:\\Users\\Marco\\Anaconda3\\lib\\site-packages\\ipykernel_launcher.py:38: ParserWarning: Falling back to the 'python' engine because the 'c' engine does not support regex separators (separators > 1 char and different from '\\s+' are interpreted as regex); you can avoid this warning by specifying engine='python'.\n",
      "C:\\Users\\Marco\\Anaconda3\\lib\\site-packages\\ipykernel_launcher.py:42: ParserWarning: Falling back to the 'python' engine because the 'c' engine does not support regex separators (separators > 1 char and different from '\\s+' are interpreted as regex); you can avoid this warning by specifying engine='python'.\n",
      "C:\\Users\\Marco\\Anaconda3\\lib\\site-packages\\ipykernel_launcher.py:46: ParserWarning: Falling back to the 'python' engine because the 'c' engine does not support regex separators (separators > 1 char and different from '\\s+' are interpreted as regex); you can avoid this warning by specifying engine='python'.\n"
     ]
    }
   ],
   "source": [
    "def data_load_parsing(): \n",
    "    \"\"\"\n",
    "    This function is for loading each of the files in TerrorAttack and TerroristRel\n",
    "    and parsing them into tables of panda dataframe format that we can use.\n",
    "    \n",
    "    input: none\n",
    "    output:\n",
    "        terrorist_rel_labels: terrorist relationship types (colleague, family, ...)\n",
    "        terrorist_rel_edges: terrorists that have some kind of relationship are linked\n",
    "        terrorist_rel_coll: terrorists who are 'colleagues' are linked\n",
    "        terrorist_rel_cong: terrorists who are 'congregates' are linked\n",
    "        terrorist_rel_cont: terrorists who are 'contacts' are linked\n",
    "        terrorist_rel_fam: terrorists who are 'families' are linked.\n",
    "        \n",
    "        *the columns of each dataframe are type integer and begins with 0, ...\n",
    "    \"\"\"\n",
    "    \n",
    "    # file paths\n",
    "    file_path1 = '../data/TerroristRel/TerroristRel.edges'\n",
    "    file_path2 = '../data/TerroristRel/TerroristRel.labels'\n",
    "    file_path3 = '../data/TerroristRel/TerroristRel_Colleague.nodes'\n",
    "    file_path4 = '../data/TerroristRel/TerroristRel_Congregate.nodes'\n",
    "    file_path5 = '../data/TerroristRel/TerroristRel_Contact.nodes'\n",
    "    file_path6 = '../data/TerroristRel/TerroristRel_Family.nodes'\n",
    "\n",
    "    '''Load and parse TerroristRel.edges'''\n",
    "    terrorist_rel_edges = pd.read_csv(file_path1, sep='\\t', header=None)\n",
    "    \n",
    "    '''Load and parse TerroristRel.labels'''\n",
    "    terrorist_rel_labels = pd.read_csv(file_path2, header=None)\n",
    "    \n",
    "    '''Load and parse TerroristRel_Colleage.nodes'''\n",
    "    # Parse using tab and space delimiters\n",
    "    terrorist_rel_coll = pd.read_csv(file_path3, sep='\\t|' '', header=None)\n",
    "    \n",
    "    '''Load and parse TerroristRel_Congregate.nodes'''\n",
    "    # Parse using tab and space delimiters\n",
    "    terrorist_rel_cong = pd.read_csv(file_path4, sep='\\t|' '', header=None)\n",
    "    \n",
    "    '''Load and parse TerroristRel_Contact.nodes'''\n",
    "    # Parse using tab and space delimiters\n",
    "    terrorist_rel_cont = pd.read_csv(file_path5, sep='\\t|' '', header=None)\n",
    "    \n",
    "    '''Load and parse TerroristRel_Family.nodes'''\n",
    "    # Parse using tab and space delimiters\n",
    "    terrorist_rel_fam = pd.read_csv(file_path6, sep='\\t|' '', header=None)\n",
    "    \n",
    "    return terrorist_rel_labels, terrorist_rel_edges, terrorist_rel_coll, \\\n",
    "terrorist_rel_cong, terrorist_rel_cont, terrorist_rel_fam\n",
    "\n",
    "# call data_load_parsing\n",
    "terrorist_rel_labels, terrorist_rel_edges, terrorist_rel_coll, \\\n",
    "terrorist_rel_cong, terrorist_rel_cont, terrorist_rel_fam = data_load_parsing()\n",
    "\n",
    "\n",
    "features = terrorist_rel_coll.shape[1] - 2"
   ]
  },
  {
   "cell_type": "code",
   "execution_count": 3,
   "metadata": {},
   "outputs": [
    {
     "name": "stdout",
     "output_type": "stream",
     "text": [
      "(8592, 2)\n",
      "(851, 1226)\n",
      "(851, 1226)\n",
      "(851, 1226)\n",
      "(851, 1226)\n"
     ]
    }
   ],
   "source": [
    "# Test run to check whether data has been parsed properly\n",
    "\n",
    "# Edges data\n",
    "print(terrorist_rel_edges.shape)\n",
    "\n",
    "# Colleague nodes\n",
    "print(terrorist_rel_coll.shape)\n",
    "\n",
    "# Contact nodes\n",
    "print(terrorist_rel_cont.shape)\n",
    "\n",
    "# Congregate nodes\n",
    "print(terrorist_rel_cong.shape)\n",
    "\n",
    "# Family nodes\n",
    "print(terrorist_rel_fam.shape)"
   ]
  },
  {
   "cell_type": "markdown",
   "metadata": {},
   "source": [
    "### B. Create the adjacency matrix of your network."
   ]
  },
  {
   "cell_type": "markdown",
   "metadata": {},
   "source": [
    "Remember that there are edges connecting the attributed nodes that you organized in the dataframe above. The connectivity of the network is captured by the adjacency matrix $W$. If $N$ is the number of nodes, the adjacency matrix is an $N \\times N$ matrix where the value of $W(i,j)$ is the weight of the edge connecting node $i$ to node $j$.  \n",
    "\n",
    "There are two possible scenarios for your adjacency matrix construction, as you already learned in the tutorial by Benjamin:\n",
    "\n",
    "1) The edges are given to you explicitly. In this case you should simply load the file containing the edge information and parse it in order to create your adjacency matrix. See how to do that in [this tutorial](../tutorials/02a_graph_from_edge_list.ipynb).\n",
    "\n",
    "2) The edges are not given to you. In that case you will have to create a feature graph. In order to do that you will have to chose a distance that will quantify how similar two nodes are based on the values in their corresponding feature vectors. [This tutorial](../tutorials/02b_graph_from_features.ipynb) shows you how to build feature graphs when using Euclidean distances between feature vectors. Be curious and explore other distances as well! For instance, in the case of high-dimensional feature vectors, you might want to consider using the cosine distance. Once you compute the distances between your nodes you will have a fully connected network. Do not forget to sparsify by keeping the most important edges in your network.\n",
    "\n",
    "Follow the appropriate steps for the construction of the adjacency matrix of your network and provide it in the Numpy array ``adjacency`` below: "
   ]
  },
  {
   "cell_type": "code",
   "execution_count": 4,
   "metadata": {},
   "outputs": [
    {
     "data": {
      "text/html": [
       "<div>\n",
       "<style scoped>\n",
       "    .dataframe tbody tr th:only-of-type {\n",
       "        vertical-align: middle;\n",
       "    }\n",
       "\n",
       "    .dataframe tbody tr th {\n",
       "        vertical-align: top;\n",
       "    }\n",
       "\n",
       "    .dataframe thead th {\n",
       "        text-align: right;\n",
       "    }\n",
       "</style>\n",
       "<table border=\"1\" class=\"dataframe\">\n",
       "  <thead>\n",
       "    <tr style=\"text-align: right;\">\n",
       "      <th></th>\n",
       "      <th>node_idx</th>\n",
       "      <th>0</th>\n",
       "    </tr>\n",
       "  </thead>\n",
       "  <tbody>\n",
       "    <tr>\n",
       "      <th>0</th>\n",
       "      <td>0</td>\n",
       "      <td>http://profilesinterror.mindswap.org/document/...</td>\n",
       "    </tr>\n",
       "    <tr>\n",
       "      <th>1</th>\n",
       "      <td>1</td>\n",
       "      <td>http://profilesinterror.mindswap.org/document/...</td>\n",
       "    </tr>\n",
       "    <tr>\n",
       "      <th>2</th>\n",
       "      <td>2</td>\n",
       "      <td>http://profilesinterror.mindswap.org/document/...</td>\n",
       "    </tr>\n",
       "    <tr>\n",
       "      <th>3</th>\n",
       "      <td>3</td>\n",
       "      <td>http://profilesinterror.mindswap.org/document/...</td>\n",
       "    </tr>\n",
       "    <tr>\n",
       "      <th>4</th>\n",
       "      <td>4</td>\n",
       "      <td>http://profilesinterror.mindswap.org/document/...</td>\n",
       "    </tr>\n",
       "  </tbody>\n",
       "</table>\n",
       "</div>"
      ],
      "text/plain": [
       "   node_idx                                                  0\n",
       "0         0  http://profilesinterror.mindswap.org/document/...\n",
       "1         1  http://profilesinterror.mindswap.org/document/...\n",
       "2         2  http://profilesinterror.mindswap.org/document/...\n",
       "3         3  http://profilesinterror.mindswap.org/document/...\n",
       "4         4  http://profilesinterror.mindswap.org/document/..."
      ]
     },
     "execution_count": 4,
     "metadata": {},
     "output_type": "execute_result"
    }
   ],
   "source": [
    "nodes = terrorist_rel_coll.iloc[:,0]\n",
    "edges = terrorist_rel_edges\n",
    "\n",
    "nodes = pd.DataFrame(list(nodes))\n",
    "nodes.reset_index(level=0, inplace=True)\n",
    "nodes = nodes.rename(columns={'index':'node_idx'})\n",
    "nodes.head()"
   ]
  },
  {
   "cell_type": "code",
   "execution_count": 5,
   "metadata": {},
   "outputs": [
    {
     "name": "stdout",
     "output_type": "stream",
     "text": [
      "(851, 2)\n"
     ]
    }
   ],
   "source": [
    "# check number of nodes\n",
    "print(nodes.shape)"
   ]
  },
  {
   "cell_type": "code",
   "execution_count": 6,
   "metadata": {},
   "outputs": [],
   "source": [
    "# Create a conversion table from uid to node index.\n",
    "node2idx = nodes[['node_idx', 0]]\n",
    "node2idx = node2idx.set_index(0)"
   ]
  },
  {
   "cell_type": "code",
   "execution_count": 7,
   "metadata": {},
   "outputs": [],
   "source": [
    "# Add a new column, matching the uid with the node_idx.\n",
    "edges = edges.join(node2idx, on=0)\n",
    "edges = edges.join(node2idx, on=1, rsuffix='_parent')\n",
    "\n",
    "edges = edges.drop(columns=[0,1])"
   ]
  },
  {
   "cell_type": "code",
   "execution_count": 8,
   "metadata": {},
   "outputs": [
    {
     "data": {
      "text/plain": [
       "(817,)"
      ]
     },
     "execution_count": 8,
     "metadata": {},
     "output_type": "execute_result"
    }
   ],
   "source": [
    "# check the number of unique nodes\n",
    "edges['node_idx_parent'].unique().shape"
   ]
  },
  {
   "cell_type": "code",
   "execution_count": 9,
   "metadata": {},
   "outputs": [
    {
     "name": "stdout",
     "output_type": "stream",
     "text": [
      "Total number of nodes: 851\n"
     ]
    }
   ],
   "source": [
    "n_nodes = len(nodes)\n",
    "print('Total number of nodes: {}'.format(n_nodes))\n",
    "\n",
    "# define adjacency matrix of size n_nodes\n",
    "adjacency = np.zeros((n_nodes, n_nodes), dtype=int)\n",
    "\n",
    "# fill in the adjacency matrix\n",
    "for idx, row in edges.iterrows():\n",
    "    if np.isnan(row.node_idx) or np.isnan(row.node_idx_parent):\n",
    "        pass\n",
    "    else:\n",
    "        i, j = int(row.node_idx), int(row.node_idx_parent)\n",
    "        adjacency[i, j] = 1\n",
    "        adjacency[j, i] = 1"
   ]
  },
  {
   "cell_type": "code",
   "execution_count": 10,
   "metadata": {},
   "outputs": [
    {
     "data": {
      "text/plain": [
       "array([[0, 1, 1, 1, 0, 0, 0, 0, 0, 0, 0, 0, 0, 0, 0],\n",
       "       [1, 0, 1, 1, 0, 0, 0, 1, 0, 0, 0, 0, 0, 0, 0],\n",
       "       [1, 1, 0, 1, 0, 1, 0, 0, 0, 0, 0, 0, 0, 0, 0],\n",
       "       [1, 1, 1, 0, 0, 0, 1, 0, 0, 0, 0, 0, 0, 0, 0],\n",
       "       [0, 0, 0, 0, 0, 1, 1, 1, 1, 0, 0, 0, 0, 0, 0],\n",
       "       [0, 0, 1, 0, 1, 0, 1, 0, 0, 0, 0, 0, 0, 0, 0],\n",
       "       [0, 0, 0, 1, 1, 1, 0, 0, 0, 0, 0, 0, 0, 0, 0],\n",
       "       [0, 1, 0, 0, 1, 0, 0, 0, 1, 0, 0, 0, 0, 0, 0],\n",
       "       [0, 0, 0, 0, 1, 0, 0, 1, 0, 0, 0, 0, 0, 0, 0],\n",
       "       [0, 0, 0, 0, 0, 0, 0, 0, 0, 0, 1, 1, 1, 1, 1],\n",
       "       [0, 0, 0, 0, 0, 0, 0, 0, 0, 1, 0, 1, 1, 1, 1],\n",
       "       [0, 0, 0, 0, 0, 0, 0, 0, 0, 1, 1, 0, 1, 1, 1],\n",
       "       [0, 0, 0, 0, 0, 0, 0, 0, 0, 1, 1, 1, 0, 1, 1],\n",
       "       [0, 0, 0, 0, 0, 0, 0, 0, 0, 1, 1, 1, 1, 0, 1],\n",
       "       [0, 0, 0, 0, 0, 0, 0, 0, 0, 1, 1, 1, 1, 1, 0]])"
      ]
     },
     "execution_count": 10,
     "metadata": {},
     "output_type": "execute_result"
    }
   ],
   "source": [
    "# test run to view the first several entries of the adjacency matrix\n",
    "adjacency[:15, :15]"
   ]
  },
  {
   "cell_type": "markdown",
   "metadata": {},
   "source": [
    "## Part 2"
   ]
  },
  {
   "cell_type": "markdown",
   "metadata": {},
   "source": [
    "Execute the cell below to plot the (weighted) adjacency matrix of your network."
   ]
  },
  {
   "cell_type": "code",
   "execution_count": 11,
   "metadata": {},
   "outputs": [
    {
     "data": {
      "text/plain": [
       "Text(0.5,1.05,'adjacency matrix')"
      ]
     },
     "execution_count": 11,
     "metadata": {},
     "output_type": "execute_result"
    },
    {
     "data": {
      "image/png": "[encoded data removed]",
      "text/plain": [
       "<Figure size 432x288 with 1 Axes>"
      ]
     },
     "metadata": {},
     "output_type": "display_data"
    }
   ],
   "source": [
    "plt.spy(adjacency, markersize=1)\n",
    "plt.title('adjacency matrix')"
   ]
  },
  {
   "cell_type": "markdown",
   "metadata": {},
   "source": [
    "### Question 1\n",
    "\n",
    "What is the maximum number of links $L_{max}$ in a network with $N$ nodes (where $N$ is the number of nodes in your network)? How many links $L$ are there in your collected network? Comment on the sparsity of your network."
   ]
  },
  {
   "cell_type": "code",
   "execution_count": 12,
   "metadata": {},
   "outputs": [
    {
     "name": "stdout",
     "output_type": "stream",
     "text": [
      "Theoretical maximum number of links = 361675\n",
      "Total number of links = 8196\n"
     ]
    }
   ],
   "source": [
    "# theoretical Lmax given N nodes\n",
    "L_max = n_nodes * (n_nodes - 1) / 2\n",
    "print(\"Theoretical maximum number of links = {L:}\".format(L=int(L_max)))\n",
    "\n",
    "# number of links in our network\n",
    "n_links = np.count_nonzero(adjacency)/2\n",
    "print(\"Total number of links = {L:}\".format(L=int(n_links)))"
   ]
  },
  {
   "cell_type": "markdown",
   "metadata": {},
   "source": [
    "**Answer:**\n",
    "\n",
    "The maximum number of links in a network with N nodes is given by $L_{max}$ = ($N$) ($N-1$)/$2$. In our case, the network has **851 nodes** which results in a maximum of **361 675 edges**. \n",
    "\n",
    "The number of edges of our network is given by the number of non zero elements of our matrix divided by two (**8196 links**) as we are working with an undirected graph.\n",
    "\n",
    "The total number of links is much smaller than the theoretical maximum number of links at a ratio of 0.023. Therefore, the network can be considered sparse."
   ]
  },
  {
   "cell_type": "markdown",
   "metadata": {},
   "source": [
    "### Question 2\n",
    "\n",
    "Is your graph directed or undirected? If it is directed, convert it to an undirected graph by symmetrizing the adjacency matrix."
   ]
  },
  {
   "cell_type": "markdown",
   "metadata": {},
   "source": [
    "**Answer:**\n",
    "\n",
    "Our graph is undirected as the edges represent terrorist groups/names, and therefore it has no directional meaning."
   ]
  },
  {
   "cell_type": "markdown",
   "metadata": {},
   "source": [
    "### Question 3\n",
    "\n",
    "In the cell below save the features dataframe and the **symmetrized** adjacency matrix. You can use the Pandas ``to_csv`` to save the ``features`` and Numpy's ``save`` to save the ``adjacency``. We will reuse those in the following milestones."
   ]
  },
  {
   "cell_type": "code",
   "execution_count": 13,
   "metadata": {},
   "outputs": [],
   "source": [
    "# Save features and adjacency matrix\n",
    "features = terrorist_rel_coll.iloc[:,0:1225]\n",
    "features.to_csv(\"features\")\n",
    "np.save('adjacency.npy',adjacency)\n",
    "np.savetxt('adjacency.txt',adjacency)"
   ]
  },
  {
   "cell_type": "markdown",
   "metadata": {},
   "source": [
    "### Question 4\n",
    "\n",
    "Are the edges of your graph weighted?"
   ]
  },
  {
   "cell_type": "markdown",
   "metadata": {},
   "source": [
    "**Answer:**\n",
    "\n",
    "Our edges are not weighted as they only represent the existance of a relation."
   ]
  },
  {
   "cell_type": "markdown",
   "metadata": {},
   "source": [
    "### Question 5\n",
    "\n",
    "What is the degree distibution of your network? "
   ]
  },
  {
   "cell_type": "code",
   "execution_count": 14,
   "metadata": {},
   "outputs": [],
   "source": [
    "degree =  adjacency.dot(np.ones(n_nodes))\n",
    "assert len(degree) == n_nodes"
   ]
  },
  {
   "cell_type": "markdown",
   "metadata": {},
   "source": [
    "Execute the cell below to see the histogram of the degree distribution."
   ]
  },
  {
   "cell_type": "code",
   "execution_count": 15,
   "metadata": {},
   "outputs": [
    {
     "data": {
      "image/png": "[encoded data removed]",
      "text/plain": [
       "<Figure size 432x288 with 1 Axes>"
      ]
     },
     "metadata": {},
     "output_type": "display_data"
    }
   ],
   "source": [
    "weights = np.ones_like(degree) / float(n_nodes)\n",
    "plt.hist(degree, weights=weights, bins =20);"
   ]
  },
  {
   "cell_type": "markdown",
   "metadata": {},
   "source": [
    "What is the average degree?"
   ]
  },
  {
   "cell_type": "code",
   "execution_count": 16,
   "metadata": {},
   "outputs": [
    {
     "name": "stdout",
     "output_type": "stream",
     "text": [
      "Average degree: 19.26204\n"
     ]
    }
   ],
   "source": [
    "avg_degree = sum(degree)/n_nodes\n",
    "print(\"Average degree: {A:.5f}\".format(A=avg_degree))"
   ]
  },
  {
   "cell_type": "markdown",
   "metadata": {},
   "source": [
    "### Question 6\n",
    "\n",
    "Comment on the degree distribution of your network."
   ]
  },
  {
   "cell_type": "markdown",
   "metadata": {},
   "source": [
    "**Answer:**\n",
    "\n",
    "From the degree distribution, we can confirm the sparsity of our network as the maximum degree we can find (35) is far away from the theoretical maximum (850). \n",
    "\n",
    "There are only a few nodes about the average degree, and we can distinguish two groups with two 'peaks' (below and above degree 20) where there are the greatest number of nodes with degree between 10 and 13 or between 27 and 30. This indicates that there is roughly equal numbers of nodes above and below the average degree, and may have an implication of a disconnected graph with two or more connected components.\n",
    "\n",
    "This is characteristically different from a random network, which has the greatest number of nodes about the average degree and nearly no hubs. This is somewhat similar to but also characteristically different from a scale-free network, which has many nodes with a low degree and a few hubs. This is again largely due to the fact that our network has only a few nodes with the average degree."
   ]
  },
  {
   "cell_type": "markdown",
   "metadata": {},
   "source": [
    "### Defining breadth first search algorithm"
   ]
  },
  {
   "cell_type": "code",
   "execution_count": 17,
   "metadata": {},
   "outputs": [],
   "source": [
    "# define breadth first search algorithm which will be useful for answering some of questions 7 - 14\n",
    "\n",
    "def breadth_first_search(graph, start):\n",
    "    '''Takes the adjacencay matrix (graph) and the startin vertex.\n",
    "    Returns a dictionary whose keys represent (hop) distance from start vertex\\\n",
    "    and values represent all vertices located at that distance from start vertex.\n",
    "    Only the shortest path is counted.'''\n",
    "    \n",
    "    # define a set for all visited nodes.\n",
    "    visited = set()\n",
    "    # define dictionary; keys are distances; values are vertices at that distance (from start vertex)\n",
    "    visited_dict = dict({0: {start}})\n",
    "    # define a set to keep track of all searched nodes in the BFS algorithm\n",
    "    searched = set([start])\n",
    "    \n",
    "    # all vertices found in the process of BFS are added to the list\n",
    "    queue = [start]\n",
    "    while queue:\n",
    "        # next vertex in the queue\n",
    "        vertex = queue.pop(0)\n",
    "        \n",
    "        if vertex not in visited:\n",
    "            visited.add(vertex)\n",
    "            \n",
    "            # define all the neighbors of the current vertex\n",
    "            neighbors = set([i for i, x in enumerate(adjacency[vertex]) if x==1])\n",
    "            \n",
    "            # get key of current vertex\n",
    "            for n in range(len(list(visited_dict.values()))):\n",
    "                if vertex in list(visited_dict.values())[n]:\n",
    "                    key = list(visited_dict.keys())[list(visited_dict.values()).index(list(visited_dict.values())[n])]\n",
    "\n",
    "            # create a new key if key + 1 does not exist yet\n",
    "            if visited_dict.get(key+1) == None: \n",
    "                visited_dict.update({key+1: set()}) # define an empty set for the value of new key\n",
    "            # update the value of the new key\n",
    "            visited_dict.get(key+1).update(neighbors - searched)\n",
    "            searched.update(neighbors)\n",
    "            \n",
    "            # add only ones that have not yet been visited to the queue\n",
    "            queue.extend(neighbors - visited)\n",
    "    return visited_dict"
   ]
  },
  {
   "cell_type": "markdown",
   "metadata": {},
   "source": [
    "### Question 7\n",
    "\n",
    "Write a function that takes as input the adjacency matrix of a graph and determines whether the graph is connected or not."
   ]
  },
  {
   "cell_type": "code",
   "execution_count": 18,
   "metadata": {},
   "outputs": [],
   "source": [
    "def connected_graph(adjacency):\n",
    "    \"\"\"Determines whether a graph is connected.\n",
    "    \n",
    "    Parameters\n",
    "    ----------\n",
    "    adjacency: numpy array\n",
    "        The (weighted) adjacency matrix of a graph.\n",
    "    \n",
    "    Returns\n",
    "    -------\n",
    "    bool\n",
    "        True if the graph is connected, False otherwise.\n",
    "    \"\"\"\n",
    "    \n",
    "    # define all nodes visited in the BFS algorithm when we start from a randomly chosen vertex\n",
    "    starting_vertex = 0\n",
    "    visited_dict = breadth_first_search(adjacency, starting_vertex)\n",
    "    # count total number of vertices\n",
    "    temp_list = list(visited_dict.values())[:-1] #by default, the last element is an empty set\n",
    "    count = 0\n",
    "    for i in range(len(temp_list)):\n",
    "        count += len(temp_list[i])\n",
    "    \n",
    "    # if number of visited vertices equal to total number of vertices, then graph is connected\n",
    "    if count == len(adjacency):\n",
    "        return True\n",
    "    \n",
    "    return False"
   ]
  },
  {
   "cell_type": "markdown",
   "metadata": {},
   "source": [
    "Is your graph connected? Run the ``connected_graph`` function to determine your answer."
   ]
  },
  {
   "cell_type": "code",
   "execution_count": 19,
   "metadata": {},
   "outputs": [
    {
     "name": "stdout",
     "output_type": "stream",
     "text": [
      "False\n"
     ]
    }
   ],
   "source": [
    "print(connected_graph(adjacency))"
   ]
  },
  {
   "cell_type": "markdown",
   "metadata": {},
   "source": [
    "***Answer:***\n",
    "No, the graph is not connected."
   ]
  },
  {
   "cell_type": "markdown",
   "metadata": {},
   "source": [
    "### Question 8\n",
    "\n",
    "Write a function that extracts the connected components of a graph."
   ]
  },
  {
   "cell_type": "code",
   "execution_count": 20,
   "metadata": {},
   "outputs": [],
   "source": [
    "def find_components(adjacency):\n",
    "    \"\"\"Find the connected components of a graph.\n",
    "    \n",
    "    Parameters\n",
    "    ----------\n",
    "    adjacency: numpy array\n",
    "        The (weighted) adjacency matrix of a graph.\n",
    "    \n",
    "    Returns\n",
    "    -------\n",
    "    list of numpy arrays\n",
    "        A list of adjacency matrices, one per connected component.\n",
    "    \"\"\"\n",
    "    \n",
    "    components = []\n",
    "    # initially, the search list is all the nodes\n",
    "    search_list = set(range(len(adjacency)))\n",
    "    \n",
    "    # run until the search_list is exhausted\n",
    "    while search_list:\n",
    "        # next vertex in queue\n",
    "        vertex = list(search_list).pop(0)\n",
    "        \n",
    "        # define an empty adjacency matrix for a component\n",
    "        component = np.zeros((len(adjacency), len(adjacency)), dtype=int)\n",
    "        \n",
    "        visited_dict = breadth_first_search(adjacency, vertex)\n",
    "        \n",
    "        # define empty set to collect all nodes in the component\n",
    "        all_nodes = set()\n",
    "        nodes_sets = list(visited_dict.values())[:-1] #by default, the last element is an empty set\n",
    "        for i in range(len(nodes_sets)):\n",
    "            all_nodes.update(nodes_sets[i])\n",
    "        \n",
    "        # create the adjacency matrix for the component\n",
    "        component[list(all_nodes),:] = adjacency[list(all_nodes),:]\n",
    "        component[:,list(all_nodes)] = adjacency[:,list(all_nodes)]\n",
    "        \n",
    "        # reduce search list by all vertices found in 'visited'\n",
    "        search_list = search_list - all_nodes\n",
    "\n",
    "        # add component to list\n",
    "        components.append(component)\n",
    "    \n",
    "    return components"
   ]
  },
  {
   "cell_type": "markdown",
   "metadata": {},
   "source": [
    "How many connected components is your network composed of? What is the size of the largest connected component? Run the ``find_components`` function to determine your answer. "
   ]
  },
  {
   "cell_type": "code",
   "execution_count": 21,
   "metadata": {},
   "outputs": [
    {
     "name": "stdout",
     "output_type": "stream",
     "text": [
      "Number of connected components: 13\n",
      "Size of the largest component: 665 nodes (and 851 links)\n"
     ]
    }
   ],
   "source": [
    "# find all components within the network\n",
    "components = find_components(adjacency)\n",
    "print(\"Number of connected components: {N:}\".format(N=len(components)))\n",
    "\n",
    "def num_nodes(adjacency):\n",
    "    '''outputs the number of nodes in a graph given that it is connected'''\n",
    "    return np.count_nonzero(np.sum(adjacency, axis=1))\n",
    "\n",
    "# find largest component\n",
    "def find_largest_component(components):\n",
    "    '''Takes the list of all components as input.\n",
    "    Returns the largest component (in terms of number of nodes) and its size.'''\n",
    "    size = 0\n",
    "    for c in range(len(components)):\n",
    "        n = num_nodes(components[c])\n",
    "        if n > size:\n",
    "            size = n\n",
    "            largest_component_index = c\n",
    "    return components[largest_component_index], size\n",
    "\n",
    "largest_component, size = find_largest_component(components)\n",
    "print(\"Size of the largest component: {N:} nodes (and {L:} links)\".format(N=size, L=len(largest_component.dot(np.ones(len(adjacency))))))"
   ]
  },
  {
   "cell_type": "markdown",
   "metadata": {},
   "source": [
    "### Graphical representation of the components"
   ]
  },
  {
   "cell_type": "code",
   "execution_count": 22,
   "metadata": {},
   "outputs": [
    {
     "name": "stdout",
     "output_type": "stream",
     "text": [
      "848\n"
     ]
    },
    {
     "data": {
      "image/png": "[encoded data removed]",
      "text/plain": [
       "<Figure size 432x288 with 1 Axes>"
      ]
     },
     "metadata": {},
     "output_type": "display_data"
    },
    {
     "data": {
      "image/png": "[encoded data removed]",
      "text/plain": [
       "<Figure size 432x288 with 1 Axes>"
      ]
     },
     "metadata": {},
     "output_type": "display_data"
    },
    {
     "data": {
      "image/png": "[encoded data removed]",
      "text/plain": [
       "<Figure size 432x288 with 1 Axes>"
      ]
     },
     "metadata": {},
     "output_type": "display_data"
    },
    {
     "data": {
      "image/png": "[encoded data removed]",
      "text/plain": [
       "<Figure size 432x288 with 1 Axes>"
      ]
     },
     "metadata": {},
     "output_type": "display_data"
    },
    {
     "data": {
      "image/png": "[encoded data removed]",
      "text/plain": [
       "<Figure size 432x288 with 1 Axes>"
      ]
     },
     "metadata": {},
     "output_type": "display_data"
    },
    {
     "data": {
      "image/png": "[encoded data removed]",
      "text/plain": [
       "<Figure size 432x288 with 1 Axes>"
      ]
     },
     "metadata": {},
     "output_type": "display_data"
    },
    {
     "data": {
      "image/png": "[encoded data removed]",
      "text/plain": [
       "<Figure size 432x288 with 1 Axes>"
      ]
     },
     "metadata": {},
     "output_type": "display_data"
    },
    {
     "data": {
      "image/png": "[encoded data removed]",
      "text/plain": [
       "<Figure size 432x288 with 1 Axes>"
      ]
     },
     "metadata": {},
     "output_type": "display_data"
    },
    {
     "data": {
      "image/png": "[encoded data removed]",
      "text/plain": [
       "<Figure size 432x288 with 1 Axes>"
      ]
     },
     "metadata": {},
     "output_type": "display_data"
    },
    {
     "data": {
      "image/png": "[encoded data removed]",
      "text/plain": [
       "<Figure size 432x288 with 1 Axes>"
      ]
     },
     "metadata": {},
     "output_type": "display_data"
    },
    {
     "data": {
      "image/png": "[encoded data removed]",
      "text/plain": [
       "<Figure size 432x288 with 1 Axes>"
      ]
     },
     "metadata": {},
     "output_type": "display_data"
    },
    {
     "data": {
      "image/png": "[encoded data removed]",
      "text/plain": [
       "<Figure size 432x288 with 1 Axes>"
      ]
     },
     "metadata": {},
     "output_type": "display_data"
    },
    {
     "data": {
      "image/png": "[encoded data removed]",
      "text/plain": [
       "<Figure size 432x288 with 1 Axes>"
      ]
     },
     "metadata": {},
     "output_type": "display_data"
    }
   ],
   "source": [
    "n_nodes_comp = 0\n",
    "for i, component in enumerate(components):\n",
    "    plt.figure()\n",
    "    plt.spy(component, markersize=1)\n",
    "    plt.title(\"Component number {i:}, made of {nodes:} nodes\".format(i=i, nodes=num_nodes(component)))\n",
    "    n_nodes_comp += num_nodes(component)\n",
    "print(n_nodes_comp)"
   ]
  },
  {
   "cell_type": "markdown",
   "metadata": {},
   "source": [
    "### Question 9\n",
    "\n",
    "Write a function that takes as input the adjacency matrix and a node (`source`) and returns the length of the shortest path between that node and all nodes in the graph using Dijkstra's algorithm. **For the purposes of this assignment we are interested in the hop distance between nodes, not in the sum of weights. **\n",
    "\n",
    "Hint: You might want to mask the adjacency matrix in the function ``compute_shortest_path_lengths`` in order to make sure you obtain a binary adjacency matrix. "
   ]
  },
  {
   "cell_type": "code",
   "execution_count": 23,
   "metadata": {},
   "outputs": [],
   "source": [
    "def compute_shortest_path_lengths(adjacency, source):\n",
    "    \"\"\"Compute the shortest path length between a source node and all nodes.\n",
    "    \n",
    "    Parameters\n",
    "    ----------\n",
    "    adjacency: numpy array\n",
    "        The (weighted) adjacency matrix of a graph.\n",
    "    source: int\n",
    "        The source node. A number between 0 and n_nodes-1.\n",
    "    \n",
    "    Returns\n",
    "    -------\n",
    "    list of ints\n",
    "        The length of the shortest path from source to all nodes. Returned list should be of length n_nodes.\n",
    "    \"\"\"\n",
    "    \n",
    "    shortest_path_lengths = np.zeros(len(adjacency)) - 1\n",
    "    visited_dict = breadth_first_search(adjacency, source)\n",
    "    \n",
    "    list_visited_values = list(visited_dict.values())\n",
    "    list_visited_keys = list(visited_dict.keys())\n",
    "    \n",
    "    for node in range(len(adjacency)):\n",
    "        for n in range(len(list_visited_values)):\n",
    "                if node in list(list_visited_values)[n]:\n",
    "                    # the keys in the distionary are hop distances\n",
    "                    shortest_path_length = list_visited_keys[list_visited_values.index(list_visited_values[n])]\n",
    "                    shortest_path_lengths[node] = int(shortest_path_length)\n",
    "        \n",
    "    # entries whose values are -1 mean they were disconnected\n",
    "    shortest_path_lengths[shortest_path_lengths == -1] = float('inf')\n",
    "    \n",
    "    return shortest_path_lengths"
   ]
  },
  {
   "cell_type": "code",
   "execution_count": 24,
   "metadata": {},
   "outputs": [],
   "source": [
    "# test run\n",
    "shortest_path_lengths = compute_shortest_path_lengths(adjacency, 4)\n",
    "# node 333 is part of the second component, made of 21 nodes, as seen above\n",
    "shortest_path_lengths_2 = compute_shortest_path_lengths(adjacency, 333)"
   ]
  },
  {
   "cell_type": "code",
   "execution_count": 25,
   "metadata": {},
   "outputs": [
    {
     "name": "stdout",
     "output_type": "stream",
     "text": [
      "21\n",
      "665\n",
      "[ 2.  2.  2.  2.  0.  1.  1.  1.  1.  2.  2.  2.  2.  2.  2.  2.  2.  2.\n",
      "  2.  2.  2.  3.  3.  3.  3.  3.  3. inf  4.  4.  4.  7.  4.  4.  4.  4.\n",
      "  4.  4.  4.  4.  3.  4.  4.  4.  7.  7. inf inf inf inf  4.  4.  4.  6.\n",
      "  5.  5.  3.  3.  3.  3.  3.  3.  6.  5.  5.  6. inf inf inf  7. inf inf\n",
      "  4.  4.  4.  5.  5.  3.  3.  3.  3.  3.  3.  3.  3.  3.  3.  3.  3.  3.\n",
      "  3.  5.  5.  5.  5.  5.  5.  5.  5.  5.  5.  5.  5.  5.  5.  5.  5.  5.\n",
      "  5.  5.  5.  8.  8.  8. inf  7.  7.  5.  5.  8.  8.  8.  8.  5.  5.  5.\n",
      "  5.  5.  5.  7.  8.  8.  5.  5.  5.  5.  5.  5.  3.  3.  3.  5.  5.  5.\n",
      "  5.  5.  5.  5. inf  5.  3.  3.  3. inf  5.  5.  5.  5.  5.  8.  7.  8.\n",
      "  8.  7. inf inf inf  4.  6.  7.  5.  5.  5.  5.  5. inf inf  5.  5.  5.\n",
      "  5.  3.  3.  3.  6.  5.  7.  7.  7.  7. inf  9. inf inf  5.  5.  5.  7.\n",
      " inf inf  5.  5.  5.  5.  5.  3.  3.  5. inf  8.  8.  8.  7.  5.  5.  8.\n",
      "  8.  4. inf  3.  3.  8.  7.  5.  5.  8.  3.  5.  8.  5.  3. inf inf  7.\n",
      "  6.  1.  9. inf inf inf inf inf inf inf inf inf inf inf inf inf inf inf\n",
      " inf inf inf inf inf inf inf  4.  2.  2.  8. inf inf inf inf inf inf inf\n",
      " inf inf inf inf inf inf inf inf inf inf inf inf inf inf inf inf inf inf\n",
      " inf inf inf inf inf inf inf inf inf inf inf  7.  7.  1. inf  4.  4.  3.\n",
      "  4.  4.  6.  3.  5.  6.  4.  4.  4.  4.  5.  4.  6.  5.  6.  4.  4.  5.\n",
      "  5.  4.  4.  4.  3.  3. inf  3.  3. inf inf inf  6.  8.  5.  7.  6.  7.\n",
      "  7.  4.  3. inf  8.  9.  4.  6. inf  7.  4.  3.  4.  3.  6. inf  4.  7.\n",
      "  6.  2.  6.  5.  3.  3.  4.  4.  2.  5.  4.  9.  6.  6.  6.  6.  6.  6.\n",
      "  6.  6.  6.  6.  6.  6.  6.  6.  5.  6.  6.  6.  6.  8.  6.  6.  6.  6.\n",
      "  6.  6.  5.  6.  6.  6.  7.  8.  5.  5.  5.  5.  6.  6.  6.  6.  6.  6.\n",
      "  6.  6.  6.  7.  7.  6.  6.  6.  6.  6.  6.  1.  1.  2.  1.  1.  1. inf\n",
      "  1.  1.  1.  2.  2.  2.  2.  2.  2.  2.  2.  2.  2.  2.  7.  3.  3.  3.\n",
      "  3.  3.  3.  4. inf  4.  4.  4.  7.  4.  4.  4.  4.  4.  4.  4.  4.  4.\n",
      "  4.  4.  4.  7.  6. inf inf inf  4.  4.  4.  6.  5.  5.  5.  3.  3.  3.\n",
      "  3.  3.  5.  5.  5.  5. inf inf inf inf inf inf  4.  4.  4.  4.  4.  5.\n",
      "  5.  5.  6.  3.  3.  3.  3.  3.  3.  3.  3.  3.  3.  3.  3.  3.  5.  5.\n",
      "  5.  5.  5.  5.  5.  5.  5.  5.  5.  5.  5.  5.  5.  5.  5.  5.  5. inf\n",
      "  7.  8.  8.  7.  6.  7.  5.  8.  7.  8.  5.  5.  5.  5.  5.  5.  5.  8.\n",
      "  8.  5.  5.  5.  5.  5.  5.  3.  3.  3.  3.  5.  5.  5.  5.  5.  5. inf\n",
      "  5.  5.  3.  3.  3. inf  5.  5.  5.  5.  5.  8.  8. inf inf inf  4.  7.\n",
      " inf  5.  5.  5.  5. inf inf inf  5.  5.  5.  5.  3.  3. inf  6.  5.  7.\n",
      "  7.  7. inf  5. inf inf  5.  5.  5.  5.  5. inf  5.  5.  5.  5.  5.  5.\n",
      "  3.  3. inf  8.  7.  8.  8.  8.  5.  5.  7.  4. inf inf  3.  7.  7.  7.\n",
      "  5.  8.  8.  3.  5.  8.  8. inf inf inf  8.  5.  9.  8. inf inf inf inf\n",
      " inf inf  7. inf inf inf inf inf inf inf inf inf inf inf inf inf inf inf\n",
      "  3.  6.  9.  8. inf inf inf inf inf inf inf inf inf inf inf inf inf inf\n",
      " inf inf inf inf inf inf inf inf inf inf inf inf inf inf inf inf inf inf\n",
      " inf inf inf  7.  1.  7.  1.  3.  4.  4.  4.  5.  6.  6.  4.  6.  6.  4.\n",
      "  3.  4.  3.  3.  5.  6.  6.  4.  4.  6.  5.  5.  4.  3.  3.  3.  5.  3.\n",
      "  3.  3. inf inf  6.  8.  8.  7.  7.  6.  7.  4.  4.  3. inf  6. 10.  8.\n",
      "  5. inf  6.  4.  4.  4.  6.  7.  4.  4.  7.  6.  6.  4.  2.  3.  6.  4.\n",
      " inf  5.  9.  7. 10. 10.  6.  5.  6.  6.  6.  6.  6.  5.  6.  6.  6.  6.\n",
      "  6.  6.  6.  6.  6.  6.  6.  6.  5.  6.  6.  6.  6.  6.  6.  6.  6.  6.\n",
      "  8.  5.  5.  5.  5.  5.  6.  6.  6.  6.  6.  6.  6.  6.  6.  8.  6.  6.\n",
      "  6.  6.  6.  6.  6.]\n"
     ]
    }
   ],
   "source": [
    "print(len(np.where(shortest_path_lengths_2 != float('inf'))[0])) # number of non inf for component 2\n",
    "print(len(np.where(shortest_path_lengths != float('inf'))[0])) # number of non inf for component 0\n",
    "print(shortest_path_lengths)"
   ]
  },
  {
   "cell_type": "markdown",
   "metadata": {},
   "source": [
    "### Question 10\n",
    "\n",
    "The diameter of the graph is the length of the longest shortest path between any pair of nodes. Use the above developed function to compute the diameter of the graph (or the diameter of the largest connected component of the graph if the graph is not connected). If your graph (or largest connected component) is very large, computing the diameter will take very long. In that case downsample your graph so that it has 1.000 nodes. There are many ways to reduce the size of a graph. For the purposes of this milestone you can chose to randomly select 1.000 nodes. "
   ]
  },
  {
   "cell_type": "code",
   "execution_count": 26,
   "metadata": {},
   "outputs": [
    {
     "data": {
      "text/plain": [
       "(851, 851)"
      ]
     },
     "execution_count": 26,
     "metadata": {},
     "output_type": "execute_result"
    }
   ],
   "source": [
    "largest_component.shape"
   ]
  },
  {
   "cell_type": "code",
   "execution_count": 27,
   "metadata": {},
   "outputs": [],
   "source": [
    "def compute_diameter(adjacency):\n",
    "    \"\"\"returns the diameter of the provided graph.\\\n",
    "    Returns diameter (length of the longest shortest path between any pair of nodes)\"\"\"\n",
    "    \n",
    "    # number of nodes in the graph\n",
    "    list_of_nodes = np.where(np.sum(adjacency, axis=1) > 0)[0]\n",
    "    # initialize diameter to be 0\n",
    "    diameter = 0\n",
    "    \n",
    "    for _, node in enumerate(list_of_nodes):\n",
    "        shortest_path_lengths = compute_shortest_path_lengths(adjacency, node)\n",
    "        \n",
    "        # exclude infinite distances i.e. disconnected nodes\n",
    "        shortest_path_lengths = shortest_path_lengths[shortest_path_lengths != float('inf')]\n",
    "        max_s = max(shortest_path_lengths)\n",
    "        \n",
    "        if max_s > diameter:\n",
    "            diameter = max_s\n",
    "    \n",
    "    return int(diameter)"
   ]
  },
  {
   "cell_type": "code",
   "execution_count": 28,
   "metadata": {},
   "outputs": [
    {
     "name": "stdout",
     "output_type": "stream",
     "text": [
      "Diameter of network: 14\n"
     ]
    }
   ],
   "source": [
    "diameter = compute_diameter(largest_component)\n",
    "print(\"Diameter of network: {D:}\".format(D=diameter))"
   ]
  },
  {
   "cell_type": "markdown",
   "metadata": {},
   "source": [
    "### Question 11\n",
    "\n",
    "Write a function that takes as input the adjacency matrix, a path length, and two nodes (`source` and `target`), and returns the number of paths of the given length between them."
   ]
  },
  {
   "cell_type": "code",
   "execution_count": 30,
   "metadata": {},
   "outputs": [],
   "source": [
    "def compute_paths(adjacency, source, target, length):\n",
    "    \"\"\"Compute the number of paths of a given length between a source and target node.\n",
    "    \n",
    "    Parameters\n",
    "    ----------\n",
    "    adjacency: numpy array\n",
    "        The (weighted) adjacency matrix of a graph.\n",
    "    source: int\n",
    "        The source node. A number between 0 and n_nodes-1.\n",
    "    target: int\n",
    "        The target node. A number between 0 and n_nodes-1.\n",
    "    length: int\n",
    "        The path length to be considered.\n",
    "    \n",
    "    Returns\n",
    "    -------\n",
    "    int\n",
    "        The number of paths.\n",
    "    \"\"\"\n",
    "    \n",
    "    #First, check if there is at least one path and if the shortest path is not longer than we require.\n",
    "    distance = compute_shortest_path_lengths(adjacency, source)[target]\n",
    "\n",
    "    if distance > length:\n",
    "        return 0\n",
    "    \n",
    "    else:\n",
    "        A = np.linalg.matrix_power(adjacency,length)\n",
    "        return A[source,target]"
   ]
  },
  {
   "cell_type": "markdown",
   "metadata": {},
   "source": [
    "Test your function on 5 pairs of nodes, with different lengths."
   ]
  },
  {
   "cell_type": "code",
   "execution_count": 31,
   "metadata": {},
   "outputs": [
    {
     "name": "stdout",
     "output_type": "stream",
     "text": [
      "0\n",
      "0\n",
      "2\n",
      "0\n",
      "12\n"
     ]
    }
   ],
   "source": [
    "print(compute_paths(adjacency, 0, 10, 1))\n",
    "print(compute_paths(adjacency, 0, 10, 2))\n",
    "print(compute_paths(adjacency, 0, 10, 3))\n",
    "print(compute_paths(adjacency, 13, 67, 2))\n",
    "print(compute_paths(adjacency, 15, 93, 4))"
   ]
  },
  {
   "cell_type": "markdown",
   "metadata": {},
   "source": [
    "### Question 12\n",
    "\n",
    "How many paths of length 3 are there in your graph? Hint: calling the `compute_paths` function on every pair of node is not an efficient way to do it."
   ]
  },
  {
   "cell_type": "code",
   "execution_count": 32,
   "metadata": {},
   "outputs": [
    {
     "data": {
      "text/plain": [
       "5216465"
      ]
     },
     "execution_count": 32,
     "metadata": {},
     "output_type": "execute_result"
    }
   ],
   "source": [
    "def number_paths(adjacency, length):\n",
    "    A = np.linalg.matrix_power(adjacency,length)\n",
    "    A_paths = np.triu(A)\n",
    "    return np.sum(A_paths)\n",
    "\n",
    "number_paths(adjacency, 3)"
   ]
  },
  {
   "cell_type": "markdown",
   "metadata": {},
   "source": [
    "Our network has **5216465** paths of length 3"
   ]
  },
  {
   "cell_type": "markdown",
   "metadata": {},
   "source": [
    "### Question 13\n",
    "\n",
    "Write a function that takes as input the adjacency matrix of your graph (or of the largest connected component of your graph) and a node and returns the clustering coefficient of that node. "
   ]
  },
  {
   "cell_type": "code",
   "execution_count": 33,
   "metadata": {},
   "outputs": [],
   "source": [
    "def compute_clustering_coefficient(adjacency, node):\n",
    "    \"\"\"Compute the clustering coefficient of a node.\n",
    "    \n",
    "    Parameters\n",
    "    ----------\n",
    "    adjacency: numpy array\n",
    "        The (weighted) adjacency matrix of a graph.\n",
    "    node: int\n",
    "        The node whose clustering coefficient will be computed. A number between 0 and n_nodes-1.\n",
    "    \n",
    "    Returns\n",
    "    -------\n",
    "    float\n",
    "        The clustering coefficient of the node. A number between 0 and 1.\n",
    "    \"\"\"\n",
    "    \n",
    "    # CC  =2*L/(k*(k-1))\n",
    "    # k := Number of neighbors\n",
    "    # L := Number of links between neighbor nodes\n",
    "    \n",
    "    # Get the list of all neighbor nodes\n",
    "    neighbors = np.nonzero(adjacency[:,node])[0]\n",
    "\n",
    "    k = len(neighbors)\n",
    "    if k < 2:\n",
    "        return 0\n",
    "    \n",
    "    # Generate adjacency matrix of neighbor nodes to count their links\n",
    "    else:\n",
    "        A = np.take(np.take(adjacency, neighbors, axis=0), neighbors, axis=1)\n",
    "        L = np.sum(A)/2\n",
    "        clustering_coefficient = 2*L/(k*(k-1))\n",
    "    \n",
    "    \n",
    "    return float(clustering_coefficient)"
   ]
  },
  {
   "cell_type": "code",
   "execution_count": 34,
   "metadata": {},
   "outputs": [
    {
     "name": "stdout",
     "output_type": "stream",
     "text": [
      "Clustering coefficient for node 749: 0.84848\n"
     ]
    }
   ],
   "source": [
    "# Select a node\n",
    "node = 749\n",
    "# Get the largest component of our graph which includes our node\n",
    "components = find_components(adjacency)\n",
    "c = np.array([sum(A[node,:]) for A in components])\n",
    "if (len(np.where(c > 0)[0]) == 0):\n",
    "    print(\"Clustering coefficient for node {J}: {A}\".format(J= node,A = 0))\n",
    "else:\n",
    "    adj = components[np.where(c > 0)[0][0]]\n",
    "    print(\"Clustering coefficient for node {J}: {A:.5f}\".format(J= node, A=compute_clustering_coefficient(adjacency,node)))"
   ]
  },
  {
   "cell_type": "markdown",
   "metadata": {},
   "source": [
    "### Question 14\n",
    "\n",
    "What is the average clustering coefficient of your graph (or of the largest connected component of your graph if your graph is disconnected)? Use the function ``compute_clustering_coefficient`` to determine your answer."
   ]
  },
  {
   "cell_type": "code",
   "execution_count": 35,
   "metadata": {},
   "outputs": [
    {
     "name": "stdout",
     "output_type": "stream",
     "text": [
      "Size of largest connected component: 665\n",
      "Average clustering coefficient: 0.57030\n"
     ]
    }
   ],
   "source": [
    "largest_component, size = find_largest_component(components)\n",
    "nodes = np.where(np.sum(largest_component, axis=1) > 0)[0]\n",
    "\n",
    "CC = [compute_clustering_coefficient(largest_component, i) for i in nodes]\n",
    "print(\"Size of largest connected component: {}\".format(size))\n",
    "print(\"Average clustering coefficient: {A:.5f}\".format(A = sum(CC)/len(CC)))"
   ]
  },
  {
   "cell_type": "markdown",
   "metadata": {},
   "source": [
    "### Total execution time:"
   ]
  },
  {
   "cell_type": "code",
   "execution_count": 36,
   "metadata": {},
   "outputs": [
    {
     "name": "stdout",
     "output_type": "stream",
     "text": [
      "--- 216.12737488746643 seconds ---\n"
     ]
    }
   ],
   "source": [
    "print(\"--- %s seconds ---\" % (time.time() - start_time))"
   ]
  }
 ],
 "metadata": {
  "kernelspec": {
   "display_name": "Python 3",
   "language": "python",
   "name": "python3"
  },
  "language_info": {
   "codemirror_mode": {
    "name": "ipython",
    "version": 3
   },
   "file_extension": ".py",
   "mimetype": "text/x-python",
   "name": "python",
   "nbconvert_exporter": "python",
   "pygments_lexer": "ipython3",
   "version": "3.6.5"
  }
 },
 "nbformat": 4,
 "nbformat_minor": 2
}

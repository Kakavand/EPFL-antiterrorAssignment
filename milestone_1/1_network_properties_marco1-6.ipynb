{
 "cells": [
  {
   "cell_type": "markdown",
   "metadata": {},
   "source": [
    "# NTDS'18 milestone 1: network collection and properties\n",
    "[Effrosyni Simou](https://lts4.epfl.ch/simou), [EPFL LTS4](https://lts4.epfl.ch)"
   ]
  },
  {
   "cell_type": "markdown",
   "metadata": {},
   "source": [
    "## Students\n",
    "\n",
    "* Team: `27`\n",
    "* Students: `Abrate Marco Pietro, Brun Natalie Bolon, Kakavandy Shahow, Park Jangwon`\n",
    "* Dataset: `Terrorist attacks and relations`"
   ]
  },
  {
   "cell_type": "markdown",
   "metadata": {},
   "source": [
    "## Rules\n",
    "\n",
    "* Milestones have to be completed by teams. No collaboration between teams is allowed.\n",
    "* Textual answers shall be short. Typically one to three sentences.\n",
    "* Code has to be clean.\n",
    "* You cannot import any other library than we imported.\n",
    "* When submitting, the notebook is executed and the results are stored. I.e., if you open the notebook again it should show numerical results and plots. We won't be able to execute your notebooks.\n",
    "* The notebook is re-executed from a blank state before submission. That is to be sure it is reproducible. You can click \"Kernel\" then \"Restart & Run All\" in Jupyter."
   ]
  },
  {
   "cell_type": "markdown",
   "metadata": {},
   "source": [
    "## Objective "
   ]
  },
  {
   "cell_type": "markdown",
   "metadata": {},
   "source": [
    "The purpose of this milestone is to start getting acquainted to the network that you will use for this class. In the first part of the milestone you will import your data using [Pandas](http://pandas.pydata.org) and you will create the adjacency matrix using [Numpy](http://www.numpy.org). This part is project specific. In the second part you will have to compute some basic properties of your network. **For the computation of the properties you are only allowed to use the packages that have been imported in the cell below.** You are not allowed to use any graph-specific toolboxes for this milestone (such as networkx and PyGSP). Furthermore, the aim is not to blindly compute the network properties, but to also start to think about what kind of network you will be working with this semester. "
   ]
  },
  {
   "cell_type": "code",
   "execution_count": 100,
   "metadata": {},
   "outputs": [],
   "source": [
    "import numpy as np\n",
    "import pandas as pd\n",
    "import matplotlib.pyplot as plt"
   ]
  },
  {
   "cell_type": "markdown",
   "metadata": {},
   "source": [
    "## Part 1 - Import your data and manipulate them. "
   ]
  },
  {
   "cell_type": "markdown",
   "metadata": {},
   "source": [
    "###  A. Load your data in a Panda dataframe."
   ]
  },
  {
   "cell_type": "markdown",
   "metadata": {},
   "source": [
    "First, you should define and understand what are your nodes, what features you have and what are your labels. Please provide below a Panda dataframe where each row corresponds to a node with its features and labels. For example, in the the case of the Free Music Archive (FMA) Project, each row of the dataframe would be of the following form:\n",
    "\n",
    "\n",
    "| Track   |  Feature 1  | Feature 2 | . . . | Feature 518|  Label 1 |  Label 2 |. . .|Label 16|\n",
    "|:-------:|:-----------:|:---------:|:-----:|:----------:|:--------:|:--------:|:---:|:------:|\n",
    "|         |             |           |       |            |          |          |     |        |\n",
    "\n",
    "It is possible that in some of the projects either the features or the labels are not available. This is OK, in that case just make sure that you create a dataframe where each of the rows corresponds to a node and its associated features or labels."
   ]
  },
  {
   "cell_type": "code",
   "execution_count": 101,
   "metadata": {
    "scrolled": false
   },
   "outputs": [
    {
     "name": "stderr",
     "output_type": "stream",
     "text": [
      "C:\\Users\\Marco\\Documents\\EPFL\\NTDS_2018\\milestone_1\\data_load_parsing.py:36: ParserWarning: Falling back to the 'python' engine because the 'c' engine does not support regex separators (separators > 1 char and different from '\\s+' are interpreted as regex); you can avoid this warning by specifying engine='python'.\n",
      "  terrorist_rel_coll = pd.read_csv(file_path3, sep='\\t|' '', header=None)\n",
      "C:\\Users\\Marco\\Anaconda3\\lib\\site-packages\\pandas\\io\\parsers.py:2230: FutureWarning: split() requires a non-empty pattern match.\n",
      "  yield pat.split(line.strip())\n",
      "C:\\Users\\Marco\\Anaconda3\\lib\\site-packages\\pandas\\io\\parsers.py:2232: FutureWarning: split() requires a non-empty pattern match.\n",
      "  yield pat.split(line.strip())\n",
      "C:\\Users\\Marco\\Documents\\EPFL\\NTDS_2018\\milestone_1\\data_load_parsing.py:40: ParserWarning: Falling back to the 'python' engine because the 'c' engine does not support regex separators (separators > 1 char and different from '\\s+' are interpreted as regex); you can avoid this warning by specifying engine='python'.\n",
      "  terrorist_rel_cong = pd.read_csv(file_path4, sep='\\t|' '', header=None)\n",
      "C:\\Users\\Marco\\Documents\\EPFL\\NTDS_2018\\milestone_1\\data_load_parsing.py:44: ParserWarning: Falling back to the 'python' engine because the 'c' engine does not support regex separators (separators > 1 char and different from '\\s+' are interpreted as regex); you can avoid this warning by specifying engine='python'.\n",
      "  terrorist_rel_cont = pd.read_csv(file_path5, sep='\\t|' '', header=None)\n",
      "C:\\Users\\Marco\\Documents\\EPFL\\NTDS_2018\\milestone_1\\data_load_parsing.py:48: ParserWarning: Falling back to the 'python' engine because the 'c' engine does not support regex separators (separators > 1 char and different from '\\s+' are interpreted as regex); you can avoid this warning by specifying engine='python'.\n",
      "  terrorist_rel_fam = pd.read_csv(file_path6, sep='\\t|' '', header=None)\n"
     ]
    }
   ],
   "source": [
    "from data_load_parsing import *\n",
    "tr_labels, tr_edges, tr_coll, tr_cong, tr_cont, tr_fam = data_load_parsing()"
   ]
  },
  {
   "cell_type": "code",
   "execution_count": 102,
   "metadata": {
    "scrolled": true
   },
   "outputs": [
    {
     "name": "stdout",
     "output_type": "stream",
     "text": [
      "Int64Index([   0,    1,    2,    3,    4,    5,    6,    7,    8,    9,\n",
      "            ...\n",
      "            1216, 1217, 1218, 1219, 1220, 1221, 1222, 1223, 1224, 1225],\n",
      "           dtype='int64', length=1226) Int64Index([   0,    1,    2,    3,    4,    5,    6,    7,    8,    9,\n",
      "            ...\n",
      "            1216, 1217, 1218, 1219, 1220, 1221, 1222, 1223, 1224, 1225],\n",
      "           dtype='int64', length=1226) Int64Index([   0,    1,    2,    3,    4,    5,    6,    7,    8,    9,\n",
      "            ...\n",
      "            1216, 1217, 1218, 1219, 1220, 1221, 1222, 1223, 1224, 1225],\n",
      "           dtype='int64', length=1226) Int64Index([   0,    1,    2,    3,    4,    5,    6,    7,    8,    9,\n",
      "            ...\n",
      "            1216, 1217, 1218, 1219, 1220, 1221, 1222, 1223, 1224, 1225],\n",
      "           dtype='int64', length=1226)\n",
      "(851, 1226) (851, 1226) (851, 1226) (851, 1226)\n",
      "(8592, 2)\n",
      "3404\n"
     ]
    }
   ],
   "source": [
    "print(tr_coll.columns,tr_cong.columns,tr_cong.columns,tr_fam.columns)\n",
    "print(tr_coll.shape, tr_cong.shape, tr_cont.shape, tr_fam.shape)\n",
    "print(tr_edges.shape)\n",
    "print(851*4)"
   ]
  },
  {
   "cell_type": "code",
   "execution_count": 103,
   "metadata": {},
   "outputs": [],
   "source": [
    "# concatenating results\n",
    "\"\"\"frames = [tr_coll, tr_cong, tr_cont, tr_fam]\n",
    "\n",
    "nodes = pd.concat(frames)\n",
    "nodes.info\"\"\"\n",
    "features = tr_coll\n",
    "tr_coll = tr_coll[tr_coll[1225] == 'colleague']\n",
    "tr_cong = tr_cong[tr_cong[1225] == 'congregate']\n",
    "tr_cont = tr_cont[tr_cont[1225] == 'contact']\n",
    "tr_fam = tr_fam[tr_fam[1225] == 'family']"
   ]
  },
  {
   "cell_type": "code",
   "execution_count": 104,
   "metadata": {},
   "outputs": [],
   "source": [
    "features = features.rename(columns={0:'url'})\n",
    "tr_coll = tr_coll.rename(columns={0:'url'})\n",
    "tr_cong = tr_cong.rename(columns={0:'url'})\n",
    "tr_cont = tr_cont.rename(columns={0:'url'})\n",
    "tr_fam = tr_fam.rename(columns={0:'url'})\n",
    "\n",
    "#features = features.drop_duplicates('url')"
   ]
  },
  {
   "cell_type": "markdown",
   "metadata": {},
   "source": [
    "### B. Create the adjacency matrix of your network."
   ]
  },
  {
   "cell_type": "markdown",
   "metadata": {},
   "source": [
    "Remember that there are edges connecting the attributed nodes that you organized in the dataframe above. The connectivity of the network is captured by the adjacency matrix $W$. If $N$ is the number of nodes, the adjacency matrix is an $N \\times N$ matrix where the value of $W(i,j)$ is the weight of the edge connecting node $i$ to node $j$.  \n",
    "\n",
    "There are two possible scenarios for your adjacency matrix construction, as you already learned in the tutorial by Benjamin:\n",
    "\n",
    "1) The edges are given to you explicitly. In this case you should simply load the file containing the edge information and parse it in order to create your adjacency matrix. See how to do that in the  [graph from edge list]() demo.\n",
    "\n",
    "2) The edges are not given to you. In that case you will have to create a feature graph. In order to do that you will have to chose a distance that will quantify how similar two nodes are based on the values in their corresponding feature vectors. In the [graph from features]() demo Benjamin showed you how to build feature graphs when using Euclidean distances between feature vectors. Be curious and explore other distances as well! For instance, in the case of high-dimensional feature vectors, you might want to consider using the cosine distance. Once you compute the distances between your nodes you will have a fully connected network. Do not forget to sparsify by keeping the most important edges in your network.\n",
    "\n",
    "Follow the appropriate steps for the construction of the adjacency matrix of your network and provide it in the Numpy array ``adjacency`` below: "
   ]
  },
  {
   "cell_type": "code",
   "execution_count": 105,
   "metadata": {},
   "outputs": [
    {
     "name": "stdout",
     "output_type": "stream",
     "text": [
      "   node_idx                                                url  1  2  3  4  5  \\\n",
      "0         0  http://profilesinterror.mindswap.org/document/...  0  0  0  0  0   \n",
      "1         1  http://profilesinterror.mindswap.org/document/...  0  0  0  0  0   \n",
      "2         2  http://profilesinterror.mindswap.org/document/...  0  0  0  0  0   \n",
      "3         3  http://profilesinterror.mindswap.org/document/...  0  0  0  0  0   \n",
      "4         4  http://profilesinterror.mindswap.org/document/...  0  0  0  0  1   \n",
      "\n",
      "   6  7  8    ...      1216  1217  1218  1219  1220  1221  1222  1223  1224  \\\n",
      "0  0  0  0    ...         0     0     0     0     0     0     0     0     0   \n",
      "1  0  0  0    ...         0     0     0     0     0     0     0     0     0   \n",
      "2  0  0  0    ...         0     0     0     0     0     0     0     0     0   \n",
      "3  0  0  0    ...         0     0     0     0     0     0     0     0     0   \n",
      "4  0  0  0    ...         0     0     0     0     0     0     0     0     0   \n",
      "\n",
      "        1225  \n",
      "0  colleague  \n",
      "1  colleague  \n",
      "2  colleague  \n",
      "3  colleague  \n",
      "4  colleague  \n",
      "\n",
      "[5 rows x 1227 columns]\n"
     ]
    }
   ],
   "source": [
    "# creating a new index for the nodes\n",
    "features.reset_index(level=0, inplace=True)\n",
    "features = features.rename(columns={'index':'node_idx'})\n",
    "print(features.head())\n",
    "\n",
    "tr_coll.reset_index(level=0, inplace=True)\n",
    "tr_coll = tr_coll.rename(columns={'index':'node_idx'})\n",
    "tr_cong.reset_index(level=0, inplace=True)\n",
    "tr_cong = tr_cong.rename(columns={'index':'node_idx'})\n",
    "tr_cont.reset_index(level=0, inplace=True)\n",
    "tr_cont = tr_cont.rename(columns={'index':'node_idx'})\n",
    "tr_fam.reset_index(level=0, inplace=True)\n",
    "tr_fam = tr_fam.rename(columns={'index':'node_idx'})"
   ]
  },
  {
   "cell_type": "code",
   "execution_count": 106,
   "metadata": {
    "scrolled": true
   },
   "outputs": [],
   "source": [
    "# Create a conversion table from URLID to node index.\n",
    "url2idx = features[['node_idx', 'url']]\n",
    "url2idx = url2idx.set_index('url')\n",
    "\n",
    "url2idxcoll = tr_coll[['node_idx', 'url']]\n",
    "url2idxcoll = url2idxcoll.set_index('url')\n",
    "url2idxcong = tr_cong[['node_idx', 'url']]\n",
    "url2idxcong = url2idxcong.set_index('url')\n",
    "url2idxcont = tr_cont[['node_idx', 'url']]\n",
    "url2idxcont = url2idxcont.set_index('url')\n",
    "url2idxfam = tr_fam[['node_idx', 'url']]\n",
    "url2idxfam = url2idxfam.set_index('url')"
   ]
  },
  {
   "cell_type": "code",
   "execution_count": 107,
   "metadata": {},
   "outputs": [
    {
     "name": "stdout",
     "output_type": "stream",
     "text": [
      "                                                    node_idx\n",
      "url                                                         \n",
      "http://profilesinterror.mindswap.org/document/5...         0\n",
      "http://profilesinterror.mindswap.org/document/2...         1\n",
      "http://profilesinterror.mindswap.org/document/2...         2\n",
      "http://profilesinterror.mindswap.org/document/2...         3\n",
      "http://profilesinterror.mindswap.org/document/5...         4\n"
     ]
    }
   ],
   "source": [
    "print(url2idx.head())"
   ]
  },
  {
   "cell_type": "code",
   "execution_count": 108,
   "metadata": {
    "scrolled": true
   },
   "outputs": [
    {
     "name": "stdout",
     "output_type": "stream",
     "text": [
      "(8592, 2)\n"
     ]
    }
   ],
   "source": [
    "print(tr_edges.shape)"
   ]
  },
  {
   "cell_type": "code",
   "execution_count": 109,
   "metadata": {},
   "outputs": [],
   "source": [
    "tr_edgesf = tr_edges\n",
    "tr_edgescoll = tr_edges\n",
    "tr_edgescong = tr_edges\n",
    "tr_edgescont = tr_edges\n",
    "tr_edgesfam = tr_edges"
   ]
  },
  {
   "cell_type": "code",
   "execution_count": 110,
   "metadata": {
    "scrolled": true
   },
   "outputs": [],
   "source": [
    "# Add a new column to the edges, matching the URLID with the node_idx.\n",
    "tr_edgesf = tr_edgesf.join(url2idx, on=0)\n",
    "tr_edgescoll = tr_edgescoll.join(url2idxcoll, on=0)\n",
    "tr_edgescong = tr_edgescong.join(url2idxcong, on=0)\n",
    "tr_edgescont = tr_edgescont.join(url2idxcont, on=0)\n",
    "tr_edgesfam = tr_edgesfam.join(url2idxfam, on=0)"
   ]
  },
  {
   "cell_type": "code",
   "execution_count": 111,
   "metadata": {},
   "outputs": [
    {
     "name": "stdout",
     "output_type": "stream",
     "text": [
      "                                                   0  \\\n",
      "0  http://profilesinterror.mindswap.org/document/...   \n",
      "1  http://profilesinterror.mindswap.org/document/...   \n",
      "2  http://profilesinterror.mindswap.org/document/...   \n",
      "3  http://profilesinterror.mindswap.org/document/...   \n",
      "4  http://profilesinterror.mindswap.org/document/...   \n",
      "\n",
      "                                                   1  node_idx  \n",
      "0  http://profilesinterror.mindswap.org/document/...     685.0  \n",
      "1  http://profilesinterror.mindswap.org/document/...     685.0  \n",
      "2  http://profilesinterror.mindswap.org/document/...     685.0  \n",
      "3  http://profilesinterror.mindswap.org/document/...     685.0  \n",
      "4  http://counterterror.mindswap.org/2005/terrori...     685.0  \n",
      "(8592, 3)\n"
     ]
    }
   ],
   "source": [
    "print(tr_edgesf.head())\n",
    "print(tr_edgesf.shape)"
   ]
  },
  {
   "cell_type": "code",
   "execution_count": 112,
   "metadata": {
    "scrolled": true
   },
   "outputs": [],
   "source": [
    "# Do the same with the other URLID.\n",
    "tr_edgesf = tr_edgesf.join(url2idx, on=1, rsuffix='_2')\n",
    "tr_edgescoll = tr_edgescoll.join(url2idx, on=1, rsuffix='_2')\n",
    "tr_edgescong = tr_edgescong.join(url2idx, on=1, rsuffix='_2')\n",
    "tr_edgescont = tr_edgescont.join(url2idx, on=1, rsuffix='_2')\n",
    "tr_edgesfam = tr_edgesfam.join(url2idx, on=1, rsuffix='_2')"
   ]
  },
  {
   "cell_type": "code",
   "execution_count": 113,
   "metadata": {
    "scrolled": true
   },
   "outputs": [],
   "source": [
    "# Drop the URLIDS\n",
    "tr_edgesf = tr_edgesf.drop(columns=[0,1])\n",
    "tr_edgescoll = tr_edgescoll.drop(columns=[0,1])\n",
    "tr_edgescong = tr_edgescong.drop(columns=[0,1])\n",
    "tr_edgescont = tr_edgescont.drop(columns=[0,1])\n",
    "tr_edgesfam = tr_edgesfam.drop(columns=[0,1])"
   ]
  },
  {
   "cell_type": "code",
   "execution_count": 116,
   "metadata": {
    "scrolled": true
   },
   "outputs": [
    {
     "name": "stdout",
     "output_type": "stream",
     "text": [
      "   node_idx  node_idx_2\n",
      "0       NaN       733.0\n",
      "1       NaN       472.0\n",
      "2       NaN       372.0\n",
      "3       NaN       798.0\n",
      "4       NaN       373.0 (8592, 2)\n"
     ]
    },
    {
     "data": {
      "text/html": [
       "<div>\n",
       "<style scoped>\n",
       "    .dataframe tbody tr th:only-of-type {\n",
       "        vertical-align: middle;\n",
       "    }\n",
       "\n",
       "    .dataframe tbody tr th {\n",
       "        vertical-align: top;\n",
       "    }\n",
       "\n",
       "    .dataframe thead th {\n",
       "        text-align: right;\n",
       "    }\n",
       "</style>\n",
       "<table border=\"1\" class=\"dataframe\">\n",
       "  <thead>\n",
       "    <tr style=\"text-align: right;\">\n",
       "      <th></th>\n",
       "      <th>node_idx</th>\n",
       "      <th>node_idx_2</th>\n",
       "    </tr>\n",
       "  </thead>\n",
       "  <tbody>\n",
       "    <tr>\n",
       "      <th>17</th>\n",
       "      <td>1.0</td>\n",
       "      <td>425.0</td>\n",
       "    </tr>\n",
       "    <tr>\n",
       "      <th>21</th>\n",
       "      <td>1.0</td>\n",
       "      <td>3.0</td>\n",
       "    </tr>\n",
       "    <tr>\n",
       "      <th>20</th>\n",
       "      <td>1.0</td>\n",
       "      <td>427.0</td>\n",
       "    </tr>\n",
       "    <tr>\n",
       "      <th>19</th>\n",
       "      <td>1.0</td>\n",
       "      <td>2.0</td>\n",
       "    </tr>\n",
       "    <tr>\n",
       "      <th>18</th>\n",
       "      <td>1.0</td>\n",
       "      <td>426.0</td>\n",
       "    </tr>\n",
       "    <tr>\n",
       "      <th>16</th>\n",
       "      <td>1.0</td>\n",
       "      <td>0.0</td>\n",
       "    </tr>\n",
       "    <tr>\n",
       "      <th>8215</th>\n",
       "      <td>1.0</td>\n",
       "      <td>19.0</td>\n",
       "    </tr>\n",
       "    <tr>\n",
       "      <th>4082</th>\n",
       "      <td>2.0</td>\n",
       "      <td>426.0</td>\n",
       "    </tr>\n",
       "    <tr>\n",
       "      <th>4081</th>\n",
       "      <td>2.0</td>\n",
       "      <td>0.0</td>\n",
       "    </tr>\n",
       "    <tr>\n",
       "      <th>8217</th>\n",
       "      <td>2.0</td>\n",
       "      <td>441.0</td>\n",
       "    </tr>\n",
       "    <tr>\n",
       "      <th>1212</th>\n",
       "      <td>3.0</td>\n",
       "      <td>427.0</td>\n",
       "    </tr>\n",
       "    <tr>\n",
       "      <th>1208</th>\n",
       "      <td>3.0</td>\n",
       "      <td>0.0</td>\n",
       "    </tr>\n",
       "    <tr>\n",
       "      <th>1211</th>\n",
       "      <td>3.0</td>\n",
       "      <td>2.0</td>\n",
       "    </tr>\n",
       "    <tr>\n",
       "      <th>1210</th>\n",
       "      <td>3.0</td>\n",
       "      <td>426.0</td>\n",
       "    </tr>\n",
       "    <tr>\n",
       "      <th>1209</th>\n",
       "      <td>3.0</td>\n",
       "      <td>425.0</td>\n",
       "    </tr>\n",
       "    <tr>\n",
       "      <th>8219</th>\n",
       "      <td>3.0</td>\n",
       "      <td>443.0</td>\n",
       "    </tr>\n",
       "    <tr>\n",
       "      <th>7774</th>\n",
       "      <td>4.0</td>\n",
       "      <td>432.0</td>\n",
       "    </tr>\n",
       "    <tr>\n",
       "      <th>3254</th>\n",
       "      <td>4.0</td>\n",
       "      <td>426.0</td>\n",
       "    </tr>\n",
       "    <tr>\n",
       "      <th>3255</th>\n",
       "      <td>4.0</td>\n",
       "      <td>428.0</td>\n",
       "    </tr>\n",
       "    <tr>\n",
       "      <th>7775</th>\n",
       "      <td>4.0</td>\n",
       "      <td>235.0</td>\n",
       "    </tr>\n",
       "    <tr>\n",
       "      <th>7773</th>\n",
       "      <td>4.0</td>\n",
       "      <td>425.0</td>\n",
       "    </tr>\n",
       "    <tr>\n",
       "      <th>7772</th>\n",
       "      <td>4.0</td>\n",
       "      <td>724.0</td>\n",
       "    </tr>\n",
       "    <tr>\n",
       "      <th>3256</th>\n",
       "      <td>4.0</td>\n",
       "      <td>5.0</td>\n",
       "    </tr>\n",
       "    <tr>\n",
       "      <th>4084</th>\n",
       "      <td>5.0</td>\n",
       "      <td>428.0</td>\n",
       "    </tr>\n",
       "    <tr>\n",
       "      <th>7778</th>\n",
       "      <td>5.0</td>\n",
       "      <td>2.0</td>\n",
       "    </tr>\n",
       "    <tr>\n",
       "      <th>7779</th>\n",
       "      <td>5.0</td>\n",
       "      <td>441.0</td>\n",
       "    </tr>\n",
       "    <tr>\n",
       "      <th>4083</th>\n",
       "      <td>5.0</td>\n",
       "      <td>426.0</td>\n",
       "    </tr>\n",
       "    <tr>\n",
       "      <th>7782</th>\n",
       "      <td>6.0</td>\n",
       "      <td>3.0</td>\n",
       "    </tr>\n",
       "    <tr>\n",
       "      <th>1213</th>\n",
       "      <td>6.0</td>\n",
       "      <td>426.0</td>\n",
       "    </tr>\n",
       "    <tr>\n",
       "      <th>1216</th>\n",
       "      <td>6.0</td>\n",
       "      <td>5.0</td>\n",
       "    </tr>\n",
       "    <tr>\n",
       "      <th>...</th>\n",
       "      <td>...</td>\n",
       "      <td>...</td>\n",
       "    </tr>\n",
       "    <tr>\n",
       "      <th>7680</th>\n",
       "      <td>NaN</td>\n",
       "      <td>384.0</td>\n",
       "    </tr>\n",
       "    <tr>\n",
       "      <th>7681</th>\n",
       "      <td>NaN</td>\n",
       "      <td>396.0</td>\n",
       "    </tr>\n",
       "    <tr>\n",
       "      <th>7682</th>\n",
       "      <td>NaN</td>\n",
       "      <td>836.0</td>\n",
       "    </tr>\n",
       "    <tr>\n",
       "      <th>7683</th>\n",
       "      <td>NaN</td>\n",
       "      <td>844.0</td>\n",
       "    </tr>\n",
       "    <tr>\n",
       "      <th>7684</th>\n",
       "      <td>NaN</td>\n",
       "      <td>NaN</td>\n",
       "    </tr>\n",
       "    <tr>\n",
       "      <th>7685</th>\n",
       "      <td>NaN</td>\n",
       "      <td>379.0</td>\n",
       "    </tr>\n",
       "    <tr>\n",
       "      <th>7686</th>\n",
       "      <td>NaN</td>\n",
       "      <td>392.0</td>\n",
       "    </tr>\n",
       "    <tr>\n",
       "      <th>7687</th>\n",
       "      <td>NaN</td>\n",
       "      <td>834.0</td>\n",
       "    </tr>\n",
       "    <tr>\n",
       "      <th>7688</th>\n",
       "      <td>NaN</td>\n",
       "      <td>846.0</td>\n",
       "    </tr>\n",
       "    <tr>\n",
       "      <th>7756</th>\n",
       "      <td>NaN</td>\n",
       "      <td>299.0</td>\n",
       "    </tr>\n",
       "    <tr>\n",
       "      <th>7757</th>\n",
       "      <td>NaN</td>\n",
       "      <td>446.0</td>\n",
       "    </tr>\n",
       "    <tr>\n",
       "      <th>7758</th>\n",
       "      <td>NaN</td>\n",
       "      <td>316.0</td>\n",
       "    </tr>\n",
       "    <tr>\n",
       "      <th>7759</th>\n",
       "      <td>NaN</td>\n",
       "      <td>743.0</td>\n",
       "    </tr>\n",
       "    <tr>\n",
       "      <th>7760</th>\n",
       "      <td>NaN</td>\n",
       "      <td>506.0</td>\n",
       "    </tr>\n",
       "    <tr>\n",
       "      <th>7761</th>\n",
       "      <td>NaN</td>\n",
       "      <td>763.0</td>\n",
       "    </tr>\n",
       "    <tr>\n",
       "      <th>7762</th>\n",
       "      <td>NaN</td>\n",
       "      <td>647.0</td>\n",
       "    </tr>\n",
       "    <tr>\n",
       "      <th>7764</th>\n",
       "      <td>NaN</td>\n",
       "      <td>781.0</td>\n",
       "    </tr>\n",
       "    <tr>\n",
       "      <th>7765</th>\n",
       "      <td>NaN</td>\n",
       "      <td>163.0</td>\n",
       "    </tr>\n",
       "    <tr>\n",
       "      <th>7847</th>\n",
       "      <td>NaN</td>\n",
       "      <td>332.0</td>\n",
       "    </tr>\n",
       "    <tr>\n",
       "      <th>7848</th>\n",
       "      <td>NaN</td>\n",
       "      <td>167.0</td>\n",
       "    </tr>\n",
       "    <tr>\n",
       "      <th>7924</th>\n",
       "      <td>NaN</td>\n",
       "      <td>NaN</td>\n",
       "    </tr>\n",
       "    <tr>\n",
       "      <th>7925</th>\n",
       "      <td>NaN</td>\n",
       "      <td>NaN</td>\n",
       "    </tr>\n",
       "    <tr>\n",
       "      <th>8261</th>\n",
       "      <td>NaN</td>\n",
       "      <td>806.0</td>\n",
       "    </tr>\n",
       "    <tr>\n",
       "      <th>8262</th>\n",
       "      <td>NaN</td>\n",
       "      <td>381.0</td>\n",
       "    </tr>\n",
       "    <tr>\n",
       "      <th>8263</th>\n",
       "      <td>NaN</td>\n",
       "      <td>384.0</td>\n",
       "    </tr>\n",
       "    <tr>\n",
       "      <th>8373</th>\n",
       "      <td>NaN</td>\n",
       "      <td>380.0</td>\n",
       "    </tr>\n",
       "    <tr>\n",
       "      <th>8374</th>\n",
       "      <td>NaN</td>\n",
       "      <td>393.0</td>\n",
       "    </tr>\n",
       "    <tr>\n",
       "      <th>8375</th>\n",
       "      <td>NaN</td>\n",
       "      <td>419.0</td>\n",
       "    </tr>\n",
       "    <tr>\n",
       "      <th>8412</th>\n",
       "      <td>NaN</td>\n",
       "      <td>817.0</td>\n",
       "    </tr>\n",
       "    <tr>\n",
       "      <th>8413</th>\n",
       "      <td>NaN</td>\n",
       "      <td>844.0</td>\n",
       "    </tr>\n",
       "  </tbody>\n",
       "</table>\n",
       "<p>8592 rows × 2 columns</p>\n",
       "</div>"
      ],
      "text/plain": [
       "      node_idx  node_idx_2\n",
       "17         1.0       425.0\n",
       "21         1.0         3.0\n",
       "20         1.0       427.0\n",
       "19         1.0         2.0\n",
       "18         1.0       426.0\n",
       "16         1.0         0.0\n",
       "8215       1.0        19.0\n",
       "4082       2.0       426.0\n",
       "4081       2.0         0.0\n",
       "8217       2.0       441.0\n",
       "1212       3.0       427.0\n",
       "1208       3.0         0.0\n",
       "1211       3.0         2.0\n",
       "1210       3.0       426.0\n",
       "1209       3.0       425.0\n",
       "8219       3.0       443.0\n",
       "7774       4.0       432.0\n",
       "3254       4.0       426.0\n",
       "3255       4.0       428.0\n",
       "7775       4.0       235.0\n",
       "7773       4.0       425.0\n",
       "7772       4.0       724.0\n",
       "3256       4.0         5.0\n",
       "4084       5.0       428.0\n",
       "7778       5.0         2.0\n",
       "7779       5.0       441.0\n",
       "4083       5.0       426.0\n",
       "7782       6.0         3.0\n",
       "1213       6.0       426.0\n",
       "1216       6.0         5.0\n",
       "...        ...         ...\n",
       "7680       NaN       384.0\n",
       "7681       NaN       396.0\n",
       "7682       NaN       836.0\n",
       "7683       NaN       844.0\n",
       "7684       NaN         NaN\n",
       "7685       NaN       379.0\n",
       "7686       NaN       392.0\n",
       "7687       NaN       834.0\n",
       "7688       NaN       846.0\n",
       "7756       NaN       299.0\n",
       "7757       NaN       446.0\n",
       "7758       NaN       316.0\n",
       "7759       NaN       743.0\n",
       "7760       NaN       506.0\n",
       "7761       NaN       763.0\n",
       "7762       NaN       647.0\n",
       "7764       NaN       781.0\n",
       "7765       NaN       163.0\n",
       "7847       NaN       332.0\n",
       "7848       NaN       167.0\n",
       "7924       NaN         NaN\n",
       "7925       NaN         NaN\n",
       "8261       NaN       806.0\n",
       "8262       NaN       381.0\n",
       "8263       NaN       384.0\n",
       "8373       NaN       380.0\n",
       "8374       NaN       393.0\n",
       "8375       NaN       419.0\n",
       "8412       NaN       817.0\n",
       "8413       NaN       844.0\n",
       "\n",
       "[8592 rows x 2 columns]"
      ]
     },
     "execution_count": 116,
     "metadata": {},
     "output_type": "execute_result"
    }
   ],
   "source": [
    "print(tr_edgescoll.head(), tr_edges.shape)\n",
    "tr_edgesf.sort_values(by='node_idx')"
   ]
  },
  {
   "cell_type": "code",
   "execution_count": 126,
   "metadata": {
    "scrolled": true
   },
   "outputs": [],
   "source": [
    "tr_edgesf = tr_edgesf[np.isfinite(tr_edgesf['node_idx'])]\n",
    "tr_edgesf = tr_edgesf[np.isfinite(tr_edgesf['node_idx_2'])]\n",
    "\n",
    "tr_edgescoll = tr_edgescoll[np.isfinite(tr_edgescoll['node_idx'])]\n",
    "tr_edgescoll = tr_edgescoll[np.isfinite(tr_edgescoll['node_idx_2'])]\n",
    "\n",
    "tr_edgescong = tr_edgescong[np.isfinite(tr_edgescong['node_idx'])]\n",
    "tr_edgescong = tr_edgescong[np.isfinite(tr_edgescong['node_idx_2'])]\n",
    "\n",
    "tr_edgescont = tr_edgescont[np.isfinite(tr_edgescont['node_idx'])]\n",
    "tr_edgescont = tr_edgescont[np.isfinite(tr_edgescont['node_idx_2'])]\n",
    "\n",
    "tr_edgesfam = tr_edgesfam[np.isfinite(tr_edgesfam['node_idx'])]\n",
    "tr_edgesfam = tr_edgesfam[np.isfinite(tr_edgesfam['node_idx_2'])]"
   ]
  },
  {
   "cell_type": "code",
   "execution_count": 134,
   "metadata": {},
   "outputs": [
    {
     "name": "stdout",
     "output_type": "stream",
     "text": [
      "(8196, 2)\n"
     ]
    }
   ],
   "source": [
    "print(tr_edgesf.shape)"
   ]
  },
  {
   "cell_type": "code",
   "execution_count": 127,
   "metadata": {},
   "outputs": [],
   "source": [
    "# building the adjacency matrix\n",
    "n_features = len(features)\n",
    "adjacencyf = np.zeros((n_features, n_features), dtype=int)\n",
    "adjacencycoll = np.zeros((n_features, n_features), dtype=int)\n",
    "adjacencycong = np.zeros((n_features, n_features), dtype=int)\n",
    "adjacencycont = np.zeros((n_features, n_features), dtype=int)\n",
    "adjacencyfam = np.zeros((n_features, n_features), dtype=int)"
   ]
  },
  {
   "cell_type": "code",
   "execution_count": 137,
   "metadata": {},
   "outputs": [],
   "source": [
    "count = 0\n",
    "for idx, row in tr_edgesf.iterrows():\n",
    "    if np.isnan(row.node_idx) or np.isnan(row.node_idx_2):\n",
    "        continue\n",
    "    i, j = int(row.node_idx), int(row.node_idx_2)\n",
    "    adjacencyf[i, j] = 1\n",
    "    adjacencyf[j, i] = 1\n",
    "    if i != j:\n",
    "        count+=1"
   ]
  },
  {
   "cell_type": "code",
   "execution_count": 129,
   "metadata": {
    "scrolled": true
   },
   "outputs": [
    {
     "data": {
      "text/plain": [
       "Text(0.5,1.05,'Adjacency matrix')"
      ]
     },
     "execution_count": 129,
     "metadata": {},
     "output_type": "execute_result"
    },
    {
     "data": {
      "image/png": "[encoded data removed]",
      "text/plain": [
       "<Figure size 432x288 with 1 Axes>"
      ]
     },
     "metadata": {},
     "output_type": "display_data"
    }
   ],
   "source": [
    "plt.spy(adjacency, markersize=1)\n",
    "plt.title('Adjacency matrix')"
   ]
  },
  {
   "cell_type": "code",
   "execution_count": 130,
   "metadata": {},
   "outputs": [],
   "source": [
    "for idx, row in tr_edgescoll.iterrows():\n",
    "    if np.isnan(row.node_idx) or np.isnan(row.node_idx_2):\n",
    "        continue\n",
    "    i, j = int(row.node_idx), int(row.node_idx_2)\n",
    "    adjacencycoll[i, j] = 1\n",
    "    adjacencycoll[j, i] = 1\n",
    "    \n",
    "for idx, row in tr_edgescong.iterrows():\n",
    "    if np.isnan(row.node_idx) or np.isnan(row.node_idx_2):\n",
    "        continue\n",
    "    i, j = int(row.node_idx), int(row.node_idx_2)\n",
    "    adjacencycong[i, j] = 1\n",
    "    adjacencycong[j, i] = 1\n",
    "\n",
    "for idx, row in tr_edgescont.iterrows():\n",
    "    if np.isnan(row.node_idx) or np.isnan(row.node_idx_2):\n",
    "        continue\n",
    "    i, j = int(row.node_idx), int(row.node_idx_2)\n",
    "    adjacencycont[i, j] = 1\n",
    "    adjacencycont[j, i] = 1\n",
    "    \n",
    "for idx, row in tr_edgesfam.iterrows():\n",
    "    if np.isnan(row.node_idx) or np.isnan(row.node_idx_2):\n",
    "        continue\n",
    "    i, j = int(row.node_idx), int(row.node_idx_2)\n",
    "    adjacencyfam[i, j] = 1\n",
    "    adjacencyfam[j, i] = 1"
   ]
  },
  {
   "cell_type": "code",
   "execution_count": 131,
   "metadata": {},
   "outputs": [
    {
     "data": {
      "text/plain": [
       "Text(0.5,1.05,'Adjacency matrix coll')"
      ]
     },
     "execution_count": 131,
     "metadata": {},
     "output_type": "execute_result"
    },
    {
     "data": {
      "image/png": "[encoded data removed]",
      "text/plain": [
       "<Figure size 432x288 with 1 Axes>"
      ]
     },
     "metadata": {},
     "output_type": "display_data"
    }
   ],
   "source": [
    "plt.spy(adjacencycoll, markersize=1)\n",
    "plt.title('Adjacency matrix coll')"
   ]
  },
  {
   "cell_type": "code",
   "execution_count": 132,
   "metadata": {},
   "outputs": [
    {
     "data": {
      "text/plain": [
       "Text(0.5,1.05,'Adjacency matrix cong')"
      ]
     },
     "execution_count": 132,
     "metadata": {},
     "output_type": "execute_result"
    },
    {
     "data": {
      "image/png": "[encoded data removed]",
      "text/plain": [
       "<Figure size 432x288 with 1 Axes>"
      ]
     },
     "metadata": {},
     "output_type": "display_data"
    }
   ],
   "source": [
    "plt.spy(adjacencycong, markersize=1)\n",
    "plt.title('Adjacency matrix cong')"
   ]
  },
  {
   "cell_type": "code",
   "execution_count": 133,
   "metadata": {},
   "outputs": [
    {
     "data": {
      "text/plain": [
       "Text(0.5,1.05,'Adjacency matrix cont')"
      ]
     },
     "execution_count": 133,
     "metadata": {},
     "output_type": "execute_result"
    },
    {
     "data": {
      "image/png": "[encoded data removed]",
      "text/plain": [
       "<Figure size 432x288 with 1 Axes>"
      ]
     },
     "metadata": {},
     "output_type": "display_data"
    }
   ],
   "source": [
    "plt.spy(adjacencycont, markersize=1)\n",
    "plt.title('Adjacency matrix cont')"
   ]
  },
  {
   "cell_type": "code",
   "execution_count": 124,
   "metadata": {},
   "outputs": [
    {
     "data": {
      "text/plain": [
       "Text(0.5,1.05,'Adjacency matrix fam')"
      ]
     },
     "execution_count": 124,
     "metadata": {},
     "output_type": "execute_result"
    },
    {
     "data": {
      "image/png": "[encoded data removed]",
      "text/plain": [
       "<Figure size 432x288 with 1 Axes>"
      ]
     },
     "metadata": {},
     "output_type": "display_data"
    }
   ],
   "source": [
    "plt.spy(adjacencyfam, markersize=1)\n",
    "plt.title('Adjacency matrix fam')"
   ]
  },
  {
   "cell_type": "markdown",
   "metadata": {},
   "source": [
    "## Part 2"
   ]
  },
  {
   "cell_type": "markdown",
   "metadata": {},
   "source": [
    "Execute the cell below to plot the (weighted) adjacency matrix of your network."
   ]
  },
  {
   "cell_type": "code",
   "execution_count": null,
   "metadata": {},
   "outputs": [],
   "source": [
    "plt.spy(adjacencyf, markersize=1)\n",
    "plt.title('adjacency matrix')"
   ]
  },
  {
   "cell_type": "markdown",
   "metadata": {},
   "source": [
    "### Question 1\n",
    "\n",
    "What is the maximum number of links $L_{max}$ in a network with $N$ nodes (where $N$ is the number of nodes in your network)? How many links $L$ are there in your collected network? Comment on the sparsity of your network."
   ]
  },
  {
   "cell_type": "code",
   "execution_count": 142,
   "metadata": {},
   "outputs": [
    {
     "name": "stdout",
     "output_type": "stream",
     "text": [
      "851 8196 361675.0\n"
     ]
    }
   ],
   "source": [
    "# The maximum number of links Lmax in a network with N nodes is N(N-1)/2\n",
    "N = n_features\n",
    "Lmax = (N*(N-1))/2\n",
    "L = tr_edgesf.shape[0]\n",
    "print(N, L, Lmax)\n",
    "# SPARSE network"
   ]
  },
  {
   "cell_type": "markdown",
   "metadata": {},
   "source": [
    "### Question 2\n",
    "\n",
    "Is your graph directed or undirected? If it is directed, convert it to an undirected graph by symmetrizing the adjacency matrix."
   ]
  },
  {
   "cell_type": "code",
   "execution_count": 143,
   "metadata": {},
   "outputs": [],
   "source": [
    "# The graph is already undirected"
   ]
  },
  {
   "cell_type": "markdown",
   "metadata": {},
   "source": [
    "### Question 3\n",
    "\n",
    "In the cell below save the features dataframe and the **symmetrized** adjacency matrix. You can use the Pandas ``to_csv`` to save the ``features`` and Numpy's ``save`` to save the ``adjacency``. We will reuse those in the following milestones."
   ]
  },
  {
   "cell_type": "code",
   "execution_count": 144,
   "metadata": {},
   "outputs": [],
   "source": [
    "np.save('adjacency.npy', adjacencyf)"
   ]
  },
  {
   "cell_type": "markdown",
   "metadata": {},
   "source": [
    "### Question 4\n",
    "\n",
    "Are the edges of your graph weighted?"
   ]
  },
  {
   "cell_type": "markdown",
   "metadata": {},
   "source": [
    "**No.**"
   ]
  },
  {
   "cell_type": "markdown",
   "metadata": {},
   "source": [
    "### Question 5\n",
    "\n",
    "What is the degree distibution of your network? "
   ]
  },
  {
   "cell_type": "code",
   "execution_count": null,
   "metadata": {},
   "outputs": [],
   "source": [
    "degree =  # Your code here. It should be a numpy array.\n",
    "\n",
    "assert len(degree) == n_nodes"
   ]
  },
  {
   "cell_type": "markdown",
   "metadata": {},
   "source": [
    "Execute the cell below to see the histogram of the degree distribution."
   ]
  },
  {
   "cell_type": "code",
   "execution_count": null,
   "metadata": {},
   "outputs": [],
   "source": [
    "weights = np.ones_like(degree) / float(n_nodes)\n",
    "plt.hist(degree, weights=weights);"
   ]
  },
  {
   "cell_type": "markdown",
   "metadata": {},
   "source": [
    "What is the average degree?"
   ]
  },
  {
   "cell_type": "code",
   "execution_count": null,
   "metadata": {},
   "outputs": [],
   "source": [
    "# Your code here."
   ]
  },
  {
   "cell_type": "markdown",
   "metadata": {},
   "source": [
    "### Question 6\n",
    "\n",
    "Comment on the degree distribution of your network."
   ]
  },
  {
   "cell_type": "markdown",
   "metadata": {},
   "source": [
    "**Your answer here.**"
   ]
  },
  {
   "cell_type": "markdown",
   "metadata": {},
   "source": [
    "### Question 7\n",
    "\n",
    "Write a function that takes as input the adjacency matrix of a graph and determines whether the graph is connected or not."
   ]
  },
  {
   "cell_type": "code",
   "execution_count": null,
   "metadata": {},
   "outputs": [],
   "source": [
    "def connected_graph(adjacency):\n",
    "    \"\"\"Determines whether a graph is connected.\n",
    "    \n",
    "    Parameters\n",
    "    ----------\n",
    "    adjacency: numpy array\n",
    "        The (weighted) adjacency matrix of a graph.\n",
    "    \n",
    "    Returns\n",
    "    -------\n",
    "    bool\n",
    "        True if the graph is connected, False otherwise.\n",
    "    \"\"\"\n",
    "    \n",
    "    # Your code here.\n",
    "    \n",
    "    return connected"
   ]
  },
  {
   "cell_type": "markdown",
   "metadata": {},
   "source": [
    "Is your graph connected? Run the ``connected_graph`` function to determine your answer."
   ]
  },
  {
   "cell_type": "code",
   "execution_count": null,
   "metadata": {},
   "outputs": [],
   "source": [
    "# Your code here."
   ]
  },
  {
   "cell_type": "markdown",
   "metadata": {},
   "source": [
    "### Question 8\n",
    "\n",
    "Write a function that extracts the connected components of a graph."
   ]
  },
  {
   "cell_type": "code",
   "execution_count": null,
   "metadata": {},
   "outputs": [],
   "source": [
    "def find_components(adjacency):\n",
    "    \"\"\"Find the connected components of a graph.\n",
    "    \n",
    "    Parameters\n",
    "    ----------\n",
    "    adjacency: numpy array\n",
    "        The (weighted) adjacency matrix of a graph.\n",
    "    \n",
    "    Returns\n",
    "    -------\n",
    "    list of numpy arrays\n",
    "        A list of adjacency matrices, one per connected component.\n",
    "    \"\"\"\n",
    "    \n",
    "    # Your code here.\n",
    "    \n",
    "    return components"
   ]
  },
  {
   "cell_type": "markdown",
   "metadata": {},
   "source": [
    "How many connected components is your network composed of? What is the size of the largest connected component? Run the ``find_components`` function to determine your answer. "
   ]
  },
  {
   "cell_type": "code",
   "execution_count": null,
   "metadata": {},
   "outputs": [],
   "source": [
    "# Your code here."
   ]
  },
  {
   "cell_type": "markdown",
   "metadata": {},
   "source": [
    "### Question 9\n",
    "\n",
    "Write a function that takes as input the adjacency matrix and a node (`source`) and returns the length of the shortest path between that node and all nodes in the graph using Dijkstra's algorithm. **For the purposes of this assignment we are interested in the hop distance between nodes, not in the sum of weights. **\n",
    "\n",
    "Hint: You might want to mask the adjacency matrix in the function ``compute_shortest_path_lengths`` in order to make sure you obtain a binary adjacency matrix. "
   ]
  },
  {
   "cell_type": "code",
   "execution_count": null,
   "metadata": {},
   "outputs": [],
   "source": [
    "def compute_shortest_path_lengths(adjacency, source):\n",
    "    \"\"\"Compute the shortest path length between a source node and all nodes.\n",
    "    \n",
    "    Parameters\n",
    "    ----------\n",
    "    adjacency: numpy array\n",
    "        The (weighted) adjacency matrix of a graph.\n",
    "    source: int\n",
    "        The source node. A number between 0 and n_nodes-1.\n",
    "    \n",
    "    Returns\n",
    "    -------\n",
    "    list of ints\n",
    "        The length of the shortest path from source to all nodes. Returned list should be of length n_nodes.\n",
    "    \"\"\"\n",
    "    \n",
    "    # Your code here.\n",
    "    \n",
    "    return shortest_path_lengths"
   ]
  },
  {
   "cell_type": "markdown",
   "metadata": {},
   "source": [
    "### Question 10\n",
    "\n",
    "The diameter of the graph is the length of the longest shortest path between any pair of nodes. Use the above developed function to compute the diameter of the graph (or the diameter of the largest connected component of the graph if the graph is not connected). If your graph (or largest connected component) is very large, computing the diameter will take very long. In that case downsample your graph so that it has 1.000 nodes. There are many ways to reduce the size of a graph. For the purposes of this milestone you can chose to randomly select 1.000 nodes. "
   ]
  },
  {
   "cell_type": "code",
   "execution_count": null,
   "metadata": {},
   "outputs": [],
   "source": [
    "# Your code here."
   ]
  },
  {
   "cell_type": "markdown",
   "metadata": {},
   "source": [
    "### Question 11\n",
    "\n",
    "Write a function that takes as input the adjacency matrix, a path length, and two nodes (`source` and `target`), and returns the number of paths of the given length between them."
   ]
  },
  {
   "cell_type": "code",
   "execution_count": null,
   "metadata": {},
   "outputs": [],
   "source": [
    "def compute_paths(adjacency, source, target, length):\n",
    "    \"\"\"Compute the number of paths of a given length between a source and target node.\n",
    "    \n",
    "    Parameters\n",
    "    ----------\n",
    "    adjacency: numpy array\n",
    "        The (weighted) adjacency matrix of a graph.\n",
    "    source: int\n",
    "        The source node. A number between 0 and n_nodes-1.\n",
    "    target: int\n",
    "        The target node. A number between 0 and n_nodes-1.\n",
    "    length: int\n",
    "        The path length to be considered.\n",
    "    \n",
    "    Returns\n",
    "    -------\n",
    "    int\n",
    "        The number of paths.\n",
    "    \"\"\"\n",
    "    \n",
    "    # Your code here.\n",
    "    \n",
    "    return n_paths"
   ]
  },
  {
   "cell_type": "markdown",
   "metadata": {},
   "source": [
    "Test your function on 5 pairs of nodes, with different lengths."
   ]
  },
  {
   "cell_type": "code",
   "execution_count": null,
   "metadata": {},
   "outputs": [],
   "source": [
    "print(compute_paths(adjacency, 0, 10, 1))\n",
    "print(compute_paths(adjacency, 0, 10, 2))\n",
    "print(compute_paths(adjacency, 0, 10, 3))\n",
    "print(compute_paths(adjacency, 23, 67, 2))\n",
    "print(compute_paths(adjacency, 15, 93, 4))"
   ]
  },
  {
   "cell_type": "markdown",
   "metadata": {},
   "source": [
    "### Question 12\n",
    "\n",
    "How many paths of length 3 are there in your graph? Hint: calling the `compute_paths` function on every pair of node is not an efficient way to do it."
   ]
  },
  {
   "cell_type": "code",
   "execution_count": null,
   "metadata": {},
   "outputs": [],
   "source": [
    "# Your code here."
   ]
  },
  {
   "cell_type": "markdown",
   "metadata": {},
   "source": [
    "### Question 13\n",
    "\n",
    "Write a function that takes as input the adjacency matrix of your graph (or of the largest connected component of your graph) and a node and returns the clustering coefficient of that node. "
   ]
  },
  {
   "cell_type": "code",
   "execution_count": null,
   "metadata": {},
   "outputs": [],
   "source": [
    "def compute_clustering_coefficient(adjacency, node):\n",
    "    \"\"\"Compute the clustering coefficient of a node.\n",
    "    \n",
    "    Parameters\n",
    "    ----------\n",
    "    adjacency: numpy array\n",
    "        The (weighted) adjacency matrix of a graph.\n",
    "    node: int\n",
    "        The node whose clustering coefficient will be computed. A number between 0 and n_nodes-1.\n",
    "    \n",
    "    Returns\n",
    "    -------\n",
    "    float\n",
    "        The clustering coefficient of the node. A number between 0 and 1.\n",
    "    \"\"\"\n",
    "    \n",
    "    # Your code here.\n",
    "    \n",
    "    return clustering_coefficient"
   ]
  },
  {
   "cell_type": "markdown",
   "metadata": {},
   "source": [
    "### Question 14\n",
    "\n",
    "What is the average clustering coefficient of your graph (or of the largest connected component of your graph if your graph is disconnected)? Use the function ``compute_clustering_coefficient`` to determine your answer."
   ]
  },
  {
   "cell_type": "code",
   "execution_count": null,
   "metadata": {},
   "outputs": [],
   "source": [
    "# Your code here."
   ]
  }
 ],
 "metadata": {
  "kernelspec": {
   "display_name": "Python 3",
   "language": "python",
   "name": "python3"
  },
  "language_info": {
   "codemirror_mode": {
    "name": "ipython",
    "version": 3
   },
   "file_extension": ".py",
   "mimetype": "text/x-python",
   "name": "python",
   "nbconvert_exporter": "python",
   "pygments_lexer": "ipython3",
   "version": "3.6.5"
  }
 },
 "nbformat": 4,
 "nbformat_minor": 2
}

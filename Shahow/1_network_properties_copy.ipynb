{
 "cells": [
  {
   "cell_type": "markdown",
   "metadata": {},
   "source": [
    "# NTDS'18 milestone 1: network collection and properties\n",
    "[Effrosyni Simou](https://lts4.epfl.ch/simou), [EPFL LTS4](https://lts4.epfl.ch)"
   ]
  },
  {
   "cell_type": "markdown",
   "metadata": {},
   "source": [
    "## Students\n",
    "\n",
    "* Team: `<your team number>`\n",
    "* Students: `<the name of all students in the team>`\n",
    "* Dataset: `<the dataset you used to complete the milestone>`"
   ]
  },
  {
   "cell_type": "markdown",
   "metadata": {},
   "source": [
    "## Rules\n",
    "\n",
    "* Milestones have to be completed by teams. No collaboration between teams is allowed.\n",
    "* Textual answers shall be short. Typically one to three sentences.\n",
    "* Code has to be clean.\n",
    "* You cannot import any other library than we imported.\n",
    "* When submitting, the notebook is executed and the results are stored. I.e., if you open the notebook again it should show numerical results and plots. We won't be able to execute your notebooks.\n",
    "* The notebook is re-executed from a blank state before submission. That is to be sure it is reproducible. You can click \"Kernel\" then \"Restart & Run All\" in Jupyter."
   ]
  },
  {
   "cell_type": "markdown",
   "metadata": {},
   "source": [
    "## Objective "
   ]
  },
  {
   "cell_type": "markdown",
   "metadata": {},
   "source": [
    "The purpose of this milestone is to start getting acquainted to the network that you will use for this class. In the first part of the milestone you will import your data using [Pandas](http://pandas.pydata.org) and you will create the adjacency matrix using [Numpy](http://www.numpy.org). This part is project specific. In the second part you will have to compute some basic properties of your network. **For the computation of the properties you are only allowed to use the packages that have been imported in the cell below.** You are not allowed to use any graph-specific toolboxes for this milestone (such as networkx and PyGSP). Furthermore, the aim is not to blindly compute the network properties, but to also start to think about what kind of network you will be working with this semester. "
   ]
  },
  {
   "cell_type": "code",
   "execution_count": 3,
   "metadata": {},
   "outputs": [],
   "source": [
    "import numpy as np\n",
    "import pandas as pd\n",
    "import matplotlib.pyplot as plt\n",
    "import networkx as nx"
   ]
  },
  {
   "cell_type": "markdown",
   "metadata": {},
   "source": [
    "## Part 1 - Import your data and manipulate them. "
   ]
  },
  {
   "cell_type": "markdown",
   "metadata": {},
   "source": [
    "###  A. Load your data in a Panda dataframe."
   ]
  },
  {
   "cell_type": "markdown",
   "metadata": {},
   "source": [
    "First, you should define and understand what are your nodes, what features you have and what are your labels. Please provide below a Panda dataframe where each row corresponds to a node with its features and labels. For example, in the the case of the Free Music Archive (FMA) Project, each row of the dataframe would be of the following form:\n",
    "\n",
    "\n",
    "| Track   |  Feature 1  | Feature 2 | . . . | Feature 518|  Label 1 |  Label 2 |. . .|Label 16|\n",
    "|:-------:|:-----------:|:---------:|:-----:|:----------:|:--------:|:--------:|:---:|:------:|\n",
    "|         |             |           |       |            |          |          |     |        |\n",
    "\n",
    "It is possible that in some of the projects either the features or the labels are not available. This is OK, in that case just make sure that you create a dataframe where each of the rows corresponds to a node and its associated features or labels."
   ]
  },
  {
   "cell_type": "code",
   "execution_count": 4,
   "metadata": {},
   "outputs": [
    {
     "name": "stderr",
     "output_type": "stream",
     "text": [
      "C:\\Users\\Jangw\\Desktop\\EPFL\\Semester 1\\Network Tour of Data Science\\NTDS_2018\\Shahow\\data_load_parsing.py:36: ParserWarning: Falling back to the 'python' engine because the 'c' engine does not support regex separators (separators > 1 char and different from '\\s+' are interpreted as regex); you can avoid this warning by specifying engine='python'.\n",
      "  terrorist_rel_coll = pd.read_csv(file_path3, sep='\\t|' '', header=None)\n",
      "C:\\Users\\Jangw\\AppData\\Local\\Continuum\\anaconda3\\envs\\ntds_2018\\lib\\site-packages\\pandas\\io\\parsers.py:2230: FutureWarning: split() requires a non-empty pattern match.\n",
      "  yield pat.split(line.strip())\n",
      "C:\\Users\\Jangw\\AppData\\Local\\Continuum\\anaconda3\\envs\\ntds_2018\\lib\\site-packages\\pandas\\io\\parsers.py:2232: FutureWarning: split() requires a non-empty pattern match.\n",
      "  yield pat.split(line.strip())\n",
      "C:\\Users\\Jangw\\Desktop\\EPFL\\Semester 1\\Network Tour of Data Science\\NTDS_2018\\Shahow\\data_load_parsing.py:40: ParserWarning: Falling back to the 'python' engine because the 'c' engine does not support regex separators (separators > 1 char and different from '\\s+' are interpreted as regex); you can avoid this warning by specifying engine='python'.\n",
      "  terrorist_rel_cong = pd.read_csv(file_path4, sep='\\t|' '', header=None)\n",
      "C:\\Users\\Jangw\\Desktop\\EPFL\\Semester 1\\Network Tour of Data Science\\NTDS_2018\\Shahow\\data_load_parsing.py:44: ParserWarning: Falling back to the 'python' engine because the 'c' engine does not support regex separators (separators > 1 char and different from '\\s+' are interpreted as regex); you can avoid this warning by specifying engine='python'.\n",
      "  terrorist_rel_cont = pd.read_csv(file_path5, sep='\\t|' '', header=None)\n",
      "C:\\Users\\Jangw\\Desktop\\EPFL\\Semester 1\\Network Tour of Data Science\\NTDS_2018\\Shahow\\data_load_parsing.py:48: ParserWarning: Falling back to the 'python' engine because the 'c' engine does not support regex separators (separators > 1 char and different from '\\s+' are interpreted as regex); you can avoid this warning by specifying engine='python'.\n",
      "  terrorist_rel_fam = pd.read_csv(file_path6, sep='\\t|' '', header=None)\n"
     ]
    }
   ],
   "source": [
    "# Load TerroristRel dataset and parse it into pandas dataframe\n",
    "from data_load_parsing import *\n",
    "terrorist_rel_labels, terrorist_rel_edges, terrorist_rel_coll, \\\n",
    "terrorist_rel_cong, terrorist_rel_cont, terrorist_rel_fam = data_load_parsing()\n",
    "\n",
    "features = terrorist_rel_coll.shape[1] - 2"
   ]
  },
  {
   "cell_type": "code",
   "execution_count": 5,
   "metadata": {
    "scrolled": false
   },
   "outputs": [
    {
     "name": "stdout",
     "output_type": "stream",
     "text": [
      "1224\n"
     ]
    }
   ],
   "source": [
    "# Total number of features for each node\n",
    "print(features)"
   ]
  },
  {
   "cell_type": "code",
   "execution_count": 6,
   "metadata": {},
   "outputs": [
    {
     "name": "stdout",
     "output_type": "stream",
     "text": [
      "                                                   0  \\\n",
      "0  http://profilesinterror.mindswap.org/document/...   \n",
      "1  http://profilesinterror.mindswap.org/document/...   \n",
      "2  http://profilesinterror.mindswap.org/document/...   \n",
      "3  http://profilesinterror.mindswap.org/document/...   \n",
      "4  http://profilesinterror.mindswap.org/document/...   \n",
      "\n",
      "                                                   1  \n",
      "0  http://profilesinterror.mindswap.org/document/...  \n",
      "1  http://profilesinterror.mindswap.org/document/...  \n",
      "2  http://profilesinterror.mindswap.org/document/...  \n",
      "3  http://profilesinterror.mindswap.org/document/...  \n",
      "4  http://counterterror.mindswap.org/2005/terrori...   (8592, 2)\n",
      "                                                0     1     2     3     4     \\\n",
      "0  http://profilesinterror.mindswap.org/document/...     0     0     0     0   \n",
      "1  http://profilesinterror.mindswap.org/document/...     0     0     0     0   \n",
      "2  http://profilesinterror.mindswap.org/document/...     0     0     0     0   \n",
      "3  http://profilesinterror.mindswap.org/document/...     0     0     0     0   \n",
      "4  http://profilesinterror.mindswap.org/document/...     0     0     0     0   \n",
      "\n",
      "   5     6     7     8     9       ...      1216  1217  1218  1219  1220  \\\n",
      "0     0     0     0     0     0    ...         0     0     0     0     0   \n",
      "1     0     0     0     0     0    ...         0     0     0     0     0   \n",
      "2     0     0     0     0     0    ...         0     0     0     0     0   \n",
      "3     0     0     0     0     0    ...         0     0     0     0     0   \n",
      "4     1     0     0     0     0    ...         0     0     0     0     0   \n",
      "\n",
      "   1221  1222  1223  1224       1225  \n",
      "0     0     0     0     0  colleague  \n",
      "1     0     0     0     0  colleague  \n",
      "2     0     0     0     0  colleague  \n",
      "3     0     0     0     0  colleague  \n",
      "4     0     0     0     0  colleague  \n",
      "\n",
      "[5 rows x 1226 columns] (851, 1226)\n",
      "                                                0     1     2     3     4     \\\n",
      "0  http://counterterror.mindswap.org/2005/terrori...     0     0     0     0   \n",
      "1  http://profilesinterror.mindswap.org/document/...     0     0     0     0   \n",
      "2  http://profilesinterror.mindswap.org/document/...     0     0     0     0   \n",
      "3  http://profilesinterror.mindswap.org/document/...     0     0     0     0   \n",
      "4  http://profilesinterror.mindswap.org/document/...     0     0     0     0   \n",
      "\n",
      "   5     6     7     8     9      ...     1216  1217  1218  1219  1220  1221  \\\n",
      "0     0     0     0     0     0   ...        0     0     0     0     0     0   \n",
      "1     0     0     0     0     0   ...        0     0     0     0     0     0   \n",
      "2     0     0     0     0     0   ...        0     0     0     0     0     0   \n",
      "3     0     0     0     0     1   ...        1     1     0     0     0     0   \n",
      "4     0     0     0     0     0   ...        1     1     0     0     0     0   \n",
      "\n",
      "   1222  1223  1224     1225  \n",
      "0     0     0     0  contact  \n",
      "1     0     0     0  contact  \n",
      "2     0     0     0  contact  \n",
      "3     0     0     0  contact  \n",
      "4     0     0     0  contact  \n",
      "\n",
      "[5 rows x 1226 columns] (851, 1226)\n",
      "                                                0     1     2     3     4     \\\n",
      "0  http://profilesinterror.mindswap.org/document/...     0     0     0     0   \n",
      "1  http://counterterror.mindswap.org/2005/terrori...     0     0     0     0   \n",
      "2  http://profilesinterror.mindswap.org/document/...     0     0     0     0   \n",
      "3  http://profilesinterror.mindswap.org/document/...     0     0     0     0   \n",
      "4  http://counterterror.mindswap.org/2005/terrori...     0     0     0     0   \n",
      "\n",
      "   5     6     7     8     9        ...      1216  1217  1218  1219  1220  \\\n",
      "0     0     0     0     0     0     ...         0     0     0     0     0   \n",
      "1     0     0     0     0     0     ...         0     0     0     0     0   \n",
      "2     0     0     0     0     0     ...         0     0     0     0     0   \n",
      "3     0     0     0     0     0     ...         0     0     0     0     0   \n",
      "4     0     0     0     0     0     ...         0     0     0     0     0   \n",
      "\n",
      "   1221  1222  1223  1224        1225  \n",
      "0     0     0     0     1  congregate  \n",
      "1     0     0     0     1  congregate  \n",
      "2     0     0     0     1  congregate  \n",
      "3     0     0     0     1  congregate  \n",
      "4     0     0     0     1  congregate  \n",
      "\n",
      "[5 rows x 1226 columns] (851, 1226)\n",
      "                                                0     1     2     3     4     \\\n",
      "0  http://profilesinterror.mindswap.org/document/...     0     0     0     0   \n",
      "1  http://profilesinterror.mindswap.org/document/...     0     0     0     0   \n",
      "2  http://profilesinterror.mindswap.org/document/...     0     0     0     0   \n",
      "3  http://profilesinterror.mindswap.org/document/...     0     0     0     0   \n",
      "4  http://profilesinterror.mindswap.org/document/...     0     0     0     0   \n",
      "\n",
      "   5     6     7     8     9      ...    1216  1217  1218  1219  1220  1221  \\\n",
      "0     0     0     0     0     0   ...       0     0     0     0     0     0   \n",
      "1     0     0     0     0     0   ...       0     0     0     0     0     0   \n",
      "2     0     0     0     0     0   ...       0     0     0     0     0     0   \n",
      "3     0     0     0     0     0   ...       0     0     0     0     0     0   \n",
      "4     0     0     0     0     0   ...       0     0     0     0     0     0   \n",
      "\n",
      "   1222  1223  1224    1225  \n",
      "0     0     0     0  family  \n",
      "1     0     0     0  family  \n",
      "2     0     0     0  family  \n",
      "3     0     0     0  family  \n",
      "4     0     0     0  family  \n",
      "\n",
      "[5 rows x 1226 columns] (851, 1226)\n"
     ]
    }
   ],
   "source": [
    "# Test run to check whether data has been parsed properly\n",
    "\n",
    "# Edges data\n",
    "print(terrorist_rel_edges.head(), terrorist_rel_edges.shape)\n",
    "\n",
    "# Colleague nodes\n",
    "print(terrorist_rel_coll.head(), terrorist_rel_coll.shape)\n",
    "\n",
    "# Contact nodes\n",
    "print(terrorist_rel_cont.head(), terrorist_rel_cont.shape)\n",
    "\n",
    "# Congregate nodes\n",
    "print(terrorist_rel_cong.head(), terrorist_rel_cong.shape)\n",
    "\n",
    "# Family nodes\n",
    "print(terrorist_rel_fam.head(), terrorist_rel_fam.shape)\n",
    "\n"
   ]
  },
  {
   "cell_type": "markdown",
   "metadata": {},
   "source": [
    "### B. Create the adjacency matrix of your network."
   ]
  },
  {
   "cell_type": "markdown",
   "metadata": {},
   "source": [
    "Remember that there are edges connecting the attributed nodes that you organized in the dataframe above. The connectivity of the network is captured by the adjacency matrix $W$. If $N$ is the number of nodes, the adjacency matrix is an $N \\times N$ matrix where the value of $W(i,j)$ is the weight of the edge connecting node $i$ to node $j$.  \n",
    "\n",
    "There are two possible scenarios for your adjacency matrix construction, as you already learned in the tutorial by Benjamin:\n",
    "\n",
    "1) The edges are given to you explicitly. In this case you should simply load the file containing the edge information and parse it in order to create your adjacency matrix. See how to do that in the  [graph from edge list]() demo.\n",
    "\n",
    "2) The edges are not given to you. In that case you will have to create a feature graph. In order to do that you will have to chose a distance that will quantify how similar two nodes are based on the values in their corresponding feature vectors. In the [graph from features]() demo Benjamin showed you how to build feature graphs when using Euclidean distances between feature vectors. Be curious and explore other distances as well! For instance, in the case of high-dimensional feature vectors, you might want to consider using the cosine distance. Once you compute the distances between your nodes you will have a fully connected network. Do not forget to sparsify by keeping the most important edges in your network.\n",
    "\n",
    "Follow the appropriate steps for the construction of the adjacency matrix of your network and provide it in the Numpy array ``adjacency`` below: "
   ]
  },
  {
   "cell_type": "code",
   "execution_count": 7,
   "metadata": {},
   "outputs": [
    {
     "data": {
      "text/html": [
       "<div>\n",
       "<style scoped>\n",
       "    .dataframe tbody tr th:only-of-type {\n",
       "        vertical-align: middle;\n",
       "    }\n",
       "\n",
       "    .dataframe tbody tr th {\n",
       "        vertical-align: top;\n",
       "    }\n",
       "\n",
       "    .dataframe thead th {\n",
       "        text-align: right;\n",
       "    }\n",
       "</style>\n",
       "<table border=\"1\" class=\"dataframe\">\n",
       "  <thead>\n",
       "    <tr style=\"text-align: right;\">\n",
       "      <th></th>\n",
       "      <th>node_idx</th>\n",
       "    </tr>\n",
       "    <tr>\n",
       "      <th>0</th>\n",
       "      <th></th>\n",
       "    </tr>\n",
       "  </thead>\n",
       "  <tbody>\n",
       "    <tr>\n",
       "      <th>http://profilesinterror.mindswap.org/document/2006/01/16/20:29:37#_http://profilesinterror.mindswap.org/document/2006/01/16/21:22:00#</th>\n",
       "      <td>0</td>\n",
       "    </tr>\n",
       "    <tr>\n",
       "      <th>http://profilesinterror.mindswap.org/document/2006/01/18/11:51:40#_http://profilesinterror.mindswap.org/document/2005/07/28/15:59:18#Mohammad_Sidique_Khan</th>\n",
       "      <td>1</td>\n",
       "    </tr>\n",
       "    <tr>\n",
       "      <th>http://profilesinterror.mindswap.org/document/33#MohammedTaher_http://profilesinterror.mindswap.org/document/2005/05/24/17:20:59#Abu_Marzuq</th>\n",
       "      <td>2</td>\n",
       "    </tr>\n",
       "    <tr>\n",
       "      <th>http://profilesinterror.mindswap.org/document/2006/01/16/20:43:52#_http://profilesinterror.mindswap.org/document/2006/01/17/20:39:50#</th>\n",
       "      <td>3</td>\n",
       "    </tr>\n",
       "    <tr>\n",
       "      <th>http://profilesinterror.mindswap.org/document/30#KhaledMashal_http://profilesinterror.mindswap.org/document/34#HassanNasrallah</th>\n",
       "      <td>4</td>\n",
       "    </tr>\n",
       "  </tbody>\n",
       "</table>\n",
       "</div>"
      ],
      "text/plain": [
       "                                                    node_idx\n",
       "0                                                           \n",
       "http://profilesinterror.mindswap.org/document/2...         0\n",
       "http://profilesinterror.mindswap.org/document/2...         1\n",
       "http://profilesinterror.mindswap.org/document/3...         2\n",
       "http://profilesinterror.mindswap.org/document/2...         3\n",
       "http://profilesinterror.mindswap.org/document/3...         4"
      ]
     },
     "execution_count": 7,
     "metadata": {},
     "output_type": "execute_result"
    }
   ],
   "source": [
    "# Your code here\n",
    "#nodes = terrorist_rel_edges[['0', '1']]\n",
    "nodes = [terrorist_rel_edges.iloc[:,0],terrorist_rel_edges.iloc[:,1]]\n",
    "nodes = [list(set(nodes[0])),list(set(nodes[1]))]\n",
    "nodes = list(set(list(nodes[0]) + list(nodes[1])))\n",
    "nodes = (pd.DataFrame(nodes))\n",
    "\n",
    "n_nodes = len(nodes) # the number of nodes in the network  \n",
    "\n",
    "adjacency = np.zeros((n_nodes, n_nodes), dtype=int) # the adjacency matrix\n",
    "nodes.reset_index(level=0, inplace=True)\n",
    "nodes = nodes.rename(columns={'index':'node_idx'})\n",
    "#ZeroToIdx = [nodes.iloc[:,0],nodes.iloc[:,1]]\n",
    "nodes =nodes.set_index(nodes[0])\n",
    "nodes.drop(nodes.columns[[1]], axis=1, inplace=True)\n",
    "nodes.head()\n",
    "\n",
    "\n"
   ]
  },
  {
   "cell_type": "code",
   "execution_count": 8,
   "metadata": {},
   "outputs": [
    {
     "data": {
      "image/png": "[encoded data removed]",
      "text/plain": [
       "<Figure size 432x288 with 1 Axes>"
      ]
     },
     "metadata": {},
     "output_type": "display_data"
    }
   ],
   "source": [
    "edges = [terrorist_rel_edges.iloc[:,0],terrorist_rel_edges.iloc[:,1]]\n",
    "edges = terrorist_rel_edges\n",
    "edges = edges.join(nodes, on=0)\n",
    "edges = edges.join(nodes, on=1, rsuffix='_parent')\n",
    "edges = edges.drop(columns=[0,1])\n",
    "\n",
    "for idx, row in edges.iterrows():\n",
    "    if np.isnan(row.node_idx_parent):\n",
    "        continue\n",
    "    i, j = int(row.node_idx), int(row.node_idx_parent)\n",
    "    adjacency[i, j] = 1\n",
    "    adjacency[j, i] = 1\n",
    "adjacency[:15, :15]\n",
    "graph = nx.from_numpy_array(adjacency)\n",
    "node_props = nodes.to_dict()\n",
    "for key in node_props:\n",
    "    # print(key, node_props[key])\n",
    "    nx.set_node_attributes(graph, node_props[key], key)\n",
    "    \n",
    "graph.node[1]\n",
    "nx.draw_spectral(graph)"
   ]
  },
  {
   "cell_type": "code",
   "execution_count": 9,
   "metadata": {},
   "outputs": [
    {
     "data": {
      "image/png": "[encoded data removed]",
      "text/plain": [
       "<Figure size 432x288 with 1 Axes>"
      ]
     },
     "metadata": {},
     "output_type": "display_data"
    }
   ],
   "source": [
    "nx.draw_spring(graph)\n",
    "\n"
   ]
  },
  {
   "cell_type": "code",
   "execution_count": 10,
   "metadata": {},
   "outputs": [],
   "source": [
    "nx.write_gexf(graph, 'tree_of_life.gexf')"
   ]
  },
  {
   "cell_type": "markdown",
   "metadata": {},
   "source": [
    "## Part 2"
   ]
  },
  {
   "cell_type": "markdown",
   "metadata": {},
   "source": [
    "Execute the cell below to plot the (weighted) adjacency matrix of your network."
   ]
  },
  {
   "cell_type": "code",
   "execution_count": 11,
   "metadata": {},
   "outputs": [
    {
     "data": {
      "text/plain": [
       "Text(0.5,1.05,'adjacency matrix')"
      ]
     },
     "execution_count": 11,
     "metadata": {},
     "output_type": "execute_result"
    },
    {
     "data": {
      "image/png": "[encoded data removed]",
      "text/plain": [
       "<Figure size 432x288 with 1 Axes>"
      ]
     },
     "metadata": {
      "needs_background": "light"
     },
     "output_type": "display_data"
    }
   ],
   "source": [
    "plt.spy(adjacency, markersize=1)\n",
    "plt.title('adjacency matrix')"
   ]
  },
  {
   "cell_type": "markdown",
   "metadata": {},
   "source": [
    "### Question 1\n",
    "\n",
    "What is the maximum number of links $L_{max}$ in a network with $N$ nodes (where $N$ is the number of nodes in your network)? How many links $L$ are there in your collected network? Comment on the sparsity of your network."
   ]
  },
  {
   "cell_type": "code",
   "execution_count": null,
   "metadata": {},
   "outputs": [],
   "source": [
    "# Your code here."
   ]
  },
  {
   "cell_type": "markdown",
   "metadata": {},
   "source": [
    "**Your answer here.**"
   ]
  },
  {
   "cell_type": "markdown",
   "metadata": {},
   "source": [
    "### Question 2\n",
    "\n",
    "Is your graph directed or undirected? If it is directed, convert it to an undirected graph by symmetrizing the adjacency matrix."
   ]
  },
  {
   "cell_type": "markdown",
   "metadata": {},
   "source": [
    "**Your answer here.**"
   ]
  },
  {
   "cell_type": "code",
   "execution_count": null,
   "metadata": {},
   "outputs": [],
   "source": [
    "# Your code here."
   ]
  },
  {
   "cell_type": "markdown",
   "metadata": {},
   "source": [
    "### Question 3\n",
    "\n",
    "In the cell below save the features dataframe and the **symmetrized** adjacency matrix. You can use the Pandas ``to_csv`` to save the ``features`` and Numpy's ``save`` to save the ``adjacency``. We will reuse those in the following milestones."
   ]
  },
  {
   "cell_type": "code",
   "execution_count": null,
   "metadata": {},
   "outputs": [],
   "source": [
    "# Your code here."
   ]
  },
  {
   "cell_type": "markdown",
   "metadata": {},
   "source": [
    "### Question 4\n",
    "\n",
    "Are the edges of your graph weighted?"
   ]
  },
  {
   "cell_type": "markdown",
   "metadata": {},
   "source": [
    "**Your answer here.**"
   ]
  },
  {
   "cell_type": "markdown",
   "metadata": {},
   "source": [
    "### Question 5\n",
    "\n",
    "What is the degree distibution of your network? "
   ]
  },
  {
   "cell_type": "code",
   "execution_count": null,
   "metadata": {},
   "outputs": [],
   "source": [
    "degree =  # Your code here. It should be a numpy array.\n",
    "\n",
    "assert len(degree) == n_nodes"
   ]
  },
  {
   "cell_type": "markdown",
   "metadata": {},
   "source": [
    "Execute the cell below to see the histogram of the degree distribution."
   ]
  },
  {
   "cell_type": "code",
   "execution_count": null,
   "metadata": {},
   "outputs": [],
   "source": [
    "weights = np.ones_like(degree) / float(n_nodes)\n",
    "plt.hist(degree, weights=weights);"
   ]
  },
  {
   "cell_type": "markdown",
   "metadata": {},
   "source": [
    "What is the average degree?"
   ]
  },
  {
   "cell_type": "code",
   "execution_count": null,
   "metadata": {},
   "outputs": [],
   "source": [
    "# Your code here."
   ]
  },
  {
   "cell_type": "markdown",
   "metadata": {},
   "source": [
    "### Question 6\n",
    "\n",
    "Comment on the degree distribution of your network."
   ]
  },
  {
   "cell_type": "markdown",
   "metadata": {},
   "source": [
    "**Your answer here.**"
   ]
  },
  {
   "cell_type": "markdown",
   "metadata": {},
   "source": [
    "### Question 7\n",
    "\n",
    "Write a function that takes as input the adjacency matrix of a graph and determines whether the graph is connected or not."
   ]
  },
  {
   "cell_type": "code",
   "execution_count": null,
   "metadata": {},
   "outputs": [],
   "source": [
    "def connected_graph(adjacency):\n",
    "    \"\"\"Determines whether a graph is connected.\n",
    "    \n",
    "    Parameters\n",
    "    ----------\n",
    "    adjacency: numpy array\n",
    "        The (weighted) adjacency matrix of a graph.\n",
    "    \n",
    "    Returns\n",
    "    -------\n",
    "    bool\n",
    "        True if the graph is connected, False otherwise.\n",
    "    \"\"\"\n",
    "    \n",
    "    # Your code here.\n",
    "    \n",
    "    return connected"
   ]
  },
  {
   "cell_type": "markdown",
   "metadata": {},
   "source": [
    "Is your graph connected? Run the ``connected_graph`` function to determine your answer."
   ]
  },
  {
   "cell_type": "code",
   "execution_count": null,
   "metadata": {},
   "outputs": [],
   "source": [
    "# Your code here."
   ]
  },
  {
   "cell_type": "markdown",
   "metadata": {},
   "source": [
    "### Question 8\n",
    "\n",
    "Write a function that extracts the connected components of a graph."
   ]
  },
  {
   "cell_type": "code",
   "execution_count": null,
   "metadata": {},
   "outputs": [],
   "source": [
    "def find_components(adjacency):\n",
    "    \"\"\"Find the connected components of a graph.\n",
    "    \n",
    "    Parameters\n",
    "    ----------\n",
    "    adjacency: numpy array\n",
    "        The (weighted) adjacency matrix of a graph.\n",
    "    \n",
    "    Returns\n",
    "    -------\n",
    "    list of numpy arrays\n",
    "        A list of adjacency matrices, one per connected component.\n",
    "    \"\"\"\n",
    "    \n",
    "    # Your code here.\n",
    "    \n",
    "    return components"
   ]
  },
  {
   "cell_type": "markdown",
   "metadata": {},
   "source": [
    "How many connected components is your network composed of? What is the size of the largest connected component? Run the ``find_components`` function to determine your answer. "
   ]
  },
  {
   "cell_type": "code",
   "execution_count": null,
   "metadata": {},
   "outputs": [],
   "source": [
    "# Your code here."
   ]
  },
  {
   "cell_type": "markdown",
   "metadata": {},
   "source": [
    "### Question 9\n",
    "\n",
    "Write a function that takes as input the adjacency matrix and a node (`source`) and returns the length of the shortest path between that node and all nodes in the graph using Dijkstra's algorithm. **For the purposes of this assignment we are interested in the hop distance between nodes, not in the sum of weights. **\n",
    "\n",
    "Hint: You might want to mask the adjacency matrix in the function ``compute_shortest_path_lengths`` in order to make sure you obtain a binary adjacency matrix. "
   ]
  },
  {
   "cell_type": "code",
   "execution_count": null,
   "metadata": {},
   "outputs": [],
   "source": [
    "def compute_shortest_path_lengths(adjacency, source):\n",
    "    \"\"\"Compute the shortest path length between a source node and all nodes.\n",
    "    \n",
    "    Parameters\n",
    "    ----------\n",
    "    adjacency: numpy array\n",
    "        The (weighted) adjacency matrix of a graph.\n",
    "    source: int\n",
    "        The source node. A number between 0 and n_nodes-1.\n",
    "    \n",
    "    Returns\n",
    "    -------\n",
    "    list of ints\n",
    "        The length of the shortest path from source to all nodes. Returned list should be of length n_nodes.\n",
    "    \"\"\"\n",
    "    \n",
    "    # Your code here.\n",
    "    \n",
    "    return shortest_path_lengths"
   ]
  },
  {
   "cell_type": "markdown",
   "metadata": {},
   "source": [
    "### Question 10\n",
    "\n",
    "The diameter of the graph is the length of the longest shortest path between any pair of nodes. Use the above developed function to compute the diameter of the graph (or the diameter of the largest connected component of the graph if the graph is not connected). If your graph (or largest connected component) is very large, computing the diameter will take very long. In that case downsample your graph so that it has 1.000 nodes. There are many ways to reduce the size of a graph. For the purposes of this milestone you can chose to randomly select 1.000 nodes. "
   ]
  },
  {
   "cell_type": "code",
   "execution_count": null,
   "metadata": {},
   "outputs": [],
   "source": [
    "# Your code here."
   ]
  },
  {
   "cell_type": "markdown",
   "metadata": {},
   "source": [
    "### Question 11\n",
    "\n",
    "Write a function that takes as input the adjacency matrix, a path length, and two nodes (`source` and `target`), and returns the number of paths of the given length between them."
   ]
  },
  {
   "cell_type": "code",
   "execution_count": null,
   "metadata": {},
   "outputs": [],
   "source": [
    "def compute_paths(adjacency, source, target, length):\n",
    "    \"\"\"Compute the number of paths of a given length between a source and target node.\n",
    "    \n",
    "    Parameters\n",
    "    ----------\n",
    "    adjacency: numpy array\n",
    "        The (weighted) adjacency matrix of a graph.\n",
    "    source: int\n",
    "        The source node. A number between 0 and n_nodes-1.\n",
    "    target: int\n",
    "        The target node. A number between 0 and n_nodes-1.\n",
    "    length: int\n",
    "        The path length to be considered.\n",
    "    \n",
    "    Returns\n",
    "    -------\n",
    "    int\n",
    "        The number of paths.\n",
    "    \"\"\"\n",
    "    \n",
    "    # Your code here.\n",
    "    \n",
    "    return n_paths"
   ]
  },
  {
   "cell_type": "markdown",
   "metadata": {},
   "source": [
    "Test your function on 5 pairs of nodes, with different lengths."
   ]
  },
  {
   "cell_type": "code",
   "execution_count": null,
   "metadata": {},
   "outputs": [],
   "source": [
    "print(compute_paths(adjacency, 0, 10, 1))\n",
    "print(compute_paths(adjacency, 0, 10, 2))\n",
    "print(compute_paths(adjacency, 0, 10, 3))\n",
    "print(compute_paths(adjacency, 23, 67, 2))\n",
    "print(compute_paths(adjacency, 15, 93, 4))"
   ]
  },
  {
   "cell_type": "markdown",
   "metadata": {},
   "source": [
    "### Question 12\n",
    "\n",
    "How many paths of length 3 are there in your graph? Hint: calling the `compute_paths` function on every pair of node is not an efficient way to do it."
   ]
  },
  {
   "cell_type": "code",
   "execution_count": null,
   "metadata": {},
   "outputs": [],
   "source": [
    "# Your code here."
   ]
  },
  {
   "cell_type": "markdown",
   "metadata": {},
   "source": [
    "### Question 13\n",
    "\n",
    "Write a function that takes as input the adjacency matrix of your graph (or of the largest connected component of your graph) and a node and returns the clustering coefficient of that node. "
   ]
  },
  {
   "cell_type": "code",
   "execution_count": null,
   "metadata": {},
   "outputs": [],
   "source": [
    "def compute_clustering_coefficient(adjacency, node):\n",
    "    \"\"\"Compute the clustering coefficient of a node.\n",
    "    \n",
    "    Parameters\n",
    "    ----------\n",
    "    adjacency: numpy array\n",
    "        The (weighted) adjacency matrix of a graph.\n",
    "    node: int\n",
    "        The node whose clustering coefficient will be computed. A number between 0 and n_nodes-1.\n",
    "    \n",
    "    Returns\n",
    "    -------\n",
    "    float\n",
    "        The clustering coefficient of the node. A number between 0 and 1.\n",
    "    \"\"\"\n",
    "    \n",
    "    # Your code here.\n",
    "    \n",
    "    return clustering_coefficient"
   ]
  },
  {
   "cell_type": "markdown",
   "metadata": {},
   "source": [
    "### Question 14\n",
    "\n",
    "What is the average clustering coefficient of your graph (or of the largest connected component of your graph if your graph is disconnected)? Use the function ``compute_clustering_coefficient`` to determine your answer."
   ]
  },
  {
   "cell_type": "code",
   "execution_count": null,
   "metadata": {},
   "outputs": [],
   "source": [
    "# Your code here."
   ]
  }
 ],
 "metadata": {
  "kernelspec": {
   "display_name": "Python 3",
   "language": "python",
   "name": "python3"
  },
  "language_info": {
   "codemirror_mode": {
    "name": "ipython",
    "version": 3
   },
   "file_extension": ".py",
   "mimetype": "text/x-python",
   "name": "python",
   "nbconvert_exporter": "python",
   "pygments_lexer": "ipython3",
   "version": "3.6.4"
  }
 },
 "nbformat": 4,
 "nbformat_minor": 2
}

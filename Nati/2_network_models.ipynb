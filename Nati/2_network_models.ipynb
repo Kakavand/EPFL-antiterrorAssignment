{
 "cells": [
  {
   "cell_type": "markdown",
   "metadata": {},
   "source": [
    "# [NTDS'18] milestone 2: network models\n",
    "[ntds'18]: https://github.com/mdeff/ntds_2018\n",
    "\n",
    "[Hermina Petric Maretic](https://people.epfl.ch/hermina.petricmaretic), [EPFL LTS4](https://lts4.epfl.ch)"
   ]
  },
  {
   "cell_type": "markdown",
   "metadata": {},
   "source": [
    "## Students\n",
    "\n",
    "* Team: `<your team number>`\n",
    "* Students: `<the name of all students in the team>`\n",
    "* Dataset: `<the dataset you used to complete the milestone>`"
   ]
  },
  {
   "cell_type": "markdown",
   "metadata": {},
   "source": [
    "## Rules\n",
    "\n",
    "* Milestones have to be completed by teams. No collaboration between teams is allowed.\n",
    "* Textual answers shall be short. Typically one to two sentences.\n",
    "* Code has to be clean.\n",
    "* In the first part, you cannot import any other library than we imported. In the second part, you are allowed to import any library you want.\n",
    "* When submitting, the notebook is executed and the results are stored. I.e., if you open the notebook again it should show numerical results and plots. We won't be able to execute your notebooks.\n",
    "* The notebook is re-executed from a blank state before submission. That is to be sure it is reproducible. You can click \"Kernel\" then \"Restart & Run All\" in Jupyter."
   ]
  },
  {
   "cell_type": "markdown",
   "metadata": {},
   "source": [
    "## Objective\n",
    "\n",
    "The purpose of this milestone is to explore various random network models, analyse their properties and compare them to your network. In the first part of the milestone you will implement two random graph models and try to fit them to your network. In this part you are not allowed to use any additional package. In the second part of the milestone you will choose a third random graph model that you think shares some properties with your network. You will be allowed to use additional packages to construct this network, but you must explain your network choice. Finally, make your code as clean as possible, and keep your textual answers short."
   ]
  },
  {
   "cell_type": "markdown",
   "metadata": {},
   "source": [
    "## Part 0\n",
    "\n",
    "Import the adjacency matrix of your graph that you constructed in milestone 1, as well as the number of nodes and edges of your network."
   ]
  },
  {
   "cell_type": "code",
   "execution_count": 36,
   "metadata": {},
   "outputs": [
    {
     "name": "stdout",
     "output_type": "stream",
     "text": [
      "Number of nodes = 848\n",
      "Number of edges = 8196.0\n"
     ]
    }
   ],
   "source": [
    "import numpy as np\n",
    "\n",
    "adjacency = np.load('adjacency.npy')\n",
    "zero_index = np.where(np.sum(adjacency, axis=0) == 0)[0]\n",
    "adjacency = np.delete(adjacency, zero_index, axis = 0)\n",
    "adjacency = np.delete(adjacency, zero_index, axis = 1)\n",
    "\n",
    "n_nodes =  np.count_nonzero(np.sum(adjacency, axis=0))\n",
    "n_edges =  np.count_nonzero(adjacency) / 2\n",
    "\n",
    "print('Number of nodes = {n:}'.format(n=n_nodes))\n",
    "print('Number of edges = {e:}'.format(e=n_edges))"
   ]
  },
  {
   "cell_type": "markdown",
   "metadata": {},
   "source": [
    "## Part 1\n",
    "\n",
    "**For the computation of this part of the milestone you are only allowed to use the packages that have been imported in the cell below.**"
   ]
  },
  {
   "cell_type": "code",
   "execution_count": 43,
   "metadata": {},
   "outputs": [],
   "source": [
    "%matplotlib inline\n",
    "\n",
    "import random\n",
    "\n",
    "import pandas as pd\n",
    "import matplotlib.pyplot as plt\n",
    "import scipy"
   ]
  },
  {
   "cell_type": "markdown",
   "metadata": {},
   "source": [
    "\n",
    "### Question 1\n",
    "\n",
    "Create a function that constructs an Erdős–Rényi graph."
   ]
  },
  {
   "cell_type": "code",
   "execution_count": 44,
   "metadata": {},
   "outputs": [],
   "source": [
    "def erdos_renyi(n, p, seed=None):\n",
    "    \"\"\"Create an instance from the Erdos-Renyi graph model.\n",
    "    \n",
    "    Parameters\n",
    "    ----------\n",
    "    n: int\n",
    "        Size of the graph.\n",
    "    p: float\n",
    "        Edge probability. A number between 0 and 1.\n",
    "    seed: int (optional)\n",
    "        Seed for the random number generator. To get reproducible results.\n",
    "    \n",
    "    Returns\n",
    "    -------\n",
    "    adjacency\n",
    "        The adjacency matrix of a graph.\n",
    "    \"\"\"\n",
    "    \n",
    "    np.random.seed(seed)\n",
    "    \n",
    "    # define adjacency of all zeros\n",
    "    adjacency = np.zeros((n,n))\n",
    "    \n",
    "    for i in range(n):\n",
    "        for j in range(n):\n",
    "            if i >= j: continue\n",
    "                \n",
    "            # select a random number between 0 and 1\n",
    "            num_rand = np.random.uniform(0,1)\n",
    "            # construct link if less than p\n",
    "            if num_rand < p:\n",
    "                adjacency[i,j] = 1\n",
    "                adjacency[j,i] = 1\n",
    "    \n",
    "    return adjacency"
   ]
  },
  {
   "cell_type": "code",
   "execution_count": 45,
   "metadata": {},
   "outputs": [
    {
     "data": {
      "text/plain": [
       "Text(0.5, 1.05, 'Erdos-Renyi (5, 0.6)')"
      ]
     },
     "execution_count": 45,
     "metadata": {},
     "output_type": "execute_result"
    },
    {
     "data": {
      "image/png": "[encoded data removed]",
      "text/plain": [
       "<Figure size 432x288 with 1 Axes>"
      ]
     },
     "metadata": {},
     "output_type": "display_data"
    }
   ],
   "source": [
    "er = erdos_renyi(5, 0.6, 9765)\n",
    "plt.spy(er)\n",
    "plt.title('Erdos-Renyi (5, 0.6)')"
   ]
  },
  {
   "cell_type": "code",
   "execution_count": 46,
   "metadata": {},
   "outputs": [
    {
     "data": {
      "text/plain": [
       "Text(0.5, 1.05, 'Erdos-Renyi (10, 0.4)')"
      ]
     },
     "execution_count": 46,
     "metadata": {},
     "output_type": "execute_result"
    },
    {
     "data": {
      "image/png": "[encoded data removed]",
      "text/plain": [
       "<Figure size 432x288 with 1 Axes>"
      ]
     },
     "metadata": {},
     "output_type": "display_data"
    }
   ],
   "source": [
    "er = erdos_renyi(10, 0.4, 7648)\n",
    "plt.spy(er)\n",
    "plt.title('Erdos-Renyi (10, 0.4)')"
   ]
  },
  {
   "cell_type": "markdown",
   "metadata": {},
   "source": [
    "### Question 2\n",
    "\n",
    "Use the function to create a random Erdos-Renyi graph. Choose the parameters such that number of nodes is the same as in your graph, and the number of edges similar. You don't need to set the random seed. Comment on your choice of parameters."
   ]
  },
  {
   "cell_type": "code",
   "execution_count": 66,
   "metadata": {},
   "outputs": [
    {
     "ename": "NameError",
     "evalue": "name 'erdos_renyi' is not defined",
     "output_type": "error",
     "traceback": [
      "\u001b[0;31m---------------------------------------------------------------------------\u001b[0m",
      "\u001b[0;31mNameError\u001b[0m                                 Traceback (most recent call last)",
      "\u001b[0;32m<ipython-input-66-ef47eefc67e1>\u001b[0m in \u001b[0;36m<module>\u001b[0;34m()\u001b[0m\n\u001b[1;32m      1\u001b[0m \u001b[0mp\u001b[0m \u001b[0;34m=\u001b[0m \u001b[0mnp\u001b[0m\u001b[0;34m.\u001b[0m\u001b[0msum\u001b[0m\u001b[0;34m(\u001b[0m\u001b[0madjacency\u001b[0m\u001b[0;34m)\u001b[0m \u001b[0;34m/\u001b[0m \u001b[0;34m(\u001b[0m\u001b[0mn_nodes\u001b[0m\u001b[0;34m**\u001b[0m\u001b[0;36m2\u001b[0m\u001b[0;34m)\u001b[0m\u001b[0;34m\u001b[0m\u001b[0m\n\u001b[0;32m----> 2\u001b[0;31m \u001b[0mer\u001b[0m \u001b[0;34m=\u001b[0m \u001b[0merdos_renyi\u001b[0m\u001b[0;34m(\u001b[0m\u001b[0mn_nodes\u001b[0m\u001b[0;34m,\u001b[0m \u001b[0mp\u001b[0m\u001b[0;34m)\u001b[0m\u001b[0;34m\u001b[0m\u001b[0m\n\u001b[0m\u001b[1;32m      3\u001b[0m \u001b[0;34m\u001b[0m\u001b[0m\n\u001b[1;32m      4\u001b[0m \u001b[0mplt\u001b[0m\u001b[0;34m.\u001b[0m\u001b[0mspy\u001b[0m\u001b[0;34m(\u001b[0m\u001b[0mer\u001b[0m\u001b[0;34m)\u001b[0m\u001b[0;34m\u001b[0m\u001b[0m\n\u001b[1;32m      5\u001b[0m \u001b[0mplt\u001b[0m\u001b[0;34m.\u001b[0m\u001b[0mtitle\u001b[0m\u001b[0;34m(\u001b[0m\u001b[0;34m'Erdos-Renyi'\u001b[0m\u001b[0;34m)\u001b[0m\u001b[0;34m\u001b[0m\u001b[0m\n",
      "\u001b[0;31mNameError\u001b[0m: name 'erdos_renyi' is not defined"
     ]
    }
   ],
   "source": [
    "p = np.sum(adjacency) / (n_nodes**2)\n",
    "er = erdos_renyi(n_nodes, p)\n",
    "\n",
    "plt.spy(er)\n",
    "plt.title('Erdos-Renyi')\n",
    "print('Number of nodes = {n:}'.format(n=len(er)))\n",
    "print('Number of links = {l:}'.format(l=np.count_nonzero(er)/2))"
   ]
  },
  {
   "cell_type": "markdown",
   "metadata": {},
   "source": [
    "**Answer:**\n",
    "Having similar number of links is equivalent to having similar average clustering coefficient. From the lecture, we know that average clustering coefficient is equal to average degree divided by the number of nodes. Therefore, we can set the probability to p = average_degree / N"
   ]
  },
  {
   "cell_type": "markdown",
   "metadata": {},
   "source": [
    "### Question 3\n",
    "\n",
    "Create a function that constructs a Barabási-Albert graph."
   ]
  },
  {
   "cell_type": "code",
   "execution_count": 24,
   "metadata": {},
   "outputs": [],
   "source": [
    "def barabasi_albert(n, m, m0=0, seed=None):\n",
    "    \"\"\"Create an instance from the Barabasi-Albert graph model.\n",
    "    \n",
    "    Parameters\n",
    "    ----------\n",
    "    n: int\n",
    "        Size of the graph.\n",
    "    m: int\n",
    "        Number of edges to attach from a new node to existing nodes.\n",
    "    m0: int (optional)\n",
    "        Number of nodes for the inital connected network.\n",
    "    seed: int (optional)\n",
    "        Seed for the random number generator. To get reproducible results.\n",
    "    \n",
    "    Returns\n",
    "    -------\n",
    "    adjacency\n",
    "        The adjacency matrix of a graph.\n",
    "    \"\"\"\n",
    "    #initialize network with two nodes connected \n",
    "    nodes = m0\n",
    "    adjacency = np.zeros((nodes,nodes))\n",
    "    \n",
    "    #Set seed for reproducible results\n",
    "    np.random.seed(seed)\n",
    "    \n",
    "    #Build initial network \n",
    "    if nodes == 2:\n",
    "        #Connect the two existing links\n",
    "        adjacency[0,1] = 1\n",
    "        adjacency[1,0] = 1\n",
    "    else:\n",
    "        #Build initial network with at least one node per edge of size m0 starting from 2 connected nodes.\n",
    "        adjacency = barabasi_albert(m0, 1, m0=2, seed=seed)\n",
    "    \n",
    "    \n",
    "    for i in range(n-m0):\n",
    "        \n",
    "        #compute preference attachment\n",
    "        #1. degree of all the existing nodes:\n",
    "        degrees = np.sum(adjacency, axis=1)\n",
    "        #2. probability distribution \n",
    "        prob = degrees/(np.sum(degrees))\n",
    "        \n",
    "        #Select to which nodes to connect\n",
    "        n = np.array(list(range(nodes)))\n",
    "        to_connect = np.random.choice(n, size=m, p=prob)\n",
    "        \n",
    "        #Expand Adjacency Matrix\n",
    "        new_row = np.zeros((1,nodes))\n",
    "        adjacency = np.vstack([adjacency, new_row])\n",
    "        \n",
    "        #Add connection to chosen nodes\n",
    "        for i in to_connect:\n",
    "            adjacency[nodes,i] = 1\n",
    "        \n",
    "        #Update adjacency matrix\n",
    "        new_col = np.append(adjacency[nodes, :],[0])\n",
    "        new_col = np.reshape(new_col,(new_col.shape[0],1))\n",
    "        adjacency = np.hstack([adjacency, new_col])\n",
    "        #print(adjacency.shape[0])\n",
    "        \n",
    "        #Update graph size\n",
    "        nodes += 1\n",
    "    \n",
    "    return adjacency"
   ]
  },
  {
   "cell_type": "code",
   "execution_count": 25,
   "metadata": {},
   "outputs": [
    {
     "data": {
      "text/plain": [
       "Text(0.5, 1.05, 'Barabasi-Albert (5, 1)')"
      ]
     },
     "execution_count": 25,
     "metadata": {},
     "output_type": "execute_result"
    },
    {
     "data": {
      "image/png": "[encoded data removed]",
      "text/plain": [
       "<Figure size 432x288 with 1 Axes>"
      ]
     },
     "metadata": {},
     "output_type": "display_data"
    }
   ],
   "source": [
    "ba = barabasi_albert(5, 1, 2, 9087)\n",
    "plt.spy(ba)\n",
    "plt.title('Barabasi-Albert (5, 1)')"
   ]
  },
  {
   "cell_type": "code",
   "execution_count": 26,
   "metadata": {},
   "outputs": [
    {
     "data": {
      "text/plain": [
       "Text(0.5, 1.05, 'Barabasi-Albert (10, 2)')"
      ]
     },
     "execution_count": 26,
     "metadata": {},
     "output_type": "execute_result"
    },
    {
     "data": {
      "image/png": "[encoded data removed]",
      "text/plain": [
       "<Figure size 432x288 with 1 Axes>"
      ]
     },
     "metadata": {},
     "output_type": "display_data"
    }
   ],
   "source": [
    "ba = barabasi_albert(10, 2, 3, 8708)\n",
    "plt.spy(ba)\n",
    "plt.title('Barabasi-Albert (10, 2)')"
   ]
  },
  {
   "cell_type": "markdown",
   "metadata": {},
   "source": [
    "### Question 4\n",
    "\n",
    "Use the function to create a random Barabási-Albert graph. Choose the parameters such that number of nodes is the same as in your graph, and the number of edges similar. You don't need to set the random seed. Comment on your choice of parameters."
   ]
  },
  {
   "cell_type": "code",
   "execution_count": 27,
   "metadata": {},
   "outputs": [
    {
     "name": "stdout",
     "output_type": "stream",
     "text": [
      "Original number of edges: 8196.0\n",
      "Barabási-Albert number of edges 8182.0\n",
      "Original number of nodes: 848\n",
      "Barabási-Albert number of nodes: 848\n"
     ]
    },
    {
     "data": {
      "text/plain": [
       "Text(0.5, 1.05, 'Barabasi-Albert (848, 10)')"
      ]
     },
     "execution_count": 27,
     "metadata": {},
     "output_type": "execute_result"
    },
    {
     "data": {
      "image/png": "[encoded data removed]",
      "text/plain": [
       "<Figure size 432x288 with 1 Axes>"
      ]
     },
     "metadata": {},
     "output_type": "display_data"
    }
   ],
   "source": [
    "ba = barabasi_albert(n_nodes, 11, m0=95, seed=7272)\n",
    "print('Original number of edges: {}\\nBarabási-Albert number of edges {}'.format(n_edges, np.count_nonzero(ba)/2))\n",
    "print('Original number of nodes: {}\\nBarabási-Albert number of nodes: {}'.format(n_nodes, len(ba)))\n",
    "plt.spy(ba)\n",
    "plt.title('Barabasi-Albert (848, 10)')"
   ]
  },
  {
   "cell_type": "markdown",
   "metadata": {},
   "source": [
    "**Your answer here**"
   ]
  },
  {
   "cell_type": "markdown",
   "metadata": {},
   "source": [
    "### Definition of the new two network with the same nodes and edges as ours"
   ]
  },
  {
   "cell_type": "code",
   "execution_count": 52,
   "metadata": {},
   "outputs": [],
   "source": [
    "p = np.sum(adjacency) / (n_nodes**2)\n",
    "erdos_renyi_adj = erdos_renyi(n_nodes, p, seed=2727)\n",
    "barabasi_albert_adj = barabasi_albert(n_nodes, 11, m0=95, seed=7272)"
   ]
  },
  {
   "cell_type": "markdown",
   "metadata": {},
   "source": [
    "### Question 5\n",
    "\n",
    "Compare the number of edges in all three networks (your real network, the Erdős–Rényi network, and the Barabási-Albert netowk)."
   ]
  },
  {
   "cell_type": "code",
   "execution_count": 53,
   "metadata": {},
   "outputs": [
    {
     "name": "stdout",
     "output_type": "stream",
     "text": [
      "Our network number of edges = 8196\n",
      "Erdos-Renyi number of edges = 8252\n",
      "Barabasi-Albert number of edges = 8182\n"
     ]
    }
   ],
   "source": [
    "er_n_edges = np.sum(np.count_nonzero(erdos_renyi_adj)/2)\n",
    "ba_n_edges = np.sum(np.count_nonzero(barabasi_albert_adj)/2)\n",
    "\n",
    "print(\"Our network number of edges = %d\" %n_edges)\n",
    "print(\"Erdos-Renyi number of edges = %d\" %er_n_edges)\n",
    "print(\"Barabasi-Albert number of edges = %d\" %ba_n_edges)"
   ]
  },
  {
   "cell_type": "markdown",
   "metadata": {},
   "source": [
    "### Question 6\n",
    "\n",
    "Implement a function that computes the [Kullback–Leibler (KL) divergence](https://en.wikipedia.org/wiki/Kullback%E2%80%93Leibler_divergence) between two probability distributions.\n",
    "We'll use it to compare the degree distributions of networks."
   ]
  },
  {
   "cell_type": "code",
   "execution_count": 54,
   "metadata": {},
   "outputs": [],
   "source": [
    "def kl_divergence(p, q):\n",
    "    \"\"\"Compute the KL divergence between probability distributions of degrees of two networks.\n",
    "    \n",
    "    Parameters\n",
    "    ----------\n",
    "    p: np.array\n",
    "        Probability distribution of degrees of the 1st graph.\n",
    "    q: np.array\n",
    "        Probability distribution of degrees of the 2nd graph.\n",
    "    \n",
    "    Returns\n",
    "    -------\n",
    "    kl\n",
    "        The KL divergence between the two distributions.\n",
    "    \"\"\"\n",
    "    \n",
    "    return np.sum(p * np.log(np.divide(p, q)))"
   ]
  },
  {
   "cell_type": "code",
   "execution_count": 55,
   "metadata": {},
   "outputs": [
    {
     "data": {
      "text/plain": [
       "0.09151622184943575"
      ]
     },
     "execution_count": 55,
     "metadata": {},
     "output_type": "execute_result"
    }
   ],
   "source": [
    "p_test = np.array([0.2, 0.2, 0.2, 0.4])\n",
    "q_test = np.array([0.3, 0.3, 0.1, 0.3])\n",
    "kl_divergence(p_test, q_test)"
   ]
  },
  {
   "cell_type": "markdown",
   "metadata": {},
   "source": [
    "### Question 7\n",
    "\n",
    "Compare the degree distribution of your network to each of the two synthetic ones, in terms of KL divergence. **Hint:** Make sure you normalise your degree distributions to make them valid probability distributions."
   ]
  },
  {
   "cell_type": "code",
   "execution_count": 56,
   "metadata": {},
   "outputs": [],
   "source": [
    "def degree_distribution(adjacency):\n",
    "    return np.sum(adjacency, axis=1)"
   ]
  },
  {
   "cell_type": "code",
   "execution_count": 57,
   "metadata": {},
   "outputs": [],
   "source": [
    "def normalised_degree_distribution(adjacency):\n",
    "    degree_distr = degree_distribution(adjacency)\n",
    "    total_sum = np.sum(degree_distr)\n",
    "    \n",
    "    return degree_distr / total_sum"
   ]
  },
  {
   "cell_type": "code",
   "execution_count": 58,
   "metadata": {},
   "outputs": [
    {
     "name": "stdout",
     "output_type": "stream",
     "text": [
      "KL(our network | erdos-renyi) = 0.157358\n",
      "KL(our network | barbasi-albert) = 0.296017\n"
     ]
    }
   ],
   "source": [
    "norm_degree_distr = normalised_degree_distribution(adjacency)\n",
    "er_norm_degree_distr = normalised_degree_distribution(erdos_renyi_adj)\n",
    "ba_norm_degree_distr = normalised_degree_distribution(barabasi_albert_adj)\n",
    "\n",
    "print(\"KL(our network | erdos-renyi) = %f\" %kl_divergence(\n",
    "    norm_degree_distr, er_norm_degree_distr))\n",
    "print(\"KL(our network | barbasi-albert) = %f\" %kl_divergence(\n",
    "    norm_degree_distr, ba_norm_degree_distr))"
   ]
  },
  {
   "cell_type": "markdown",
   "metadata": {},
   "source": [
    "### Question 8\n",
    "\n",
    "Plot the degree distribution historgrams for all three networks. Are they consistent with the KL divergence results? Explain."
   ]
  },
  {
   "cell_type": "code",
   "execution_count": 59,
   "metadata": {},
   "outputs": [
    {
     "name": "stdout",
     "output_type": "stream",
     "text": [
      "Our degree distribution\n"
     ]
    },
    {
     "data": {
      "image/png": "[encoded data removed]",
      "text/plain": [
       "<Figure size 432x288 with 1 Axes>"
      ]
     },
     "metadata": {},
     "output_type": "display_data"
    }
   ],
   "source": [
    "print(\"Our degree distribution\")\n",
    "o_degree_distr = degree_distribution(adjacency)\n",
    "o_weights = np.ones_like(o_degree_distr) / float(n_nodes)\n",
    "plt.hist(o_degree_distr, weights=o_weights);"
   ]
  },
  {
   "cell_type": "code",
   "execution_count": 60,
   "metadata": {},
   "outputs": [
    {
     "name": "stdout",
     "output_type": "stream",
     "text": [
      "Erdos-Renyi degree distribution\n"
     ]
    },
    {
     "data": {
      "image/png": "[encoded data removed]",
      "text/plain": [
       "<Figure size 432x288 with 1 Axes>"
      ]
     },
     "metadata": {},
     "output_type": "display_data"
    }
   ],
   "source": [
    "print(\"Erdos-Renyi degree distribution\")\n",
    "er_degree_distrib = degree_distribution(erdos_renyi_adj)\n",
    "er_weights = np.ones_like(er_degree_distrib) / float(n_nodes)\n",
    "plt.hist(er_degree_distrib, weights=er_weights);"
   ]
  },
  {
   "cell_type": "code",
   "execution_count": 61,
   "metadata": {},
   "outputs": [
    {
     "name": "stdout",
     "output_type": "stream",
     "text": [
      "Barabasi-Albert degree distribution\n"
     ]
    },
    {
     "data": {
      "image/png": "[encoded data removed]",
      "text/plain": [
       "<Figure size 432x288 with 1 Axes>"
      ]
     },
     "metadata": {},
     "output_type": "display_data"
    }
   ],
   "source": [
    "print(\"Barabasi-Albert degree distribution\")\n",
    "ba_degree_distrib = degree_distribution(barabasi_albert_adj)\n",
    "ba_weights = np.ones_like(ba_degree_distrib) / float(n_nodes)\n",
    "plt.hist(ba_degree_distrib, weights=ba_weights);"
   ]
  },
  {
   "cell_type": "markdown",
   "metadata": {},
   "source": [
    "**Your answer here.**"
   ]
  },
  {
   "cell_type": "markdown",
   "metadata": {},
   "source": [
    "### Question 9\n",
    "\n",
    "Imagine you got equal degree distributions. Would that guarantee you got the same graph? Explain."
   ]
  },
  {
   "cell_type": "markdown",
   "metadata": {},
   "source": [
    "**Your answer here.**"
   ]
  },
  {
   "cell_type": "markdown",
   "metadata": {},
   "source": [
    "## Part 2\n",
    "\n",
    "**You are allowed to use any additional library here (e.g., NetworkX, PyGSP, etc.).** Be careful not to include something here and use it in part 1!"
   ]
  },
  {
   "cell_type": "code",
   "execution_count": 39,
   "metadata": {},
   "outputs": [],
   "source": [
    "import pygsp\n",
    "import matplotlib.pyplot as plt\n"
   ]
  },
  {
   "cell_type": "code",
   "execution_count": 40,
   "metadata": {},
   "outputs": [],
   "source": [
    "def compute_diameter(adjacency):\n",
    "    \"\"\"returns the diameter of the provided graph.\\\n",
    "    Returns diameter (length of the longest shortest path between any pair of nodes)\"\"\"\n",
    "    \n",
    "    # number of nodes in the graph\n",
    "    list_of_nodes = np.where(np.sum(adjacency, axis=1) > 0)[0]\n",
    "    # initialize diameter to be 0\n",
    "    diameter = 0\n",
    "    \n",
    "    for _, node in enumerate(list_of_nodes):\n",
    "        shortest_path_lengths = compute_shortest_path_lengths(adjacency, node)\n",
    "        \n",
    "        # exclude infinite distances i.e. disconnected nodes\n",
    "        shortest_path_lengths = shortest_path_lengths[shortest_path_lengths != float('inf')]\n",
    "        max_s = max(shortest_path_lengths)\n",
    "        \n",
    "        if max_s > diameter:\n",
    "            diameter = max_s\n",
    "    \n",
    "    return int(diameter)"
   ]
  },
  {
   "cell_type": "code",
   "execution_count": 76,
   "metadata": {},
   "outputs": [],
   "source": [
    "def compute_shortest_path_lengths(adjacency, source):\n",
    "    \"\"\"Compute the shortest path length between a source node and all nodes.\n",
    "    \n",
    "    Parameters\n",
    "    ----------\n",
    "    adjacency: numpy array\n",
    "        The (weighted) adjacency matrix of a graph.\n",
    "    source: int\n",
    "        The source node. A number between 0 and n_nodes-1.\n",
    "    \n",
    "    Returns\n",
    "    -------\n",
    "    list of ints\n",
    "        The length of the shortest path from source to all nodes. Returned list should be of length n_nodes.\n",
    "    \"\"\"\n",
    "    \n",
    "    shortest_path_lengths = np.zeros(len(adjacency)) - 1\n",
    "    visited_dict = breadth_first_search(adjacency, source)\n",
    "    \n",
    "    list_visited_values = list(visited_dict.values())\n",
    "    list_visited_keys = list(visited_dict.keys())\n",
    "    \n",
    "    for node in range(len(adjacency)):\n",
    "        for n in range(len(list_visited_values)):\n",
    "                if node in list(list_visited_values)[n]:\n",
    "                    # the keys in the distionary are hop distances\n",
    "                    shortest_path_length = list_visited_keys[list_visited_values.index(list_visited_values[n])]\n",
    "                    shortest_path_lengths[node] = int(shortest_path_length)\n",
    "        \n",
    "    # entries whose values are -1 mean they were disconnected\n",
    "    shortest_path_lengths[shortest_path_lengths == -1] = float('inf')\n",
    "    \n",
    "    return shortest_path_lengths"
   ]
  },
  {
   "cell_type": "code",
   "execution_count": 78,
   "metadata": {},
   "outputs": [],
   "source": [
    "# define breadth first search algorithm which will be useful for answering some of questions 7 - 14\n",
    "\n",
    "def breadth_first_search(graph, start):\n",
    "    '''Takes the adjacencay matrix (graph) and the startin vertex.\n",
    "    Returns a dictionary whose keys represent (hop) distance from start vertex\\\n",
    "    and values represent all vertices located at that distance from start vertex.\n",
    "    Only the shortest path is counted.'''\n",
    "    \n",
    "    # define a set for all visited nodes.\n",
    "    visited = set()\n",
    "    # define dictionary; keys are distances; values are vertices at that distance (from start vertex)\n",
    "    visited_dict = dict({0: {start}})\n",
    "    # define a set to keep track of all searched nodes in the BFS algorithm\n",
    "    searched = set([start])\n",
    "    \n",
    "    # all vertices found in the process of BFS are added to the list\n",
    "    queue = [start]\n",
    "    while queue:\n",
    "        # next vertex in the queue\n",
    "        vertex = queue.pop(0)\n",
    "        \n",
    "        if vertex not in visited:\n",
    "            visited.add(vertex)\n",
    "            \n",
    "            # define all the neighbors of the current vertex\n",
    "            neighbors = set([i for i, x in enumerate(adjacency[vertex]) if x==1])\n",
    "            \n",
    "            # get key of current vertex\n",
    "            for n in range(len(list(visited_dict.values()))):\n",
    "                if vertex in list(visited_dict.values())[n]:\n",
    "                    key = list(visited_dict.keys())[list(visited_dict.values()).index(list(visited_dict.values())[n])]\n",
    "\n",
    "            # create a new key if key + 1 does not exist yet\n",
    "            if visited_dict.get(key+1) == None: \n",
    "                visited_dict.update({key+1: set()}) # define an empty set for the value of new key\n",
    "            # update the value of the new key\n",
    "            visited_dict.get(key+1).update(neighbors - searched)\n",
    "            searched.update(neighbors)\n",
    "            \n",
    "            # add only ones that have not yet been visited to the queue\n",
    "            queue.extend(neighbors - visited)\n",
    "    return visited_dict"
   ]
  },
  {
   "cell_type": "markdown",
   "metadata": {},
   "source": [
    "### Question 10\n",
    "\n",
    "Choose a random network model that fits you network well. Explain your choice. \n",
    "\n",
    "**Hint:** Check lecture notes for different network models and their properties. Your choice should be made based on at least one property you'd expect to be similar."
   ]
  },
  {
   "cell_type": "markdown",
   "metadata": {},
   "source": [
    "**Your answer here.**"
   ]
  },
  {
   "cell_type": "code",
   "execution_count": 79,
   "metadata": {},
   "outputs": [
    {
     "name": "stderr",
     "output_type": "stream",
     "text": [
      "2018-11-07 11:52:07,777:[INFO](pygsp.graphs.community.__init__): Constructed using community density = 0.02279503381986472\n"
     ]
    },
    {
     "name": "stdout",
     "output_type": "stream",
     "text": [
      "14\n"
     ]
    },
    {
     "data": {
      "text/plain": [
       "Text(0.5, 1.05, 'Barabasi-Albert (5, 1)')"
      ]
     },
     "execution_count": 79,
     "metadata": {},
     "output_type": "execute_result"
    },
    {
     "data": {
      "image/png": "[encoded data removed]",
      "text/plain": [
       "<Figure size 432x288 with 2 Axes>"
      ]
     },
     "metadata": {},
     "output_type": "display_data"
    }
   ],
   "source": [
    "\n",
    "G = pygsp.graphs.Community(N=848, Nc=12, min_comm=None, min_deg=0, comm_sizes=None, size_ratio=1, world_density=None, comm_density=p, k_neigh=None, epsilon=None, seed=None)\n",
    "fig, axes = plt.subplots(1, 2)\n",
    "_ = axes[0].spy(G.W, markersize=0.5)\n",
    "m = G.W.todense()\n",
    "\n",
    "print(compute_diameter(m))\n",
    "plt.spy(adjacency)\n",
    "plt.title('Barabasi-Albert (5, 1)')"
   ]
  },
  {
   "cell_type": "code",
   "execution_count": 80,
   "metadata": {},
   "outputs": [],
   "source": [
    "adj_ba = np.array(G.W)\n",
    "#compute_diameter(adj_ba)"
   ]
  },
  {
   "cell_type": "code",
   "execution_count": 83,
   "metadata": {},
   "outputs": [
    {
     "data": {
      "image/png": "[encoded data removed]",
      "text/plain": [
       "<Figure size 432x288 with 1 Axes>"
      ]
     },
     "metadata": {},
     "output_type": "display_data"
    }
   ],
   "source": [
    "degree =  m.sum(axis=1)\n",
    "weights = np.ones_like(degree) / float(n_nodes)\n",
    "plt.hist(degree, weights=weights, bins =10);"
   ]
  },
  {
   "cell_type": "markdown",
   "metadata": {},
   "source": [
    "### Question 11\n",
    "\n",
    "Explain (in short) how the chosen model works."
   ]
  },
  {
   "cell_type": "markdown",
   "metadata": {},
   "source": [
    "**Your answer here.**"
   ]
  },
  {
   "cell_type": "markdown",
   "metadata": {},
   "source": [
    "### Question 12\n",
    "\n",
    "Create a random graph from that model, such that the number of nodes is the same as in your graph."
   ]
  },
  {
   "cell_type": "code",
   "execution_count": null,
   "metadata": {},
   "outputs": [],
   "source": [
    "# Your code here."
   ]
  },
  {
   "cell_type": "markdown",
   "metadata": {},
   "source": [
    "### Question 13\n",
    "\n",
    "Check the properties you expected to be similar, and compare to your network."
   ]
  },
  {
   "cell_type": "code",
   "execution_count": null,
   "metadata": {},
   "outputs": [],
   "source": [
    "# Your code here."
   ]
  },
  {
   "cell_type": "markdown",
   "metadata": {},
   "source": [
    "Are the results what you expected? Explain."
   ]
  },
  {
   "cell_type": "markdown",
   "metadata": {},
   "source": [
    "**Your answer here.**"
   ]
  }
 ],
 "metadata": {
  "kernelspec": {
   "display_name": "Python 3",
   "language": "python",
   "name": "python3"
  },
  "language_info": {
   "codemirror_mode": {
    "name": "ipython",
    "version": 3
   },
   "file_extension": ".py",
   "mimetype": "text/x-python",
   "name": "python",
   "nbconvert_exporter": "python",
   "pygments_lexer": "ipython3",
   "version": "3.6.6"
  }
 },
 "nbformat": 4,
 "nbformat_minor": 2
}

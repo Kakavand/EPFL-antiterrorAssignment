{
 "cells": [
  {
   "cell_type": "markdown",
   "metadata": {},
   "source": [
    "# [NTDS'18] milestone 3: spectral graph theory\n",
    "[ntds'18]: https://github.com/mdeff/ntds_2018\n",
    "\n",
    "[Michaël Defferrard](http://deff.ch), [EPFL LTS2](https://lts2.epfl.ch)"
   ]
  },
  {
   "cell_type": "markdown",
   "metadata": {},
   "source": [
    "## Students\n",
    "\n",
    "* Team: `<your team number>`\n",
    "* Students: `<the name of all students in the team>`\n",
    "* Dataset: `<the dataset you used to complete the milestone>`"
   ]
  },
  {
   "cell_type": "markdown",
   "metadata": {},
   "source": [
    "## Rules\n",
    "\n",
    "* Milestones have to be completed by teams. No collaboration between teams is allowed.\n",
    "* Textual answers shall be short. Typically one to two sentences.\n",
    "* Code has to be clean.\n",
    "* You cannot import any other library than we imported.\n",
    "* When submitting, the notebook is executed and the results are stored. I.e., if you open the notebook again it should show numerical results and plots. We won't be able to execute your notebooks.\n",
    "* The notebook is re-executed from a blank state before submission. That is to be sure it is reproducible. You can click \"Kernel\" then \"Restart & Run All\" in Jupyter."
   ]
  },
  {
   "cell_type": "markdown",
   "metadata": {},
   "source": [
    "## Objective\n",
    "\n",
    "The goal of this milestone is to get familiar with the graph Laplacian and its spectral decomposition."
   ]
  },
  {
   "cell_type": "markdown",
   "metadata": {},
   "source": [
    "## 0 Load your network"
   ]
  },
  {
   "cell_type": "code",
   "execution_count": 1,
   "metadata": {},
   "outputs": [],
   "source": [
    "%matplotlib inline"
   ]
  },
  {
   "cell_type": "code",
   "execution_count": 2,
   "metadata": {},
   "outputs": [],
   "source": [
    "from our_functions import *"
   ]
  },
  {
   "cell_type": "markdown",
   "metadata": {},
   "source": [
    "If you get a `No module named 'sklearn'` error when running the below cell, install [scikit-learn](https://scikit-learn.org) with `conda install scikit-learn` (after activating the `ntds_2018` environment)."
   ]
  },
  {
   "cell_type": "code",
   "execution_count": 3,
   "metadata": {},
   "outputs": [],
   "source": [
    "import numpy as np\n",
    "import scipy\n",
    "from scipy import sparse\n",
    "import scipy.sparse.linalg as linalg\n",
    "import matplotlib.pyplot as plt\n",
    "from sklearn.cluster import KMeans"
   ]
  },
  {
   "cell_type": "markdown",
   "metadata": {},
   "source": [
    "Let's denote your graph as $\\mathcal{G} = (\\mathcal{V}, \\mathcal{E}, A)$, where $\\mathcal{V}$ is the set of nodes, $\\mathcal{E}$ is the set of edges, $A \\in \\mathbb{R}^{N \\times N}$ is the (weighted) adjacency matrix, and $N = |\\mathcal{V}|$ is the number of nodes.\n",
    "\n",
    "Import the adjacency matrix $A$ that you constructed in the first milestone.\n",
    "(You're allowed to update it between milestones if you want to.)"
   ]
  },
  {
   "cell_type": "code",
   "execution_count": 4,
   "metadata": {},
   "outputs": [
    {
     "name": "stdout",
     "output_type": "stream",
     "text": [
      "Number of nodes = 848\n",
      "Number of edges = 8196.0\n"
     ]
    }
   ],
   "source": [
    "import numpy as np\n",
    "\n",
    "adjacency = np.load('adjacency.npy')\n",
    "# deleting nodes without any connection\n",
    "zero_index = np.where(np.sum(adjacency, axis=0) == 0)[0]\n",
    "adjacency = np.delete(adjacency, zero_index, axis = 0)\n",
    "adjacency = np.delete(adjacency, zero_index, axis = 1)\n",
    "\n",
    "n_nodes =  np.count_nonzero(np.sum(adjacency, axis=0))\n",
    "n_edges =  np.count_nonzero(adjacency) / 2\n",
    "\n",
    "print('Number of nodes = {n:}'.format(n=n_nodes))\n",
    "print('Number of edges = {e:}'.format(e=n_edges))"
   ]
  },
  {
   "cell_type": "code",
   "execution_count": 5,
   "metadata": {},
   "outputs": [
    {
     "data": {
      "text/plain": [
       "<matplotlib.lines.Line2D at 0x1a213df438>"
      ]
     },
     "execution_count": 5,
     "metadata": {},
     "output_type": "execute_result"
    },
    {
     "data": {
      "image/png": "[encoded data removed]",
      "text/plain": [
       "<Figure size 432x288 with 1 Axes>"
      ]
     },
     "metadata": {},
     "output_type": "display_data"
    }
   ],
   "source": [
    "plt.spy(adjacency, markersize=3)"
   ]
  },
  {
   "cell_type": "markdown",
   "metadata": {},
   "source": [
    "## 1 Graph Laplacian"
   ]
  },
  {
   "cell_type": "markdown",
   "metadata": {},
   "source": [
    "### Question 1\n",
    "\n",
    "From the (weighted) adjacency matrix $A$, compute both the combinatorial (also called unnormalized) and the normalized graph Laplacian matrices.\n",
    "\n",
    "Note: if your graph is weighted, use the weighted adjacency matrix. If not, use the binary adjacency matrix.\n",
    "\n",
    "For efficient storage and computation, store these sparse matrices in a [compressed sparse row (CSR) format](https://en.wikipedia.org/wiki/Sparse_matrix#Compressed_sparse_row_.28CSR.2C_CRS_or_Yale_format.29)."
   ]
  },
  {
   "cell_type": "code",
   "execution_count": 99,
   "metadata": {},
   "outputs": [
    {
     "name": "stdout",
     "output_type": "stream",
     "text": [
      "(848, 848)\n"
     ]
    }
   ],
   "source": [
    "adj_csr = sparse.csr_matrix(adjacency)\n",
    "print(adj_csr.shape)"
   ]
  },
  {
   "cell_type": "code",
   "execution_count": 100,
   "metadata": {},
   "outputs": [],
   "source": [
    "# Compute matrix D\n",
    "degrees = adj_csr * np.ones((n_nodes,1))\n",
    "D = np.diag(degrees[:,0])\n",
    "D_csr = sparse.csr_matrix(D)\n"
   ]
  },
  {
   "cell_type": "code",
   "execution_count": 101,
   "metadata": {},
   "outputs": [],
   "source": [
    "laplacian_combinatorial =  D_csr - adj_csr\n",
    "D_half = scipy.linalg.fractional_matrix_power(D, 0.5)\n",
    "D_half = linalg.inv(sparse.csc_matrix(D_half))\n",
    "laplacian_normalized =  D_half*laplacian_combinatorial*D_half"
   ]
  },
  {
   "cell_type": "markdown",
   "metadata": {},
   "source": [
    "Use one of them as the graph Laplacian $L$ for the rest of the milestone.\n",
    "We however encourage you to run the code with both to get a sense of the difference!"
   ]
  },
  {
   "cell_type": "code",
   "execution_count": 102,
   "metadata": {},
   "outputs": [
    {
     "data": {
      "text/plain": [
       "scipy.sparse.csc.csc_matrix"
      ]
     },
     "execution_count": 102,
     "metadata": {},
     "output_type": "execute_result"
    }
   ],
   "source": [
    "laplacian =  laplacian_normalized\n",
    "type(laplacian)"
   ]
  },
  {
   "cell_type": "markdown",
   "metadata": {},
   "source": [
    "### Question 2\n",
    "\n",
    "Compute the eigendecomposition of the Laplacian $L = U^\\top \\Lambda U$, where the columns $u_k \\in \\mathbb{R}^N$ of $U = [u_1, \\dots, u_N] \\in \\mathbb{R}^{N \\times N}$ are the eigenvectors and the diagonal elements $\\lambda_k = \\Lambda_{kk}$ are the corresponding eigenvalues.\n",
    "\n",
    "Make sure that the eigenvalues are ordered, i.e., $0 = \\lambda_1 \\leq \\lambda_2 \\leq \\dots \\leq \\lambda_N$."
   ]
  },
  {
   "cell_type": "code",
   "execution_count": 105,
   "metadata": {},
   "outputs": [],
   "source": [
    "w, vl = scipy.linalg.eig(laplacian.toarray())\n",
    "eigenvectors =  vl\n",
    "eigenvalues =  w\n",
    "\n",
    "idx = np.argsort(eigenvalues)\n",
    "eigenvalues = eigenvalues[idx]\n",
    "eigenvectors = eigenvectors[idx]\n",
    "\n",
    "\n",
    "assert eigenvectors.shape == (n_nodes, n_nodes)"
   ]
  },
  {
   "cell_type": "code",
   "execution_count": 9,
   "metadata": {},
   "outputs": [
    {
     "name": "stdout",
     "output_type": "stream",
     "text": [
      "Max eigenvalue:(1.7481659383009864+0j)\n",
      "Min eigenvalues: (-9.865611540967387e-16+0j)\n"
     ]
    }
   ],
   "source": [
    "print('Max eigenvalue:{}'.format(max(eigenvalues)))\n",
    "print('Min eigenvalues: {}'.format(min(eigenvalues)))"
   ]
  },
  {
   "cell_type": "markdown",
   "metadata": {},
   "source": [
    "Justify your choice of eigensolver."
   ]
  },
  {
   "cell_type": "markdown",
   "metadata": {},
   "source": [
    "**Answer:**\n",
    "\n",
    "The solver used for computing the eigenvalues and eigenvector is the one provided by scipy linalg module. Although the usage of sparse matrices can make computation faster, the solver provided by the sparse module does not allow to compute all eigenvalues and eigenvectors of the laplacian and therefore, does not match our requirements"
   ]
  },
  {
   "cell_type": "markdown",
   "metadata": {},
   "source": [
    "### Question 3\n",
    "\n",
    "We can write $L = S S^\\top$. What is the matrix $S$? What does $S^\\top x$, with $x \\in \\mathbb{R}^N$, compute?"
   ]
  },
  {
   "cell_type": "markdown",
   "metadata": {},
   "source": [
    "**Answer:**\n",
    "\n",
    "$L$ is the **Incidence Matrix** that relates nodes and edges. It has the same number of rows as nodes in the network and the same number of columns as edges in the network.\n",
    "\n",
    "$S^Tx$ "
   ]
  },
  {
   "cell_type": "markdown",
   "metadata": {},
   "source": [
    "### Question 4\n",
    "\n",
    "Show that $\\lambda_k = \\| S^\\top u_k \\|_2^2$, where $\\| \\cdot \\|_2^2$ denotes the squared Euclidean norm (a.k.a. squared $L^2$ norm)."
   ]
  },
  {
   "cell_type": "markdown",
   "metadata": {},
   "source": [
    "**Your answer here.**"
   ]
  },
  {
   "cell_type": "markdown",
   "metadata": {},
   "source": [
    "What does the quantity $\\| S^\\top x \\|_2^2$ tell us about $x$?"
   ]
  },
  {
   "cell_type": "markdown",
   "metadata": {},
   "source": [
    "**Answer:**\n",
    "\n",
    "$|| S^Tx ||^2_2 = <S^Tx, S^Tx>$ $= x L x$\n",
    "\n",
    "Computes de Laplacian along the graph¿?¿?"
   ]
  },
  {
   "cell_type": "markdown",
   "metadata": {},
   "source": [
    "### Question 5\n",
    "\n",
    "What is the value of $u_0$, both for the combinatorial and normalized Laplacians?"
   ]
  },
  {
   "cell_type": "markdown",
   "metadata": {},
   "source": [
    "**Answer:**\n",
    "\n",
    "$u_0$ is the corresponding eigenvector to the first eigenvalue which is always 0. $u_0$ **something related with the connectivity of the graph?**"
   ]
  },
  {
   "cell_type": "markdown",
   "metadata": {},
   "source": [
    "### Question 6\n",
    "\n",
    "Look at the spectrum of the Laplacian by plotting the eigenvalues.\n",
    "Comment on what you observe."
   ]
  },
  {
   "cell_type": "code",
   "execution_count": 15,
   "metadata": {},
   "outputs": [
    {
     "name": "stderr",
     "output_type": "stream",
     "text": [
      "/Users/nataliebolon/miniconda3/envs/ntds_2018/lib/python3.6/site-packages/numpy/core/numeric.py:501: ComplexWarning: Casting complex values to real discards the imaginary part\n",
      "  return array(a, dtype, copy=False, order=order)\n"
     ]
    },
    {
     "data": {
      "text/plain": [
       "[<matplotlib.lines.Line2D at 0x1a26850a90>]"
      ]
     },
     "execution_count": 15,
     "metadata": {},
     "output_type": "execute_result"
    },
    {
     "data": {
      "image/png": "[encoded data removed]",
      "text/plain": [
       "<Figure size 432x288 with 1 Axes>"
      ]
     },
     "metadata": {},
     "output_type": "display_data"
    }
   ],
   "source": [
    "n = 25\n",
    "plt.plot(list(range(n)), eigenvalues[:n],'bo')"
   ]
  },
  {
   "cell_type": "code",
   "execution_count": 84,
   "metadata": {},
   "outputs": [
    {
     "name": "stderr",
     "output_type": "stream",
     "text": [
      "/Users/nataliebolon/miniconda3/envs/ntds_2018/lib/python3.6/site-packages/numpy/core/numeric.py:501: ComplexWarning: Casting complex values to real discards the imaginary part\n",
      "  return array(a, dtype, copy=False, order=order)\n"
     ]
    },
    {
     "data": {
      "text/plain": [
       "[<matplotlib.lines.Line2D at 0x1a27d12048>]"
      ]
     },
     "execution_count": 84,
     "metadata": {},
     "output_type": "execute_result"
    },
    {
     "data": {
      "image/png": "[encoded data removed]",
      "text/plain": [
       "<Figure size 432x288 with 1 Axes>"
      ]
     },
     "metadata": {},
     "output_type": "display_data"
    }
   ],
   "source": [
    "n = n_nodes\n",
    "plt.plot(list(range(n)), eigenvalues[:n],'bo')"
   ]
  },
  {
   "cell_type": "markdown",
   "metadata": {},
   "source": [
    "**Your answer here.**"
   ]
  },
  {
   "cell_type": "markdown",
   "metadata": {},
   "source": [
    "How many connected components are there in your graph? Answer using the eigenvalues only."
   ]
  },
  {
   "cell_type": "code",
   "execution_count": 23,
   "metadata": {},
   "outputs": [
    {
     "name": "stdout",
     "output_type": "stream",
     "text": [
      "1\n"
     ]
    }
   ],
   "source": []
  },
  {
   "cell_type": "markdown",
   "metadata": {},
   "source": [
    "Is there an upper bound on the eigenvalues, i.e., what is the largest possible eigenvalue? Answer for both the combinatorial and normalized Laplacians."
   ]
  },
  {
   "cell_type": "markdown",
   "metadata": {},
   "source": [
    "**Your answer here.**"
   ]
  },
  {
   "cell_type": "markdown",
   "metadata": {},
   "source": [
    "## 3 Laplacian eigenmaps\n",
    "\n",
    "*Laplacian eigenmaps* is a method to embed a graph $\\mathcal{G}$ in a $d$-dimensional Euclidean space.\n",
    "That is, it associates a vector $z_i \\in \\mathbb{R}^d$ to every node $v_i \\in \\mathcal{V}$.\n",
    "The graph $\\mathcal{G}$ is thus embedded as $Z \\in \\mathbb{R}^{N \\times d}$."
   ]
  },
  {
   "cell_type": "markdown",
   "metadata": {},
   "source": [
    "### Question 7\n",
    "\n",
    "What do we use Laplacian eigenmaps for? (Or more generally, graph embeddings.)"
   ]
  },
  {
   "cell_type": "markdown",
   "metadata": {},
   "source": [
    "**Your answer here.**"
   ]
  },
  {
   "cell_type": "markdown",
   "metadata": {},
   "source": [
    "### Question 8\n",
    "\n",
    "Embed your graph in $d=2$ dimensions with Laplacian eigenmaps.\n",
    "Try with and without re-normalizing the eigenvectors by the degrees, then keep the one your prefer.\n",
    "\n",
    "**Recompute** the eigenvectors you need with a partial eigendecomposition method for sparse matrices.\n",
    "When $k \\ll N$ eigenvectors are needed, partial eigendecompositions are much more efficient than complete eigendecompositions.\n",
    "A partial eigendecomposition scales as $\\Omega(k |\\mathcal{E}|$), while a complete eigendecomposition costs $\\mathcal{O}(N^3)$ operations."
   ]
  },
  {
   "cell_type": "code",
   "execution_count": null,
   "metadata": {},
   "outputs": [],
   "source": [
    "# Your code here."
   ]
  },
  {
   "cell_type": "markdown",
   "metadata": {},
   "source": [
    "Plot the nodes embedded in 2D. Comment on what you see."
   ]
  },
  {
   "cell_type": "code",
   "execution_count": null,
   "metadata": {},
   "outputs": [],
   "source": [
    "# Your code here."
   ]
  },
  {
   "cell_type": "markdown",
   "metadata": {},
   "source": [
    "**Your answer here.**"
   ]
  },
  {
   "cell_type": "markdown",
   "metadata": {},
   "source": [
    "### Question 9"
   ]
  },
  {
   "cell_type": "markdown",
   "metadata": {},
   "source": [
    "What does the embedding $Z \\in \\mathbb{R}^{N \\times d}$ preserve?"
   ]
  },
  {
   "cell_type": "markdown",
   "metadata": {},
   "source": [
    "**Your answer here.**"
   ]
  },
  {
   "cell_type": "markdown",
   "metadata": {},
   "source": [
    "## 2 Spectral clustering\n",
    "\n",
    "*Spectral clustering* is a method to partition a graph into distinct clusters.\n",
    "The method associates a feature vector $z_i \\in \\mathbb{R}^d$ to every node $v_i \\in \\mathcal{V}$, then runs [$k$-means](https://en.wikipedia.org/wiki/K-means_clustering) in the embedding space $\\mathbb{R}^d$ to assign each node $v_i \\in \\mathcal{V}$ to a cluster $c_j \\in \\mathcal{C}$, where $k = |\\mathcal{C}|$ is the number of desired clusters."
   ]
  },
  {
   "cell_type": "markdown",
   "metadata": {},
   "source": [
    "### Question 10\n",
    "\n",
    "Choose $k$ and $d$. How did you get to those numbers?"
   ]
  },
  {
   "cell_type": "markdown",
   "metadata": {},
   "source": [
    "**Your answer here.**"
   ]
  },
  {
   "cell_type": "markdown",
   "metadata": {},
   "source": [
    "### Question 11\n",
    "\n",
    "1. Embed your graph in $\\mathbb{R}^d$ as $Z \\in \\mathbb{R}^{N \\times d}$.\n",
    "   Try with and without re-normalizing the eigenvectors by the degrees, then keep the one your prefer.\n",
    "1. If you want $k=2$ clusters, partition with the Fiedler vector. For $k > 2$ clusters, run $k$-means on $Z$. Don't implement $k$-means, use the `KMeans` class imported from scikit-learn."
   ]
  },
  {
   "cell_type": "code",
   "execution_count": 108,
   "metadata": {},
   "outputs": [],
   "source": [
    "def norm_emb(adj, d, k):\n",
    "    #_, z = linalg.eigsh(adj.asfptype(), k=d)\n",
    "    z = np.real(eigenvectors[:d])\n",
    "    clusters = KMeans(k)\n",
    "    clusters.fit(z)\n",
    "\n",
    "    labels = clusters.labels_\n",
    "    return labels\n",
    "\n",
    "\n"
   ]
  },
  {
   "cell_type": "markdown",
   "metadata": {},
   "source": [
    "### Question 12\n",
    "\n",
    "Use the computed cluster assignment to reorder the adjacency matrix $A$.\n",
    "What do you expect? What do you observe?"
   ]
  },
  {
   "cell_type": "code",
   "execution_count": 156,
   "metadata": {},
   "outputs": [],
   "source": [
    "def num_nodes(adjacency):\n",
    "    '''outputs the number of nodes in a graph given that it is connected'''\n",
    "    return np.count_nonzero(np.sum(adjacency, axis=1))"
   ]
  },
  {
   "cell_type": "code",
   "execution_count": 10,
   "metadata": {},
   "outputs": [],
   "source": [
    "components = find_components(adjacency)\n",
    "largest_component, size = find_largest_component(components)"
   ]
  },
  {
   "cell_type": "code",
   "execution_count": 14,
   "metadata": {},
   "outputs": [],
   "source": [
    "def reorder(labels, k, adjacency):\n",
    "    r_adj = np.empty((adjacency.shape))\n",
    "\n",
    "    m = 0\n",
    "    for l in range(k): #number of clusters\n",
    "        #Select rows to move\n",
    "        nodes = np.where(labels == l)[0]\n",
    "        for i in range(len(nodes)):\n",
    "            # set new row as l previous row\n",
    "            r_adj[i+m, :] = adjacency[nodes[i],:]\n",
    "            #plt.spy(adj_reordered, markersize=3)\n",
    "        m += len(nodes)\n",
    "    reorder = np.empty((r_adj.shape))\n",
    "    m=0\n",
    "    for l in range(k):\n",
    "        # Select columns to move\n",
    "        nodes = np.where(labels == l)[0]\n",
    "        for i in range(len(nodes)):\n",
    "            reorder[:, i+m] = r_adj[:,nodes[i]]\n",
    "        m += len(nodes)\n",
    "            \n",
    "    return reorder\n"
   ]
  },
  {
   "cell_type": "code",
   "execution_count": 43,
   "metadata": {},
   "outputs": [
    {
     "data": {
      "text/plain": [
       "<matplotlib.lines.Line2D at 0x1a29d886a0>"
      ]
     },
     "execution_count": 43,
     "metadata": {},
     "output_type": "execute_result"
    },
    {
     "data": {
      "image/png": "[encoded data removed]",
      "text/plain": [
       "<Figure size 432x288 with 1 Axes>"
      ]
     },
     "metadata": {},
     "output_type": "display_data"
    }
   ],
   "source": [
    "plt.spy(largest_component, markersize=1)"
   ]
  },
  {
   "cell_type": "code",
   "execution_count": 110,
   "metadata": {},
   "outputs": [
    {
     "data": {
      "text/plain": [
       "<matplotlib.lines.Line2D at 0x1a2abeac88>"
      ]
     },
     "execution_count": 110,
     "metadata": {},
     "output_type": "execute_result"
    },
    {
     "data": {
      "image/png": "[encoded data removed]",
      "text/plain": [
       "<Figure size 432x288 with 1 Axes>"
      ]
     },
     "metadata": {},
     "output_type": "display_data"
    }
   ],
   "source": [
    "k = 4\n",
    "lc_csr = sparse.csr_matrix(adjacency)\n",
    "labels = norm_emb(lc_csr, 21, k)\n",
    "adj_reordered = reorder(labels,k, adjacency)\n",
    "\n",
    "plt.spy(adj_reordered, markersize=1)\n"
   ]
  },
  {
   "cell_type": "code",
   "execution_count": 55,
   "metadata": {},
   "outputs": [],
   "source": [
    "import pandas as pd"
   ]
  },
  {
   "cell_type": "code",
   "execution_count": 59,
   "metadata": {},
   "outputs": [
    {
     "name": "stderr",
     "output_type": "stream",
     "text": [
      "/Users/nataliebolon/miniconda3/envs/ntds_2018/lib/python3.6/site-packages/ipykernel_launcher.py:11: ParserWarning: Falling back to the 'python' engine because the 'c' engine does not support regex separators (separators > 1 char and different from '\\s+' are interpreted as regex); you can avoid this warning by specifying engine='python'.\n",
      "  # This is added back by InteractiveShellApp.init_path()\n",
      "/Users/nataliebolon/miniconda3/envs/ntds_2018/lib/python3.6/site-packages/pandas/io/parsers.py:2230: FutureWarning: split() requires a non-empty pattern match.\n",
      "  yield pat.split(line.strip())\n",
      "/Users/nataliebolon/miniconda3/envs/ntds_2018/lib/python3.6/site-packages/pandas/io/parsers.py:2232: FutureWarning: split() requires a non-empty pattern match.\n",
      "  yield pat.split(line.strip())\n",
      "/Users/nataliebolon/miniconda3/envs/ntds_2018/lib/python3.6/site-packages/ipykernel_launcher.py:14: ParserWarning: Falling back to the 'python' engine because the 'c' engine does not support regex separators (separators > 1 char and different from '\\s+' are interpreted as regex); you can avoid this warning by specifying engine='python'.\n",
      "  \n",
      "/Users/nataliebolon/miniconda3/envs/ntds_2018/lib/python3.6/site-packages/ipykernel_launcher.py:17: ParserWarning: Falling back to the 'python' engine because the 'c' engine does not support regex separators (separators > 1 char and different from '\\s+' are interpreted as regex); you can avoid this warning by specifying engine='python'.\n",
      "/Users/nataliebolon/miniconda3/envs/ntds_2018/lib/python3.6/site-packages/ipykernel_launcher.py:20: ParserWarning: Falling back to the 'python' engine because the 'c' engine does not support regex separators (separators > 1 char and different from '\\s+' are interpreted as regex); you can avoid this warning by specifying engine='python'.\n"
     ]
    }
   ],
   "source": [
    "file_path1 = '../data/TerroristRel/TerroristRel.edges'\n",
    "file_path2 = '../data/TerroristRel/TerroristRel.labels'\n",
    "file_path3 = '../data/TerroristRel/TerroristRel_Colleague.nodes'\n",
    "file_path4 = '../data/TerroristRel/TerroristRel_Congregate.nodes'\n",
    "file_path5 = '../data/TerroristRel/TerroristRel_Contact.nodes'\n",
    "file_path6 = '../data/TerroristRel/TerroristRel_Family.nodes'\n",
    "\n",
    "terrorist_rel_labels = pd.read_csv(file_path2, header=None)\n",
    "\n",
    "    # Parse using tab and space delimiters\n",
    "terrorist_rel_coll = pd.read_csv(file_path3, sep='\\t|' '', header=None)\n",
    "\n",
    "    # Parse using tab and space delimiters\n",
    "terrorist_rel_cong = pd.read_csv(file_path4, sep='\\t|' '', header=None)\n",
    "\n",
    "    # Parse using tab and space delimiters\n",
    "terrorist_rel_cont = pd.read_csv(file_path5, sep='\\t|' '', header=None)\n",
    "\n",
    "    # Parse using tab and space delimiters\n",
    "terrorist_rel_fam = pd.read_csv(file_path6, sep='\\t|' '', header=None)"
   ]
  },
  {
   "cell_type": "markdown",
   "metadata": {},
   "source": [
    "**Your answer here.**"
   ]
  },
  {
   "cell_type": "code",
   "execution_count": 98,
   "metadata": {},
   "outputs": [
    {
     "name": "stdout",
     "output_type": "stream",
     "text": [
      "136\n",
      "461\n",
      "148\n",
      "106\n",
      "[[], []] 1\n",
      "[[], []] 1\n",
      "[[], []] 1\n",
      "[[], []] 1\n",
      "[[], []] 1\n",
      "[[], []] 1\n",
      "[[], []] 1\n",
      "[[], []] 1\n",
      "[[], []] 1\n",
      "[[], []] 0\n",
      "[[], []] 1\n",
      "[[], []] 1\n",
      "[[], []] 1\n",
      "[[], []] 1\n",
      "[[], []] 1\n",
      "[[], []] 1\n",
      "[[], []] 1\n",
      "[[], []] 1\n",
      "[[], []] 0\n",
      "[[], []] 1\n",
      "[[], []] 1\n",
      "[[], []] 0\n",
      "[[], []] 0\n",
      "[[], []] 1\n",
      "[[1, 3], []] 1\n",
      "[[1, 2, 3], []] 1\n",
      "[[1, 2, 3], []] 1\n",
      "[[1, 2, 3], []] 1\n",
      "[[1, 2, 3], []] 1\n",
      "[[1, 2, 3], []] 1\n",
      "[[1, 2, 3], []] 1\n",
      "[[1, 2, 3, 4], []] 1\n",
      "[[1, 2, 3, 4], []] 3\n",
      "[[1, 2, 3, 4], []] 3\n",
      "[[1, 2, 3, 4], []] 1\n",
      "[[1, 2, 3, 4], []] 3\n",
      "[[1, 2, 3, 4], []] 3\n",
      "[[1, 2, 3, 4], []] 3\n",
      "[[1, 2, 3, 4], []] 1\n",
      "[[1, 2, 3, 4], []] 1\n",
      "[[1, 2, 3, 4], []] 1\n",
      "[[1, 2, 3, 4], []] 1\n",
      "[[1, 2, 3, 4], []] 1\n",
      "[[1, 2, 3, 4], []] 1\n",
      "[[1, 2, 3, 4], []] 2\n",
      "[[1, 2, 3, 4], []] 2\n",
      "[[1, 2, 3, 4], []] 2\n",
      "[[1, 2, 3, 4], []] 2\n",
      "[[1, 2, 3, 4], []] 2\n",
      "[[1, 2, 3, 4], []] 2\n",
      "[[1, 2, 3, 4], []] 1\n",
      "[[1, 2, 3, 4], []] 1\n",
      "[[1, 2, 3, 4], []] 1\n",
      "[[1, 2, 3, 4], []] 1\n",
      "[[1, 2, 3, 4], []] 1\n",
      "[[1, 2, 3, 4], []] 1\n",
      "[[1, 2, 3, 4], []] 1\n",
      "[[1, 2, 3, 4], []] 1\n",
      "[[1, 2, 3, 4], []] 1\n",
      "[[1, 2, 3, 4], []] 1\n",
      "[[1, 2, 3, 4], []] 1\n",
      "[[1, 2, 3, 4], []] 1\n",
      "[[1, 2, 3, 4], []] 1\n",
      "[[1, 2, 3, 4], []] 1\n",
      "[[1, 2, 3, 4], []] 1\n",
      "[[1, 2, 3, 4], []] 1\n",
      "[[1, 2, 3, 4], []] 1\n",
      "[[1, 2, 3, 4], []] 1\n",
      "[[1, 2, 3, 4], []] 1\n",
      "[[1, 2, 3, 4], []] 1\n",
      "[[1, 2, 3, 4], []] 1\n",
      "[[1, 2, 3, 4], []] 1\n",
      "[[1, 2, 3, 4], []] 1\n",
      "[[1, 2, 3, 4], []] 1\n",
      "[[1, 2, 3, 4], []] 1\n",
      "[[1, 2, 3, 4], []] 1\n",
      "[[1, 2, 3, 4], []] 1\n",
      "[[1, 2, 3, 4], []] 1\n",
      "[[1, 2, 3, 4], []] 1\n",
      "[[1, 2, 3, 4], []] 1\n",
      "[[1, 2, 3, 4], []] 3\n",
      "[[1, 2, 3, 4], []] 3\n",
      "[[1, 2, 3], []] 3\n",
      "[[1, 2, 3], []] 3\n",
      "[[1, 2, 3], []] 3\n",
      "[[1, 2, 3], []] 1\n",
      "[[1, 2, 3], []] 1\n",
      "[[1, 2, 3], []] 1\n",
      "[[1, 2, 3], []] 1\n",
      "[[1, 2, 3], []] 1\n",
      "[[1, 2, 3], []] 1\n",
      "[[1, 2, 3], []] 1\n",
      "[[2, 3], []] 1\n",
      "[[2, 3], []] 1\n",
      "[[2, 3], []] 1\n",
      "[[2, 3], []] 1\n",
      "[[2, 3], []] 1\n",
      "[[2, 3], []] 1\n",
      "[[2, 3], []] 1\n",
      "[[2, 3], []] 1\n"
     ]
    }
   ],
   "source": [
    "l1 = list(terrorist_rel_fam.loc[terrorist_rel_fam[1225]=='family'].index)\n",
    "print(len(l1))\n",
    "l2 = list(terrorist_rel_coll.loc[terrorist_rel_coll[1225]=='colleague'].index)\n",
    "print(len(l2))\n",
    "l3 = list(terrorist_rel_cont.loc[terrorist_rel_cont[1225]=='contact'].index)\n",
    "print(len(l3))\n",
    "l4 = list(terrorist_rel_cong.loc[terrorist_rel_cong[1225]=='congregate'].index)\n",
    "print(len(l4))\n",
    "\n",
    "\n",
    "d = {}\n",
    "for i in range(851):\n",
    "    d[i] = [[],[]]\n",
    "    if i in l1:\n",
    "        d[i][0].append(1)\n",
    "    if i in l2:\n",
    "        d[i][0].append(2)\n",
    "    if i in l3:\n",
    "        d[i][0].append(3)\n",
    "    if i in l4:\n",
    "        d[i][0].append(4)\n",
    "for i in range(400,500):\n",
    "    print(d[i], labels[i])"
   ]
  },
  {
   "cell_type": "markdown",
   "metadata": {},
   "source": [
    "### Question 13\n",
    "\n",
    "If you have ground truth clusters for your dataset, compare the cluster assignment from spectral clustering to the ground truth.\n",
    "A simple quantitative measure is to compute the percentage of nodes that have been correctly categorized.\n",
    "If you don't have a ground truth, qualitatively assess the quality of the clustering.\n",
    "\n",
    "Ground truth clusters are the \"real clusters\".\n",
    "For example, the genre of musical tracks in FMA, the category of Wikipedia articles, the spammer status of individuals, etc.\n",
    "Look for the `labels` in the [dataset descriptions](https://github.com/mdeff/ntds_2018/tree/master/projects/README.md)."
   ]
  },
  {
   "cell_type": "code",
   "execution_count": null,
   "metadata": {},
   "outputs": [],
   "source": [
    "# Your code here."
   ]
  },
  {
   "cell_type": "markdown",
   "metadata": {},
   "source": [
    "### Question 14\n",
    "\n",
    "Plot the cluster assignment (one color per cluster) on the 2D embedding you computed above with Laplacian eigenmaps."
   ]
  },
  {
   "cell_type": "code",
   "execution_count": null,
   "metadata": {},
   "outputs": [],
   "source": []
  },
  {
   "cell_type": "markdown",
   "metadata": {},
   "source": [
    "### Question 15\n",
    "\n",
    "Why did we use the eigenvectors of the graph Laplacian as features? Could we use other features for clustering?"
   ]
  },
  {
   "cell_type": "markdown",
   "metadata": {},
   "source": [
    "**Your answer here.**"
   ]
  }
 ],
 "metadata": {
  "kernelspec": {
   "display_name": "Python 3",
   "language": "python",
   "name": "python3"
  },
  "language_info": {
   "codemirror_mode": {
    "name": "ipython",
    "version": 3
   },
   "file_extension": ".py",
   "mimetype": "text/x-python",
   "name": "python",
   "nbconvert_exporter": "python",
   "pygments_lexer": "ipython3",
   "version": "3.6.6"
  }
 },
 "nbformat": 4,
 "nbformat_minor": 2
}

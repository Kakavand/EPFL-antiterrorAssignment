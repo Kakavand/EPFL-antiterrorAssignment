{
 "cells": [
  {
   "cell_type": "markdown",
   "metadata": {},
   "source": [
    "# [NTDS'18] milestone 4: graph signal processing\n",
    "[ntds'18]: https://github.com/mdeff/ntds_2018\n",
    "\n",
    "[Rodrigo Pena](https://people.epfl.ch/254838), [EPFL LTS2](http://lts2.epfl.ch)"
   ]
  },
  {
   "cell_type": "markdown",
   "metadata": {},
   "source": [
    "## Students\n",
    "\n",
    "* Team: `Nati`\n",
    "* Students: `<the name of all students in the team>`\n",
    "* Dataset: `<the dataset you used to complete the milestone>`"
   ]
  },
  {
   "cell_type": "markdown",
   "metadata": {},
   "source": [
    "## Rules\n",
    "\n",
    "* Milestones have to be completed by teams. No collaboration between teams is allowed.\n",
    "* Textual answers shall be short. Typically one to two sentences.\n",
    "* Code has to be clean.\n",
    "* You cannot import any other library than we imported.\n",
    "* When submitting, the notebook is executed and the results are stored. I.e., if you open the notebook again it should show numerical results and plots. We won't be able to execute your notebooks.\n",
    "* The notebook is re-executed from a blank state before submission. That is to be sure it is reproducible. You can click \"Kernel\" then \"Restart & Run All\" in Jupyter."
   ]
  },
  {
   "cell_type": "markdown",
   "metadata": {},
   "source": [
    "## Objective\n",
    "\n",
    "The goal of this milestone is to do some Graph Signal Processing (GSP) on the data of your project.\n",
    "\n",
    "### A note about plotting\n",
    "\n",
    "There are several questions in this milestone that ask you to plot a signal on your network.\n",
    "There are several ways from which you could approach it.\n",
    "In all cases, compute the position of the nodes a single time at the beginning, as this is likely to be a costly operation.\n",
    "Using a single layout for all the graph plots will also make it easier to compare the plots.\n",
    "Indeed, the only thing changing between plots is the signal displayed.\n",
    "You can represent the features/labels lying on the graph via node **colors**.\n",
    "To do so, make sure to have a consistent color map throughout and remember to display a colorbar and scale in all plots, so that we can tell what numbers the colors represent.\n",
    "\n",
    "* An option is to use the **Laplacian eigenmaps** that you have seen in the previous milestone to embed your graph on the plane. For example:\n",
    "  ```\n",
    "  from matplotlib import pyplot as plt\n",
    "  plt.scatter(eigenvectors[:, 1], eigenvectors[:, 2], c=signal, alpha=0.5)\n",
    "  plt.colorbar()\n",
    "  ```\n",
    "* Another option is to use the plotting capabilities of **[NetworkX](https://networkx.github.io)**.\n",
    "  See the documentation of its [drawing methods](https://networkx.github.io/documentation/stable/reference/drawing.html).\n",
    "  For example:\n",
    "  ```\n",
    "  import networkx as nx\n",
    "  graph = nx.from_scipy_sparse_matrix(adjacency)\n",
    "  coords = nx.spring_layout(graph)  # Force-directed layout.\n",
    "  coords = eigenvectors[:, 1:3]  # Laplacian eigenmaps.\n",
    "  nx.draw_networkx_nodes(graph, coords, node_size=60, node_color=signal)\n",
    "  nx.draw_networkx_edges(graph, coords, alpha=0.3)\n",
    "  ```\n",
    "* Another option is to use the plotting capabilities of the **[PyGSP](https://github.com/epfl-lts2/pygsp)**, a Python package for Graph Signal Processing.\n",
    "  **Note that your are forbidden to use the PyGSP for anything else than plotting.**\n",
    "  See the documentation of its [plotting utilities](https://pygsp.readthedocs.io/en/stable/reference/plotting.html).\n",
    "  For example:\n",
    "  ```\n",
    "  import pygsp as pg\n",
    "  graph = pg.graphs.Graph(adjacency)\n",
    "  graph.set_coordinates('spring')  # Force-directed layout.\n",
    "  graph.set_coordinates(eigenvectors[:, 1:3])  # Laplacian eigenmaps.\n",
    "  graph.plot_signal(signal)\n",
    "  ```\n",
    "* Yet another option is to save your graph on disk, use **[Gephi](https://gephi.org)** externally, to visualize the graph, save the graph with the Gephi coordinates and finally load the nodes coordinates back into the notebook.\n",
    "\n",
    "We encourage you to try all the above methods before making your choice. Then be consistent and use only one throughout the milestone.\n",
    "NetworkX and PyGSP should already be installed in your environement. If that's not the case, install with `conda install networkx pygsp` (after activating the `ntds_2018` environment)."
   ]
  },
  {
   "cell_type": "markdown",
   "metadata": {},
   "source": [
    "## 0 - Load your network"
   ]
  },
  {
   "cell_type": "code",
   "execution_count": 1,
   "metadata": {},
   "outputs": [],
   "source": [
    "%matplotlib inline"
   ]
  },
  {
   "cell_type": "markdown",
   "metadata": {},
   "source": [
    "If you get a `No module named 'pyunlocbox'` error when running the below cell, install the [pyunlocbox](https://github.com/epfl-lts2/pyunlocbox) with `conda install pyunlocbox` (after activating the `ntds_2018` environment)."
   ]
  },
  {
   "cell_type": "code",
   "execution_count": 2,
   "metadata": {},
   "outputs": [],
   "source": [
    "import numpy as np\n",
    "from scipy import sparse\n",
    "import scipy.sparse.linalg\n",
    "from matplotlib import pyplot as plt\n",
    "from pyunlocbox import functions, solvers\n",
    "import pygsp as pg\n",
    "\n",
    "# import our own functions\n",
    "from our_functions import get_true_labels, find_components, find_largest_component\n",
    "import random"
   ]
  },
  {
   "cell_type": "markdown",
   "metadata": {},
   "source": [
    "For this milestone, all we will need is a set of features/labels for each of the nodes on the network, as well as the Laplacian, $L,$ and Gradient, $\\nabla_G,$ matrices that you have computed for your network while working on milestone 3.\n",
    "\n",
    "Import those objects in the cell below (or recompute the Laplacian and Gradient from your stored adjacency matrix, if you wish).\n",
    "\n",
    "_Note_: If your features/labels are not floating-point numbers, please convert them. For example, if your data has labels \"cat\" and \"dog\" for nodes that represent cats or dogs, respectively, you may assign the number `1.0` for the label \"cat\" and the number `-1.0` for the label \"dog\".  "
   ]
  },
  {
   "cell_type": "code",
   "execution_count": 3,
   "metadata": {},
   "outputs": [
    {
     "name": "stdout",
     "output_type": "stream",
     "text": [
      "Number of nodes = 665\n"
     ]
    },
    {
     "ename": "TypeError",
     "evalue": "unsupported operand type(s) for +: 'int' and 'str'",
     "output_type": "error",
     "traceback": [
      "\u001b[1;31m---------------------------------------------------------------------------\u001b[0m",
      "\u001b[1;31mTypeError\u001b[0m                                 Traceback (most recent call last)",
      "\u001b[1;32m<ipython-input-3-42df54211b33>\u001b[0m in \u001b[0;36m<module>\u001b[1;34m()\u001b[0m\n\u001b[0;32m     33\u001b[0m \u001b[1;33m\u001b[0m\u001b[0m\n\u001b[0;32m     34\u001b[0m \u001b[0mprint\u001b[0m\u001b[1;33m(\u001b[0m\u001b[1;34m'Number of nodes = {n:}'\u001b[0m\u001b[1;33m.\u001b[0m\u001b[0mformat\u001b[0m\u001b[1;33m(\u001b[0m\u001b[0mn\u001b[0m\u001b[1;33m=\u001b[0m\u001b[0mn_nodes\u001b[0m\u001b[1;33m)\u001b[0m\u001b[1;33m)\u001b[0m\u001b[1;33m\u001b[0m\u001b[0m\n\u001b[1;32m---> 35\u001b[1;33m \u001b[0mprint\u001b[0m\u001b[1;33m(\u001b[0m\u001b[1;34m'Number of class 0 = {z:}'\u001b[0m\u001b[1;33m.\u001b[0m\u001b[0mformat\u001b[0m\u001b[1;33m(\u001b[0m\u001b[0mz\u001b[0m\u001b[1;33m=\u001b[0m\u001b[0msum\u001b[0m\u001b[1;33m(\u001b[0m\u001b[0mlabels\u001b[0m\u001b[1;33m==\u001b[0m\u001b[1;36m0\u001b[0m\u001b[1;33m)\u001b[0m\u001b[1;33m)\u001b[0m\u001b[1;33m)\u001b[0m\u001b[1;33m\u001b[0m\u001b[0m\n\u001b[0m\u001b[0;32m     36\u001b[0m \u001b[0mprint\u001b[0m\u001b[1;33m(\u001b[0m\u001b[1;34m'Number of class 1 = {z:}'\u001b[0m\u001b[1;33m.\u001b[0m\u001b[0mformat\u001b[0m\u001b[1;33m(\u001b[0m\u001b[0mz\u001b[0m\u001b[1;33m=\u001b[0m\u001b[0msum\u001b[0m\u001b[1;33m(\u001b[0m\u001b[0mlabels\u001b[0m\u001b[1;33m==\u001b[0m\u001b[1;36m1\u001b[0m\u001b[1;33m)\u001b[0m\u001b[1;33m)\u001b[0m\u001b[1;33m)\u001b[0m\u001b[1;33m\u001b[0m\u001b[0m\n",
      "\u001b[1;31mTypeError\u001b[0m: unsupported operand type(s) for +: 'int' and 'str'"
     ]
    }
   ],
   "source": [
    "A = np.load('adjacency.npy')\n",
    "\n",
    "# get the largest component\n",
    "A, size = find_largest_component(find_components(A))\n",
    "\n",
    "zero_index = np.where(np.sum(A, axis=0) == 0)[0]\n",
    "A = np.delete(A, zero_index, axis=0)\n",
    "A = np.delete(A, zero_index, axis=1)\n",
    "D = np.diag(A.sum(axis=1))\n",
    "laplacian =  D - A\n",
    "\n",
    "n_nodes = size\n",
    "n_edges = np.count_nonzero(A) / 2\n",
    "\n",
    "# compute gradient\n",
    "S = np.zeros((int(n_nodes), int(n_edges)))\n",
    "counter = 0\n",
    "for i in range(n_nodes):\n",
    "    for j in range(n_nodes):\n",
    "        if i >= j: continue\n",
    "        if A[i,j] == 1:\n",
    "            # The assignment of +1 and -1 is arbitrary since our network is undirected\n",
    "            S[i,counter] = 1\n",
    "            S[j,counter] = -1\n",
    "            counter+=1\n",
    "\n",
    "gradient = S.T\n",
    "\n",
    "\n",
    "# 1 = at least one type of relationship exists; 0 = no relationships exist\n",
    "#labels = np.load('labels.npy')\n",
    "labels = get_true_labels(A)\n",
    "\n",
    "print('Number of nodes = {n:}'.format(n=n_nodes))\n",
    "print('Number of class 0 = {z:}'.format(z=sum(labels==0)))\n",
    "print('Number of class 1 = {z:}'.format(z=sum(labels==1)))"
   ]
  },
  {
   "cell_type": "code",
   "execution_count": 4,
   "metadata": {},
   "outputs": [
    {
     "data": {
      "text/html": [
       "<div>\n",
       "<style scoped>\n",
       "    .dataframe tbody tr th:only-of-type {\n",
       "        vertical-align: middle;\n",
       "    }\n",
       "\n",
       "    .dataframe tbody tr th {\n",
       "        vertical-align: top;\n",
       "    }\n",
       "\n",
       "    .dataframe thead th {\n",
       "        text-align: right;\n",
       "    }\n",
       "</style>\n",
       "<table border=\"1\" class=\"dataframe\">\n",
       "  <thead>\n",
       "    <tr style=\"text-align: right;\">\n",
       "      <th></th>\n",
       "      <th>0</th>\n",
       "      <th>1225_colleague</th>\n",
       "      <th>1225_family</th>\n",
       "      <th>1225_congregate</th>\n",
       "      <th>1225_contact</th>\n",
       "    </tr>\n",
       "  </thead>\n",
       "  <tbody>\n",
       "    <tr>\n",
       "      <th>0</th>\n",
       "      <td>http://profilesinterror.mindswap.org/document/...</td>\n",
       "      <td>colleague</td>\n",
       "      <td>non-family</td>\n",
       "      <td>non-congregate</td>\n",
       "      <td>non-contact</td>\n",
       "    </tr>\n",
       "    <tr>\n",
       "      <th>1</th>\n",
       "      <td>http://profilesinterror.mindswap.org/document/...</td>\n",
       "      <td>colleague</td>\n",
       "      <td>non-family</td>\n",
       "      <td>non-congregate</td>\n",
       "      <td>non-contact</td>\n",
       "    </tr>\n",
       "    <tr>\n",
       "      <th>2</th>\n",
       "      <td>http://profilesinterror.mindswap.org/document/...</td>\n",
       "      <td>colleague</td>\n",
       "      <td>non-family</td>\n",
       "      <td>non-congregate</td>\n",
       "      <td>non-contact</td>\n",
       "    </tr>\n",
       "    <tr>\n",
       "      <th>3</th>\n",
       "      <td>http://profilesinterror.mindswap.org/document/...</td>\n",
       "      <td>colleague</td>\n",
       "      <td>non-family</td>\n",
       "      <td>non-congregate</td>\n",
       "      <td>non-contact</td>\n",
       "    </tr>\n",
       "    <tr>\n",
       "      <th>4</th>\n",
       "      <td>http://profilesinterror.mindswap.org/document/...</td>\n",
       "      <td>colleague</td>\n",
       "      <td>non-family</td>\n",
       "      <td>non-congregate</td>\n",
       "      <td>non-contact</td>\n",
       "    </tr>\n",
       "    <tr>\n",
       "      <th>5</th>\n",
       "      <td>http://profilesinterror.mindswap.org/document/...</td>\n",
       "      <td>colleague</td>\n",
       "      <td>non-family</td>\n",
       "      <td>non-congregate</td>\n",
       "      <td>non-contact</td>\n",
       "    </tr>\n",
       "    <tr>\n",
       "      <th>6</th>\n",
       "      <td>http://profilesinterror.mindswap.org/document/...</td>\n",
       "      <td>colleague</td>\n",
       "      <td>non-family</td>\n",
       "      <td>non-congregate</td>\n",
       "      <td>non-contact</td>\n",
       "    </tr>\n",
       "    <tr>\n",
       "      <th>7</th>\n",
       "      <td>http://profilesinterror.mindswap.org/document/...</td>\n",
       "      <td>colleague</td>\n",
       "      <td>non-family</td>\n",
       "      <td>non-congregate</td>\n",
       "      <td>non-contact</td>\n",
       "    </tr>\n",
       "    <tr>\n",
       "      <th>8</th>\n",
       "      <td>http://profilesinterror.mindswap.org/document/...</td>\n",
       "      <td>colleague</td>\n",
       "      <td>non-family</td>\n",
       "      <td>non-congregate</td>\n",
       "      <td>non-contact</td>\n",
       "    </tr>\n",
       "    <tr>\n",
       "      <th>9</th>\n",
       "      <td>http://profilesinterror.mindswap.org/document/...</td>\n",
       "      <td>colleague</td>\n",
       "      <td>non-family</td>\n",
       "      <td>non-congregate</td>\n",
       "      <td>non-contact</td>\n",
       "    </tr>\n",
       "    <tr>\n",
       "      <th>10</th>\n",
       "      <td>http://profilesinterror.mindswap.org/document/...</td>\n",
       "      <td>colleague</td>\n",
       "      <td>non-family</td>\n",
       "      <td>non-congregate</td>\n",
       "      <td>non-contact</td>\n",
       "    </tr>\n",
       "    <tr>\n",
       "      <th>11</th>\n",
       "      <td>http://profilesinterror.mindswap.org/document/...</td>\n",
       "      <td>colleague</td>\n",
       "      <td>non-family</td>\n",
       "      <td>non-congregate</td>\n",
       "      <td>non-contact</td>\n",
       "    </tr>\n",
       "    <tr>\n",
       "      <th>12</th>\n",
       "      <td>http://profilesinterror.mindswap.org/document/...</td>\n",
       "      <td>colleague</td>\n",
       "      <td>non-family</td>\n",
       "      <td>non-congregate</td>\n",
       "      <td>non-contact</td>\n",
       "    </tr>\n",
       "    <tr>\n",
       "      <th>13</th>\n",
       "      <td>http://profilesinterror.mindswap.org/document/...</td>\n",
       "      <td>colleague</td>\n",
       "      <td>non-family</td>\n",
       "      <td>non-congregate</td>\n",
       "      <td>non-contact</td>\n",
       "    </tr>\n",
       "    <tr>\n",
       "      <th>14</th>\n",
       "      <td>http://www.mindswap.org/2003/PhotoStuff#Yehya_...</td>\n",
       "      <td>colleague</td>\n",
       "      <td>non-family</td>\n",
       "      <td>non-congregate</td>\n",
       "      <td>non-contact</td>\n",
       "    </tr>\n",
       "    <tr>\n",
       "      <th>15</th>\n",
       "      <td>http://profilesinterror.mindswap.org/document/...</td>\n",
       "      <td>colleague</td>\n",
       "      <td>non-family</td>\n",
       "      <td>non-congregate</td>\n",
       "      <td>non-contact</td>\n",
       "    </tr>\n",
       "    <tr>\n",
       "      <th>16</th>\n",
       "      <td>http://profilesinterror.mindswap.org/document/...</td>\n",
       "      <td>colleague</td>\n",
       "      <td>non-family</td>\n",
       "      <td>non-congregate</td>\n",
       "      <td>non-contact</td>\n",
       "    </tr>\n",
       "    <tr>\n",
       "      <th>17</th>\n",
       "      <td>http://profilesinterror.mindswap.org/document/...</td>\n",
       "      <td>colleague</td>\n",
       "      <td>non-family</td>\n",
       "      <td>non-congregate</td>\n",
       "      <td>non-contact</td>\n",
       "    </tr>\n",
       "    <tr>\n",
       "      <th>18</th>\n",
       "      <td>http://profilesinterror.mindswap.org/document/...</td>\n",
       "      <td>colleague</td>\n",
       "      <td>non-family</td>\n",
       "      <td>non-congregate</td>\n",
       "      <td>non-contact</td>\n",
       "    </tr>\n",
       "    <tr>\n",
       "      <th>19</th>\n",
       "      <td>http://profilesinterror.mindswap.org/document/...</td>\n",
       "      <td>colleague</td>\n",
       "      <td>non-family</td>\n",
       "      <td>non-congregate</td>\n",
       "      <td>non-contact</td>\n",
       "    </tr>\n",
       "    <tr>\n",
       "      <th>20</th>\n",
       "      <td>http://profilesinterror.mindswap.org/document/...</td>\n",
       "      <td>colleague</td>\n",
       "      <td>non-family</td>\n",
       "      <td>non-congregate</td>\n",
       "      <td>non-contact</td>\n",
       "    </tr>\n",
       "    <tr>\n",
       "      <th>21</th>\n",
       "      <td>http://profilesinterror.mindswap.org/document/...</td>\n",
       "      <td>colleague</td>\n",
       "      <td>non-family</td>\n",
       "      <td>non-congregate</td>\n",
       "      <td>non-contact</td>\n",
       "    </tr>\n",
       "    <tr>\n",
       "      <th>22</th>\n",
       "      <td>http://profilesinterror.mindswap.org/document/...</td>\n",
       "      <td>colleague</td>\n",
       "      <td>non-family</td>\n",
       "      <td>non-congregate</td>\n",
       "      <td>non-contact</td>\n",
       "    </tr>\n",
       "    <tr>\n",
       "      <th>23</th>\n",
       "      <td>http://profilesinterror.mindswap.org/document/...</td>\n",
       "      <td>colleague</td>\n",
       "      <td>non-family</td>\n",
       "      <td>non-congregate</td>\n",
       "      <td>non-contact</td>\n",
       "    </tr>\n",
       "    <tr>\n",
       "      <th>24</th>\n",
       "      <td>http://profilesinterror.mindswap.org/document/...</td>\n",
       "      <td>colleague</td>\n",
       "      <td>non-family</td>\n",
       "      <td>non-congregate</td>\n",
       "      <td>non-contact</td>\n",
       "    </tr>\n",
       "    <tr>\n",
       "      <th>25</th>\n",
       "      <td>http://www.mindswap.org/2003/PhotoStuff#Yehya_...</td>\n",
       "      <td>colleague</td>\n",
       "      <td>non-family</td>\n",
       "      <td>non-congregate</td>\n",
       "      <td>non-contact</td>\n",
       "    </tr>\n",
       "    <tr>\n",
       "      <th>26</th>\n",
       "      <td>http://profilesinterror.mindswap.org/document/...</td>\n",
       "      <td>colleague</td>\n",
       "      <td>non-family</td>\n",
       "      <td>non-congregate</td>\n",
       "      <td>non-contact</td>\n",
       "    </tr>\n",
       "    <tr>\n",
       "      <th>27</th>\n",
       "      <td>http://profilesinterror.mindswap.org/document/...</td>\n",
       "      <td>colleague</td>\n",
       "      <td>non-family</td>\n",
       "      <td>non-congregate</td>\n",
       "      <td>non-contact</td>\n",
       "    </tr>\n",
       "    <tr>\n",
       "      <th>28</th>\n",
       "      <td>http://profilesinterror.mindswap.org/document/...</td>\n",
       "      <td>colleague</td>\n",
       "      <td>non-family</td>\n",
       "      <td>non-congregate</td>\n",
       "      <td>non-contact</td>\n",
       "    </tr>\n",
       "    <tr>\n",
       "      <th>29</th>\n",
       "      <td>http://profilesinterror.mindswap.org/document/...</td>\n",
       "      <td>colleague</td>\n",
       "      <td>non-family</td>\n",
       "      <td>non-congregate</td>\n",
       "      <td>non-contact</td>\n",
       "    </tr>\n",
       "    <tr>\n",
       "      <th>...</th>\n",
       "      <td>...</td>\n",
       "      <td>...</td>\n",
       "      <td>...</td>\n",
       "      <td>...</td>\n",
       "      <td>...</td>\n",
       "    </tr>\n",
       "    <tr>\n",
       "      <th>821</th>\n",
       "      <td>http://profilesinterror.mindswap.org/document/...</td>\n",
       "      <td>non-colleague</td>\n",
       "      <td>non-family</td>\n",
       "      <td>congregate</td>\n",
       "      <td>non-contact</td>\n",
       "    </tr>\n",
       "    <tr>\n",
       "      <th>822</th>\n",
       "      <td>http://profilesinterror.mindswap.org/document/...</td>\n",
       "      <td>non-colleague</td>\n",
       "      <td>non-family</td>\n",
       "      <td>congregate</td>\n",
       "      <td>non-contact</td>\n",
       "    </tr>\n",
       "    <tr>\n",
       "      <th>823</th>\n",
       "      <td>http://counterterror.mindswap.org/2005/terrori...</td>\n",
       "      <td>non-colleague</td>\n",
       "      <td>non-family</td>\n",
       "      <td>congregate</td>\n",
       "      <td>non-contact</td>\n",
       "    </tr>\n",
       "    <tr>\n",
       "      <th>824</th>\n",
       "      <td>http://profilesinterror.mindswap.org/document/...</td>\n",
       "      <td>non-colleague</td>\n",
       "      <td>non-family</td>\n",
       "      <td>congregate</td>\n",
       "      <td>non-contact</td>\n",
       "    </tr>\n",
       "    <tr>\n",
       "      <th>825</th>\n",
       "      <td>http://profilesinterror.mindswap.org/document/...</td>\n",
       "      <td>non-colleague</td>\n",
       "      <td>non-family</td>\n",
       "      <td>congregate</td>\n",
       "      <td>non-contact</td>\n",
       "    </tr>\n",
       "    <tr>\n",
       "      <th>826</th>\n",
       "      <td>http://profilesinterror.mindswap.org/document/...</td>\n",
       "      <td>non-colleague</td>\n",
       "      <td>non-family</td>\n",
       "      <td>congregate</td>\n",
       "      <td>non-contact</td>\n",
       "    </tr>\n",
       "    <tr>\n",
       "      <th>827</th>\n",
       "      <td>http://profilesinterror.mindswap.org/document/...</td>\n",
       "      <td>non-colleague</td>\n",
       "      <td>non-family</td>\n",
       "      <td>congregate</td>\n",
       "      <td>non-contact</td>\n",
       "    </tr>\n",
       "    <tr>\n",
       "      <th>828</th>\n",
       "      <td>http://profilesinterror.mindswap.org/document/...</td>\n",
       "      <td>non-colleague</td>\n",
       "      <td>non-family</td>\n",
       "      <td>congregate</td>\n",
       "      <td>non-contact</td>\n",
       "    </tr>\n",
       "    <tr>\n",
       "      <th>829</th>\n",
       "      <td>http://profilesinterror.mindswap.org/document/...</td>\n",
       "      <td>non-colleague</td>\n",
       "      <td>non-family</td>\n",
       "      <td>congregate</td>\n",
       "      <td>non-contact</td>\n",
       "    </tr>\n",
       "    <tr>\n",
       "      <th>830</th>\n",
       "      <td>http://profilesinterror.mindswap.org/document/...</td>\n",
       "      <td>non-colleague</td>\n",
       "      <td>non-family</td>\n",
       "      <td>congregate</td>\n",
       "      <td>non-contact</td>\n",
       "    </tr>\n",
       "    <tr>\n",
       "      <th>831</th>\n",
       "      <td>http://profilesinterror.mindswap.org/document/...</td>\n",
       "      <td>non-colleague</td>\n",
       "      <td>non-family</td>\n",
       "      <td>congregate</td>\n",
       "      <td>non-contact</td>\n",
       "    </tr>\n",
       "    <tr>\n",
       "      <th>832</th>\n",
       "      <td>http://profilesinterror.mindswap.org/document/...</td>\n",
       "      <td>non-colleague</td>\n",
       "      <td>non-family</td>\n",
       "      <td>congregate</td>\n",
       "      <td>non-contact</td>\n",
       "    </tr>\n",
       "    <tr>\n",
       "      <th>833</th>\n",
       "      <td>http://profilesinterror.mindswap.org/document/...</td>\n",
       "      <td>non-colleague</td>\n",
       "      <td>non-family</td>\n",
       "      <td>congregate</td>\n",
       "      <td>non-contact</td>\n",
       "    </tr>\n",
       "    <tr>\n",
       "      <th>834</th>\n",
       "      <td>http://counterterror.mindswap.org/2005/terrori...</td>\n",
       "      <td>non-colleague</td>\n",
       "      <td>non-family</td>\n",
       "      <td>congregate</td>\n",
       "      <td>non-contact</td>\n",
       "    </tr>\n",
       "    <tr>\n",
       "      <th>835</th>\n",
       "      <td>http://counterterror.mindswap.org/2005/terrori...</td>\n",
       "      <td>non-colleague</td>\n",
       "      <td>non-family</td>\n",
       "      <td>congregate</td>\n",
       "      <td>non-contact</td>\n",
       "    </tr>\n",
       "    <tr>\n",
       "      <th>836</th>\n",
       "      <td>http://counterterror.mindswap.org/2005/terrori...</td>\n",
       "      <td>non-colleague</td>\n",
       "      <td>non-family</td>\n",
       "      <td>congregate</td>\n",
       "      <td>non-contact</td>\n",
       "    </tr>\n",
       "    <tr>\n",
       "      <th>837</th>\n",
       "      <td>http://profilesinterror.mindswap.org/document/...</td>\n",
       "      <td>non-colleague</td>\n",
       "      <td>non-family</td>\n",
       "      <td>congregate</td>\n",
       "      <td>non-contact</td>\n",
       "    </tr>\n",
       "    <tr>\n",
       "      <th>838</th>\n",
       "      <td>http://counterterror.mindswap.org/2005/terrori...</td>\n",
       "      <td>non-colleague</td>\n",
       "      <td>non-family</td>\n",
       "      <td>congregate</td>\n",
       "      <td>non-contact</td>\n",
       "    </tr>\n",
       "    <tr>\n",
       "      <th>839</th>\n",
       "      <td>http://profilesinterror.mindswap.org/document/...</td>\n",
       "      <td>non-colleague</td>\n",
       "      <td>non-family</td>\n",
       "      <td>congregate</td>\n",
       "      <td>non-contact</td>\n",
       "    </tr>\n",
       "    <tr>\n",
       "      <th>840</th>\n",
       "      <td>http://counterterror.mindswap.org/2005/terrori...</td>\n",
       "      <td>non-colleague</td>\n",
       "      <td>non-family</td>\n",
       "      <td>congregate</td>\n",
       "      <td>non-contact</td>\n",
       "    </tr>\n",
       "    <tr>\n",
       "      <th>841</th>\n",
       "      <td>http://counterterror.mindswap.org/2005/terrori...</td>\n",
       "      <td>non-colleague</td>\n",
       "      <td>non-family</td>\n",
       "      <td>congregate</td>\n",
       "      <td>non-contact</td>\n",
       "    </tr>\n",
       "    <tr>\n",
       "      <th>842</th>\n",
       "      <td>http://profilesinterror.mindswap.org/document/...</td>\n",
       "      <td>non-colleague</td>\n",
       "      <td>non-family</td>\n",
       "      <td>congregate</td>\n",
       "      <td>non-contact</td>\n",
       "    </tr>\n",
       "    <tr>\n",
       "      <th>843</th>\n",
       "      <td>http://profilesinterror.mindswap.org/document/...</td>\n",
       "      <td>non-colleague</td>\n",
       "      <td>non-family</td>\n",
       "      <td>congregate</td>\n",
       "      <td>non-contact</td>\n",
       "    </tr>\n",
       "    <tr>\n",
       "      <th>844</th>\n",
       "      <td>http://profilesinterror.mindswap.org/document/...</td>\n",
       "      <td>non-colleague</td>\n",
       "      <td>non-family</td>\n",
       "      <td>congregate</td>\n",
       "      <td>non-contact</td>\n",
       "    </tr>\n",
       "    <tr>\n",
       "      <th>845</th>\n",
       "      <td>http://counterterror.mindswap.org/2005/terrori...</td>\n",
       "      <td>non-colleague</td>\n",
       "      <td>non-family</td>\n",
       "      <td>congregate</td>\n",
       "      <td>non-contact</td>\n",
       "    </tr>\n",
       "    <tr>\n",
       "      <th>846</th>\n",
       "      <td>http://profilesinterror.mindswap.org/document/...</td>\n",
       "      <td>non-colleague</td>\n",
       "      <td>non-family</td>\n",
       "      <td>congregate</td>\n",
       "      <td>non-contact</td>\n",
       "    </tr>\n",
       "    <tr>\n",
       "      <th>847</th>\n",
       "      <td>http://profilesinterror.mindswap.org/document/...</td>\n",
       "      <td>non-colleague</td>\n",
       "      <td>non-family</td>\n",
       "      <td>congregate</td>\n",
       "      <td>non-contact</td>\n",
       "    </tr>\n",
       "    <tr>\n",
       "      <th>848</th>\n",
       "      <td>http://counterterror.mindswap.org/2005/terrori...</td>\n",
       "      <td>non-colleague</td>\n",
       "      <td>non-family</td>\n",
       "      <td>congregate</td>\n",
       "      <td>non-contact</td>\n",
       "    </tr>\n",
       "    <tr>\n",
       "      <th>849</th>\n",
       "      <td>http://profilesinterror.mindswap.org/document/...</td>\n",
       "      <td>non-colleague</td>\n",
       "      <td>non-family</td>\n",
       "      <td>congregate</td>\n",
       "      <td>non-contact</td>\n",
       "    </tr>\n",
       "    <tr>\n",
       "      <th>850</th>\n",
       "      <td>http://profilesinterror.mindswap.org/document/...</td>\n",
       "      <td>non-colleague</td>\n",
       "      <td>non-family</td>\n",
       "      <td>congregate</td>\n",
       "      <td>non-contact</td>\n",
       "    </tr>\n",
       "  </tbody>\n",
       "</table>\n",
       "<p>851 rows × 5 columns</p>\n",
       "</div>"
      ],
      "text/plain": [
       "                                                     0 1225_colleague  \\\n",
       "0    http://profilesinterror.mindswap.org/document/...      colleague   \n",
       "1    http://profilesinterror.mindswap.org/document/...      colleague   \n",
       "2    http://profilesinterror.mindswap.org/document/...      colleague   \n",
       "3    http://profilesinterror.mindswap.org/document/...      colleague   \n",
       "4    http://profilesinterror.mindswap.org/document/...      colleague   \n",
       "5    http://profilesinterror.mindswap.org/document/...      colleague   \n",
       "6    http://profilesinterror.mindswap.org/document/...      colleague   \n",
       "7    http://profilesinterror.mindswap.org/document/...      colleague   \n",
       "8    http://profilesinterror.mindswap.org/document/...      colleague   \n",
       "9    http://profilesinterror.mindswap.org/document/...      colleague   \n",
       "10   http://profilesinterror.mindswap.org/document/...      colleague   \n",
       "11   http://profilesinterror.mindswap.org/document/...      colleague   \n",
       "12   http://profilesinterror.mindswap.org/document/...      colleague   \n",
       "13   http://profilesinterror.mindswap.org/document/...      colleague   \n",
       "14   http://www.mindswap.org/2003/PhotoStuff#Yehya_...      colleague   \n",
       "15   http://profilesinterror.mindswap.org/document/...      colleague   \n",
       "16   http://profilesinterror.mindswap.org/document/...      colleague   \n",
       "17   http://profilesinterror.mindswap.org/document/...      colleague   \n",
       "18   http://profilesinterror.mindswap.org/document/...      colleague   \n",
       "19   http://profilesinterror.mindswap.org/document/...      colleague   \n",
       "20   http://profilesinterror.mindswap.org/document/...      colleague   \n",
       "21   http://profilesinterror.mindswap.org/document/...      colleague   \n",
       "22   http://profilesinterror.mindswap.org/document/...      colleague   \n",
       "23   http://profilesinterror.mindswap.org/document/...      colleague   \n",
       "24   http://profilesinterror.mindswap.org/document/...      colleague   \n",
       "25   http://www.mindswap.org/2003/PhotoStuff#Yehya_...      colleague   \n",
       "26   http://profilesinterror.mindswap.org/document/...      colleague   \n",
       "27   http://profilesinterror.mindswap.org/document/...      colleague   \n",
       "28   http://profilesinterror.mindswap.org/document/...      colleague   \n",
       "29   http://profilesinterror.mindswap.org/document/...      colleague   \n",
       "..                                                 ...            ...   \n",
       "821  http://profilesinterror.mindswap.org/document/...  non-colleague   \n",
       "822  http://profilesinterror.mindswap.org/document/...  non-colleague   \n",
       "823  http://counterterror.mindswap.org/2005/terrori...  non-colleague   \n",
       "824  http://profilesinterror.mindswap.org/document/...  non-colleague   \n",
       "825  http://profilesinterror.mindswap.org/document/...  non-colleague   \n",
       "826  http://profilesinterror.mindswap.org/document/...  non-colleague   \n",
       "827  http://profilesinterror.mindswap.org/document/...  non-colleague   \n",
       "828  http://profilesinterror.mindswap.org/document/...  non-colleague   \n",
       "829  http://profilesinterror.mindswap.org/document/...  non-colleague   \n",
       "830  http://profilesinterror.mindswap.org/document/...  non-colleague   \n",
       "831  http://profilesinterror.mindswap.org/document/...  non-colleague   \n",
       "832  http://profilesinterror.mindswap.org/document/...  non-colleague   \n",
       "833  http://profilesinterror.mindswap.org/document/...  non-colleague   \n",
       "834  http://counterterror.mindswap.org/2005/terrori...  non-colleague   \n",
       "835  http://counterterror.mindswap.org/2005/terrori...  non-colleague   \n",
       "836  http://counterterror.mindswap.org/2005/terrori...  non-colleague   \n",
       "837  http://profilesinterror.mindswap.org/document/...  non-colleague   \n",
       "838  http://counterterror.mindswap.org/2005/terrori...  non-colleague   \n",
       "839  http://profilesinterror.mindswap.org/document/...  non-colleague   \n",
       "840  http://counterterror.mindswap.org/2005/terrori...  non-colleague   \n",
       "841  http://counterterror.mindswap.org/2005/terrori...  non-colleague   \n",
       "842  http://profilesinterror.mindswap.org/document/...  non-colleague   \n",
       "843  http://profilesinterror.mindswap.org/document/...  non-colleague   \n",
       "844  http://profilesinterror.mindswap.org/document/...  non-colleague   \n",
       "845  http://counterterror.mindswap.org/2005/terrori...  non-colleague   \n",
       "846  http://profilesinterror.mindswap.org/document/...  non-colleague   \n",
       "847  http://profilesinterror.mindswap.org/document/...  non-colleague   \n",
       "848  http://counterterror.mindswap.org/2005/terrori...  non-colleague   \n",
       "849  http://profilesinterror.mindswap.org/document/...  non-colleague   \n",
       "850  http://profilesinterror.mindswap.org/document/...  non-colleague   \n",
       "\n",
       "    1225_family 1225_congregate 1225_contact  \n",
       "0    non-family  non-congregate  non-contact  \n",
       "1    non-family  non-congregate  non-contact  \n",
       "2    non-family  non-congregate  non-contact  \n",
       "3    non-family  non-congregate  non-contact  \n",
       "4    non-family  non-congregate  non-contact  \n",
       "5    non-family  non-congregate  non-contact  \n",
       "6    non-family  non-congregate  non-contact  \n",
       "7    non-family  non-congregate  non-contact  \n",
       "8    non-family  non-congregate  non-contact  \n",
       "9    non-family  non-congregate  non-contact  \n",
       "10   non-family  non-congregate  non-contact  \n",
       "11   non-family  non-congregate  non-contact  \n",
       "12   non-family  non-congregate  non-contact  \n",
       "13   non-family  non-congregate  non-contact  \n",
       "14   non-family  non-congregate  non-contact  \n",
       "15   non-family  non-congregate  non-contact  \n",
       "16   non-family  non-congregate  non-contact  \n",
       "17   non-family  non-congregate  non-contact  \n",
       "18   non-family  non-congregate  non-contact  \n",
       "19   non-family  non-congregate  non-contact  \n",
       "20   non-family  non-congregate  non-contact  \n",
       "21   non-family  non-congregate  non-contact  \n",
       "22   non-family  non-congregate  non-contact  \n",
       "23   non-family  non-congregate  non-contact  \n",
       "24   non-family  non-congregate  non-contact  \n",
       "25   non-family  non-congregate  non-contact  \n",
       "26   non-family  non-congregate  non-contact  \n",
       "27   non-family  non-congregate  non-contact  \n",
       "28   non-family  non-congregate  non-contact  \n",
       "29   non-family  non-congregate  non-contact  \n",
       "..          ...             ...          ...  \n",
       "821  non-family      congregate  non-contact  \n",
       "822  non-family      congregate  non-contact  \n",
       "823  non-family      congregate  non-contact  \n",
       "824  non-family      congregate  non-contact  \n",
       "825  non-family      congregate  non-contact  \n",
       "826  non-family      congregate  non-contact  \n",
       "827  non-family      congregate  non-contact  \n",
       "828  non-family      congregate  non-contact  \n",
       "829  non-family      congregate  non-contact  \n",
       "830  non-family      congregate  non-contact  \n",
       "831  non-family      congregate  non-contact  \n",
       "832  non-family      congregate  non-contact  \n",
       "833  non-family      congregate  non-contact  \n",
       "834  non-family      congregate  non-contact  \n",
       "835  non-family      congregate  non-contact  \n",
       "836  non-family      congregate  non-contact  \n",
       "837  non-family      congregate  non-contact  \n",
       "838  non-family      congregate  non-contact  \n",
       "839  non-family      congregate  non-contact  \n",
       "840  non-family      congregate  non-contact  \n",
       "841  non-family      congregate  non-contact  \n",
       "842  non-family      congregate  non-contact  \n",
       "843  non-family      congregate  non-contact  \n",
       "844  non-family      congregate  non-contact  \n",
       "845  non-family      congregate  non-contact  \n",
       "846  non-family      congregate  non-contact  \n",
       "847  non-family      congregate  non-contact  \n",
       "848  non-family      congregate  non-contact  \n",
       "849  non-family      congregate  non-contact  \n",
       "850  non-family      congregate  non-contact  \n",
       "\n",
       "[851 rows x 5 columns]"
      ]
     },
     "execution_count": 4,
     "metadata": {},
     "output_type": "execute_result"
    }
   ],
   "source": [
    "labels"
   ]
  },
  {
   "cell_type": "markdown",
   "metadata": {},
   "source": [
    "## 1 - Graph Fourier Transform\n",
    "\n",
    "In this section we will observe how your feature/label vector looks like in the \"Graph Fourier\" domain."
   ]
  },
  {
   "cell_type": "markdown",
   "metadata": {
    "inputHidden": false,
    "outputHidden": false
   },
   "source": [
    "### Question 1\n",
    "\n",
    "Compute the Fourier basis vectors and the Laplacian eigenvalues. Make sure to order those from smaller to larger, $\\lambda_0 \\leq \\lambda_1 \\leq \\dots \\leq \\lambda_{N-1},$ and use the same ordering for the Fourier basis vectors."
   ]
  },
  {
   "cell_type": "code",
   "execution_count": null,
   "metadata": {
    "inputHidden": false,
    "outputHidden": false
   },
   "outputs": [],
   "source": [
    "eigenvalues, eigenvectors =  scipy.linalg.eigh(laplacian)\n",
    "idx = eigenvalues.argsort()\n",
    "\n",
    "# Sort eigenvalues\n",
    "eigenvalues = np.real(eigenvalues[idx])\n",
    "eigenvalues[0] = 0\n",
    "\n",
    "# Sort eigenvectors\n",
    "eigenvectors = np.real(eigenvectors[:,idx])\n",
    "assert eigenvectors.shape == (n_nodes, n_nodes)\n",
    "\n",
    "e = eigenvalues\n",
    "U = eigenvectors"
   ]
  },
  {
   "cell_type": "markdown",
   "metadata": {},
   "source": [
    "Plot the first 3 and the last Fourier basis vectors as signals on your graph. Clearly indicate which plot belongs to which basis vector."
   ]
  },
  {
   "cell_type": "code",
   "execution_count": null,
   "metadata": {
    "inputHidden": false,
    "outputHidden": false
   },
   "outputs": [],
   "source": [
    "graph = pg.graphs.Graph(A)\n",
    "graph.set_coordinates('spring')  # Force-directed layout.\n",
    "#graph.set_coordinates(U[:,1:2])\n",
    "# first eigenvector\n",
    "graph.plot_signal(U[:,0])\n",
    "fig = plt.gcf()\n",
    "fig.set_size_inches((20,8))\n",
    "# second eigenvector\n",
    "graph.plot_signal(U[:,1])\n",
    "fig = plt.gcf()\n",
    "fig.set_size_inches((20,8))\n",
    "# third eigenvector\n",
    "graph.plot_signal(U[:,2])\n",
    "fig = plt.gcf()\n",
    "fig.set_size_inches((20,8))\n",
    "# last eigenvector\n",
    "graph.plot_signal(U[:,-1], limits=[-0.01,0.01])\n",
    "fig = plt.gcf()\n",
    "fig.set_size_inches((20,8))"
   ]
  },
  {
   "cell_type": "markdown",
   "metadata": {},
   "source": [
    "### Question 2\n",
    "\n",
    "What can you observe in terms of local variations when comparing the basis vectors corresponding to the smallest eigenvalues to those corresponding to the largest eigenvalue? How would this justify the interpretation of the eigenvalues as \"graph frequencies\"?"
   ]
  },
  {
   "cell_type": "markdown",
   "metadata": {},
   "source": [
    "**Your answer here.**"
   ]
  },
  {
   "cell_type": "markdown",
   "metadata": {},
   "source": [
    "### Question 3\n",
    "\n",
    "Implement a function that returns the Graph Fourier Transform (GFT) of a given vector $x \\in \\mathbb{R}^{N},$ with respect to your graph, and a function that computes the corresponding inverse GFT (iGFT)."
   ]
  },
  {
   "cell_type": "code",
   "execution_count": null,
   "metadata": {
    "inputHidden": false,
    "outputHidden": false
   },
   "outputs": [],
   "source": [
    "def GFT(x):\n",
    "    return U.T.dot(x)\n",
    "\n",
    "def iGFT(x):\n",
    "    return np.inverse(U.T).dot(x)"
   ]
  },
  {
   "cell_type": "markdown",
   "metadata": {},
   "source": [
    "### Question 4\n",
    "\n",
    "Plot your feature/label vector as a signal on your graph"
   ]
  },
  {
   "cell_type": "code",
   "execution_count": null,
   "metadata": {
    "inputHidden": false,
    "outputHidden": false
   },
   "outputs": [],
   "source": [
    "graph = pg.graphs.Graph(A)\n",
    "graph.set_coordinates('spring')\n",
    "graph.plot_signal(labels)\n",
    "fig = plt.gcf()\n",
    "fig.set_size_inches((18,6))"
   ]
  },
  {
   "cell_type": "markdown",
   "metadata": {},
   "source": [
    "Plot the absolute values of the GFT of your feature/label signal as a function of the graph eigenvalues. Make sure to add a marker indicating the position of each graph eigenvalue, and remember to properly name the axes."
   ]
  },
  {
   "cell_type": "code",
   "execution_count": null,
   "metadata": {
    "inputHidden": false,
    "outputHidden": false
   },
   "outputs": [],
   "source": [
    "gft_labels = abs(GFT(labels))\n",
    "gft_labels_norm = (gft_labels - min(gft_labels)) / (max(gft_labels) - min(gft_labels))\n",
    "plt.scatter(eigenvalues, gft_labels_norm)\n",
    "plt.title(\"GFT(Labels) vs. Eigenvalues\")\n",
    "plt.ylabel(\"Graph Fourier Transform of the labels\")\n",
    "plt.xlabel(\"Eigenvalues\")"
   ]
  },
  {
   "cell_type": "markdown",
   "metadata": {},
   "source": [
    "### Question 5\n",
    "\n",
    "Discuss the behavior of the GFT that you plotted in the last question via comparing the plot of your label signal and those of the Fourier basis of Question 1. Would you consider your labels a \"low-pass\" or \"high-pass\" signal, or yet something else entirely?"
   ]
  },
  {
   "cell_type": "markdown",
   "metadata": {},
   "source": [
    "**Answer:**\n",
    "\n",
    "The resulting plot is non-smooth at all as the changes in the labels happen quite abrouptly. In this case, the behaviour of the labels will be rather closer to a high-pass signal than to a low-pass one. "
   ]
  },
  {
   "cell_type": "markdown",
   "metadata": {
    "code_folding": []
   },
   "source": [
    "## 2 - Filtering on graphs\n",
    "\n",
    "In this section we will check how filtered Dirac impulses diffuse on your graph."
   ]
  },
  {
   "cell_type": "markdown",
   "metadata": {
    "inputHidden": false,
    "outputHidden": false
   },
   "source": [
    "### Question 6 \n",
    "\n",
    "Implement the following three filter kernels and the graph filtering operation.\n",
    "\n",
    "- The **heat kernel** is supposed to take in a vector of eigenvalues `e` and a parameter `t` and output a vector of evaluations of the heat kernel at those eigenvalues (see the course slides for help).\n",
    "- The **inverse filter** kernel is supposed to take in a vector of eigenvalues `e` and a parameter `t` and implement spectrally the  filter defined in the node domain by $f_{out}  = (I + t L)^{-1} f_{in},$ where $f_{in}, f_{out} \\in \\mathbb{R}^{N}$ are, repectively, the input and output signals to the filter.\n",
    "- The **rectangle kernel** takes in a vector of eigenvalues `e` and parameters `l_min` and `l_max` and returns `1.0` at coordinates satisfying $(e[l] \\geq l_{min}) \\wedge (e[l] \\leq l_{max}),$ and `0.0` otherwise.\n",
    "- The **graph filtering** operation takes a graph signal $x \\in \\mathbb{R}^{N}$, a spectral graph `kernel` and a set of keyworded variables, and returns the corresponding filtered signal.\n",
    "    - _Hint:_ Remember that you have implemented the `GFT` and `iGFT` operations in Question 3.\n",
    "    - The `**kwargs` is a placeholder to collect supplementary pairs of keyword-values that are not known by the implementation before execution time.\n",
    "      The `kwargs` variable is a dictionary whose keyes and values are the parameter names and values.\n",
    "      This is useful to allow both `graph_filter(x, heat_kernel, tau=1.0)` and `graph_filter(x, rectangle_kernel, lambda_min=0.0, lambda_max=1.0)` to be valid calls from the same implementation.\n",
    "      One can then defer the keyword-value assignment to the `kernel` call: `foo = kernel(bar, **kwargs)`."
   ]
  },
  {
   "cell_type": "code",
   "execution_count": null,
   "metadata": {},
   "outputs": [],
   "source": [
    "np.var(labels)"
   ]
  },
  {
   "cell_type": "code",
   "execution_count": null,
   "metadata": {
    "inputHidden": false,
    "outputHidden": false
   },
   "outputs": [],
   "source": [
    "def heat_kernel(e, t):\n",
    "    return np.exp(-t*e)\n",
    "\n",
    "def inverse_kernel(e, t):\n",
    "    return np.diag(np.linalg.inv(np.eye(len(e)) + t*np.diag(e)))\n",
    "\n",
    "def rectangle_kernel(e, l_min, l_max):\n",
    "    return [1 if (e[i]>= l_min and e[i]<= l_max) else 0 for i in range(len(e))]\n",
    "\n",
    "def graph_filter(x, kernel, **kwargs):\n",
    "    if kernel == rectangle_kernel:\n",
    "        return kernel(x, kwargs['l_min'], kwargs['l_max'])\n",
    "    \n",
    "    return kernel(x, kwargs['t'])"
   ]
  },
  {
   "cell_type": "markdown",
   "metadata": {},
   "source": [
    "### Question 7\n",
    "\n",
    "Plot all three filter kernels in the spectral domain. Remember to properly name the axes and title the plots. Choose filter parameters that best approximate the behavior of the GFT of your feature/label signal (as seen in Question 4)."
   ]
  },
  {
   "cell_type": "code",
   "execution_count": null,
   "metadata": {
    "inputHidden": false,
    "outputHidden": false
   },
   "outputs": [],
   "source": [
    "# the value of \"tau\" controls the 'strength' or 'severity' of the filter\n",
    "plt.figure()\n",
    "plt.scatter(e, graph_filter(e, heat_kernel, t=5))\n",
    "plt.xlabel('Eigenvalues')\n",
    "plt.ylabel('Heat Kernel')\n",
    "plt.title('Heat Kernel vs. Eigenvalues')\n",
    "\n",
    "plt.figure()\n",
    "plt.scatter(e, graph_filter(e, inverse_kernel, t=10))\n",
    "plt.xlabel('Eigenvalues')\n",
    "plt.ylabel('Inverse Kernel')\n",
    "plt.title('Inverse Kernel vs. Eigenvalues')\n",
    "\n",
    "plt.figure()\n",
    "plt.scatter(e, graph_filter(e, rectangle_kernel, l_min=0, l_max=0.5))\n",
    "plt.xlabel('Eigenvalues')\n",
    "plt.ylabel('Rectangle Kernel')\n",
    "plt.title('Rectangle Kernel vs. Eigenvalues')"
   ]
  },
  {
   "cell_type": "markdown",
   "metadata": {},
   "source": [
    "### Question 8\n",
    "\n",
    "Consider two Dirac impulses arbitrarily placed on your graph. Plot their filtered versions by the three filter kernels implemented in Question 6."
   ]
  },
  {
   "cell_type": "code",
   "execution_count": null,
   "metadata": {},
   "outputs": [],
   "source": [
    "from random import randint\n",
    "ran1 = randint(0, len(e)-1)\n",
    "ran2 = randint(0, len(e)-1)"
   ]
  },
  {
   "cell_type": "code",
   "execution_count": null,
   "metadata": {
    "inputHidden": false,
    "outputHidden": false
   },
   "outputs": [],
   "source": [
    "dirac1 = np.zeros((len(e), 1))\n",
    "dirac1[ran1] = 1\n",
    "dirac2 = np.zeros((len(e), 1))\n",
    "dirac2[ran2] = 1"
   ]
  },
  {
   "cell_type": "markdown",
   "metadata": {},
   "source": [
    "Comment on the \"diffusion\" of the Diracs induced by the filters. What does it say about the \"communication\" of information across your network? Relate that to the network connectivity measures that you analyzed during the previous milestones."
   ]
  },
  {
   "cell_type": "markdown",
   "metadata": {
    "inputHidden": false,
    "outputHidden": false
   },
   "source": [
    "**Your answer here.**"
   ]
  },
  {
   "cell_type": "markdown",
   "metadata": {},
   "source": [
    "## 3 - De-noising\n",
    "\n",
    "In this section we will add some centered Gaussian noise to your feature/label signal and attempt to recover it."
   ]
  },
  {
   "cell_type": "markdown",
   "metadata": {},
   "source": [
    "### Question 9\n",
    "\n",
    "In the cell below, set the noise variance $\\sigma^2$ by making sure that the signal-to-noise ratio $SNR = \\frac{\\operatorname{Var}(\\text{labels})}{\\sigma^2}$ is about  $1.5$.\n",
    "\n",
    "_Note:_ Actually, you might want to play with the noise variance here and set it to different values and see how the denoising filters behave."
   ]
  },
  {
   "cell_type": "code",
   "execution_count": null,
   "metadata": {
    "inputHidden": false,
    "outputHidden": false
   },
   "outputs": [],
   "source": [
    "noise_variance = (np.var(labels))/0.05\n",
    "print(noise_variance)\n",
    "noisy_measurements = labels + noise_variance * np.random.randn(n_nodes)\n",
    "gft_noisylabs = abs(GFT(noisy_measurements))"
   ]
  },
  {
   "cell_type": "markdown",
   "metadata": {},
   "source": [
    "### Question 10\n",
    "\n",
    "In the denoising setting, a common graph signal processing assumption is that the signal $z$ that we want to recover is \"smooth\", in the sense that $\\|\\nabla_G z\\|_2 = \\sqrt{z^{\\top} L z}$ is small, while remaining \"close\" to the measurements that we start with. This leads to denoising by solving the following optimization problem:\n",
    "\n",
    "$$\n",
    "z^\\star = \\text{arg} \\, \\underset{z \\in \\mathbb{R}^{N}}{\\min} \\, \\|z - y\\|_2^2 + \\gamma z^{\\top} L z, \n",
    "$$\n",
    "\n",
    "where $y \\in \\mathbb{R}^{N}$ is the vector of noisy measurements.\n",
    "\n",
    "Derive the close form solution to this problem giving $z^\\star$ as a function of $y$, $\\gamma$ and $L$. Does this solution correspond to any graph filtering operation that you know?"
   ]
  },
  {
   "cell_type": "markdown",
   "metadata": {},
   "source": [
    "**Answer:**\n",
    "\n",
    "$\\nabla_{z \\in \\mathbb{R}^{N}} G = 2 (z - y) + 2 \\gamma L z = 0$\n",
    "\n",
    "\n",
    "$z^{*} = \\frac{1}{2}(I + \\gamma L)^{-1} y$\n",
    "\n",
    "The structure is the same of the inverse Kernel"
   ]
  },
  {
   "cell_type": "markdown",
   "metadata": {},
   "source": [
    "### Question 11\n",
    "\n",
    "Now, denoise the noisy measurements by passing them through the filters that you implemented in Question 6. Choose the filter parameters based on the behavior of the GFT of your original label signal (this is the prior knowledge that you input to the problem)."
   ]
  },
  {
   "cell_type": "code",
   "execution_count": null,
   "metadata": {
    "inputHidden": false,
    "outputHidden": false
   },
   "outputs": [],
   "source": [
    "h_denois_labs = graph_filter(e, heat_kernel, t=5) * gft_noisylabs\n",
    "i_denois_labs = graph_filter(e, inverse_kernel, t=5) * gft_noisylabs\n",
    "r_denois_labs = graph_filter(e, rectangle_kernel, l_min=0, l_max=0.5) * gft_noisylabs"
   ]
  },
  {
   "cell_type": "markdown",
   "metadata": {},
   "source": [
    "Plot, on your graph, the original label signal, the noisy measurements, and the three denoised version obtained above. Report on each plot the value of the corresponding relative error \n",
    "$$\n",
    "\\text{rel-err} = \\frac{\\|\\text{labels} - z \\|_2}{\\|\\text{labels}\\|_2},\n",
    "$$\n",
    "where $z$ is the plotted signal."
   ]
  },
  {
   "cell_type": "code",
   "execution_count": null,
   "metadata": {
    "inputHidden": false,
    "outputHidden": false,
    "scrolled": false
   },
   "outputs": [],
   "source": [
    "plt.scatter(e, gft_labels)\n",
    "rel_err = np.linalg.norm((gft_labels - gft_labels)/gft_labels)\n",
    "plt.title(\"GFT(Labels) vs. Eigenvalues\\nrel-err = %.3f\" % rel_err)\n",
    "plt.ylabel(\"GFT of the labels\")\n",
    "plt.xlabel(\"Eigenvalues\")\n",
    "plt.show()\n",
    "\n",
    "plt.scatter(e, gft_noisylabs)\n",
    "rel_err_noisy = np.linalg.norm(gft_labels - gft_noisylabs)/np.linalg.norm(gft_labels)\n",
    "plt.title(\"GFT(Noisy labels) vs. Eigenvalues\\nrel-err = %.3f\" % rel_err_noisy)\n",
    "plt.ylabel(\"GFT of the noisy labels\")\n",
    "plt.xlabel(\"Eigenvalues\")\n",
    "plt.show()\n",
    "\n",
    "plt.scatter(e, h_denois_labs)\n",
    "rel_err_h_denois = np.linalg.norm(gft_labels - h_denois_labs)/np.linalg.norm(gft_labels)\n",
    "plt.title(\"Denoised labels (Heat) vs. Eigenvalues\\nrel-err = %.3f\" % rel_err_h_denois)\n",
    "plt.ylabel(\"GFT of the denoised labels (Heat)\")\n",
    "plt.xlabel(\"Eigenvalues\")\n",
    "plt.show()\n",
    "\n",
    "plt.scatter(e, i_denois_labs)\n",
    "rel_err_i_denois = np.linalg.norm(gft_labels - i_denois_labs)/np.linalg.norm(gft_labels)\n",
    "plt.title(\"Denoised labels (Inverse) vs. Eigenvalues\\nrel-err = %.3f\" % rel_err_i_denois)\n",
    "plt.ylabel(\"GFT of the denoised labels (Inverse)\")\n",
    "plt.xlabel(\"Eigenvalues\")\n",
    "plt.show()\n",
    "\n",
    "plt.scatter(e, r_denois_labs)\n",
    "rel_err_r_denois = np.linalg.norm(gft_labels - r_denois_labs)/np.linalg.norm(gft_labels)\n",
    "plt.title(\"Denoised labels (Rectangular) vs. Eigenvalues\\nrel-err = %.3f\" % rel_err_r_denois)\n",
    "plt.ylabel(\"GFT of the denoised labels (Rectangular)\")\n",
    "plt.xlabel(\"Eigenvalues\")\n",
    "plt.show()"
   ]
  },
  {
   "cell_type": "markdown",
   "metadata": {},
   "source": [
    "Finally, overlay on the same plot the GFT of all five signals above."
   ]
  },
  {
   "cell_type": "code",
   "execution_count": null,
   "metadata": {
    "inputHidden": false,
    "outputHidden": false
   },
   "outputs": [],
   "source": [
    "plt.scatter(e, gft_labels, c=\"black\", alpha=0.6)\n",
    "plt.scatter(e, gft_noisylabs, c=\"blue\", alpha = 0.05)\n",
    "plt.scatter(e, h_denois_labs, c=\"orange\", alpha=0.2)\n",
    "plt.scatter(e, i_denois_labs, c=\"yellow\", alpha=0.2)\n",
    "plt.scatter(e, r_denois_labs, c=\"red\", alpha=0.2)\n",
    "plt.title(\"Overlayed GFTs vs. Eigenvalues\")\n",
    "plt.ylabel(\"GFTs\")\n",
    "plt.xlabel(\"Eigenvalues\")\n",
    "plt.show()"
   ]
  },
  {
   "cell_type": "markdown",
   "metadata": {},
   "source": [
    "### Question 12\n",
    "\n",
    "Comment on which denoised version seems to best match the original label signal. What is the underlying assumption behind the three filtering approaches? Do you think it holds for your label signal? Why?"
   ]
  },
  {
   "cell_type": "markdown",
   "metadata": {},
   "source": [
    "**Your answer here.**"
   ]
  },
  {
   "cell_type": "markdown",
   "metadata": {
    "ExecuteTime": {
     "end_time": "2018-08-31T13:05:59.301384Z",
     "start_time": "2018-08-31T13:05:59.297336Z"
    }
   },
   "source": [
    "## 4 - Transductive learning\n",
    "\n",
    "It is often the case in large networks that we can only afford to query properties/labels on a small subset of nodes. Nonetheless, if the underlying labels signal is \"regular\" enough, we might still be able to recover a good approximation of it by solving an offline variational problem, with constraints on the values of the measured nodes. \n",
    "\n",
    "In this section, we will be interested in solving such transductive learning problems by minimizing a (semi-) p-norm of the graph gradient applied to the signal of interest:\n",
    "\n",
    "$$\n",
    "\\text{arg} \\, \\underset{z|_S = y}{\\min} \\|\\nabla_G z\\|_p^p,\n",
    "$$\n",
    "\n",
    "where $S$ is the set of measured nodes.\n",
    "\n",
    "In English, we can say that we are looking for solutions with small \"aggregated local variations\", as measured by $\\|\\nabla_G z\\|_p^p = \\sum_{i=1}^{n} \\sum_{j=1}^{n} \\left( \\sqrt{W_{ij}} |z[i] - z[j]| \\right)^p,$ while satisfying the measurement constraints $z[i] = y[i]$ for $i \\in S.$\n",
    "\n",
    "We will work with two cases, according to the choices $p=1$ or $p=2.$ For $p=1,$ the problem is known as \"interpolation by graph total-variation minimization,\" whereas for $p=2$ it is sometimes called \"interpolation by Tikhonov regularization\".\n",
    "\n",
    "In order to solve these variational problems with the black-box solver provided to you, you will use the [pyunlocbox](https://pyunlocbox.readthedocs.io). This toolbox implements iterative solvers based on so-called [\"proximal-splitting\"](https://en.wikipedia.org/wiki/Proximal_gradient_method) methods."
   ]
  },
  {
   "cell_type": "markdown",
   "metadata": {},
   "source": [
    "### Question 13\n",
    "\n",
    "Throughout this section, we will consider only a binarized version of your label signal. If your variable `labels` currently has values other than $\\{-1, 1\\},$ threshold them so that those are the only values taken in this vector. This can be done for example by choosing a number $t \\in \\mathbb{R}$ and then setting $\\text{labels_bin}[i] = 1$ if $\\text{labels}[i] \\geq t$ and $\\text{labels_bin}[i] = 0$ otherwise."
   ]
  },
  {
   "cell_type": "code",
   "execution_count": null,
   "metadata": {
    "inputHidden": false,
    "outputHidden": false
   },
   "outputs": [],
   "source": [
    "labels_bin = np.array([1 if labels[i] == 1 else -1 for i in range(len(labels))])"
   ]
  },
  {
   "cell_type": "markdown",
   "metadata": {},
   "source": [
    "Now, subsample this binarized label signal by $70\\%$ by choosing, uniformly at random, $30\\%$ of the nodes whose labels we will keep.\n",
    "\n",
    "You will do this by computing a \"measurement mask\" vector `w` with `1.0`'s at the measured coordinates, and $0.0$'s otherwise."
   ]
  },
  {
   "cell_type": "code",
   "execution_count": null,
   "metadata": {
    "inputHidden": false,
    "outputHidden": false
   },
   "outputs": [],
   "source": [
    "mn_ratio = 0.3\n",
    "# Number of measurements.\n",
    "m = int(mn_ratio * n_nodes)  \n",
    "\n",
    "seed = 26\n",
    "\n",
    "# Create measurement mask selecting m random nodes\n",
    "w = np.array([0]*len(labels_bin))\n",
    "w[random.sample(range(len(labels)), m)] = 1\n"
   ]
  },
  {
   "cell_type": "markdown",
   "metadata": {},
   "source": [
    "Plot the subsampled signal on the graph. _Hint:_ you might want to set to `numpy.nan` the values of the un-measured nodes for a cleaner plot."
   ]
  },
  {
   "cell_type": "code",
   "execution_count": null,
   "metadata": {
    "inputHidden": false,
    "outputHidden": false
   },
   "outputs": [],
   "source": [
    "# Compute subsampled signal\n",
    "labs_bin_sub = np.multiply(labels_bin, w)\n",
    "labs_bin_sub = labs_bin_sub.astype(float)\n",
    "labs_bin_sub[labs_bin_sub==0] = np.nan\n",
    "\n",
    "graph = pg.graphs.Graph(A)\n",
    "graph.set_coordinates('spring')\n",
    "graph.plot_signal(labs_bin_sub)"
   ]
  },
  {
   "cell_type": "markdown",
   "metadata": {},
   "source": [
    "### Interlude\n",
    "\n",
    "For the solution of the variational problems you can use the following function as a \"black-box\". \n",
    "\n",
    "You will just need to provide a `gradient` matrix (which you should already have from Section 0), and an orthogonal projection operator `P` onto the span of the measured coordinates (made precise in the next question)."
   ]
  },
  {
   "cell_type": "code",
   "execution_count": null,
   "metadata": {},
   "outputs": [],
   "source": [
    "def graph_pnorm_interpolation(gradient, P, x0=None, p=1., **kwargs):\n",
    "    r\"\"\"\n",
    "    Solve an interpolation problem via gradient p-norm minimization.\n",
    "\n",
    "    A signal :math:`x` is estimated from its measurements :math:`y = A(x)` by solving\n",
    "    :math:`\\text{arg}\\underset{z \\in \\mathbb{R}^n}{\\min}\n",
    "    \\| \\nabla_G z \\|_p^p \\text{ subject to } Az = y` \n",
    "    via a primal-dual, forward-backward-forward algorithm.\n",
    "\n",
    "    Parameters\n",
    "    ----------\n",
    "    gradient : array_like\n",
    "        A matrix representing the graph gradient operator\n",
    "    P : callable\n",
    "        Orthogonal projection operator mapping points in :math:`z \\in \\mathbb{R}^n` \n",
    "        onto the set satisfying :math:`A P(z) = A z`.\n",
    "    x0 : array_like, optional\n",
    "        Initial point of the iteration. Must be of dimension n.\n",
    "        (Default is `numpy.random.randn(n)`)\n",
    "    p : {1., 2.}\n",
    "    kwargs :\n",
    "        Additional solver parameters, such as maximum number of iterations\n",
    "        (maxit), relative tolerance on the objective (rtol), and verbosity\n",
    "        level (verbosity). See :func:`pyunlocbox.solvers.solve` for the full\n",
    "        list of options.\n",
    "\n",
    "    Returns\n",
    "    -------\n",
    "    x : array_like\n",
    "        The solution to the optimization problem.\n",
    "\n",
    "    \"\"\"\n",
    "    \n",
    "    grad = lambda z: gradient.dot(z)\n",
    "    div = lambda z: gradient.transpose().dot(z)\n",
    "\n",
    "    # Indicator function of the set satisfying :math:`y = A(z)`\n",
    "    f = functions.func()\n",
    "    f._eval = lambda z: 0\n",
    "    f._prox = lambda z, gamma: P(z)\n",
    "\n",
    "    # :math:`\\ell_1` norm of the dual variable :math:`d = \\nabla_G z`\n",
    "    g = functions.func()\n",
    "    g._eval = lambda z: np.sum(np.abs(grad(z)))\n",
    "    g._prox = lambda d, gamma: functions._soft_threshold(d, gamma)\n",
    "\n",
    "    # :math:`\\ell_2` norm of the gradient (for the smooth case)\n",
    "    h = functions.norm_l2(A=grad, At=div)\n",
    "\n",
    "    stepsize = (0.9 / (1. + scipy.sparse.linalg.norm(gradient, ord='fro'))) ** p\n",
    "\n",
    "    solver = solvers.mlfbf(L=grad, Lt=div, step=stepsize)\n",
    "\n",
    "    if p == 1.:\n",
    "        problem = solvers.solve([f, g, functions.dummy()], x0=x0, solver=solver, **kwargs)\n",
    "        return problem['sol']\n",
    "    if p == 2.:\n",
    "        problem = solvers.solve([f, functions.dummy(), h], x0=x0, solver=solver, **kwargs)\n",
    "        return problem['sol']\n",
    "    else:\n",
    "        return x0"
   ]
  },
  {
   "cell_type": "markdown",
   "metadata": {},
   "source": [
    "### Question 14\n",
    "\n",
    "During the iterations of the algorithm used for solving the variational problem, we have to make sure that the labels at the measured nodes stay the same. We will do this by means of an operator `P` which, given a vector $a \\in \\mathbb{R}^{N},$ returns another vector $b \\in \\mathbb{R}^{N}$ satisfying $b[i] = \\text{labels_bin}[i]$ for every node $i$ in the set $S$ of known labels, and $b[i] = a[i]$ otherwise. Write in the cell below the function for this orthogonal projection operator `P`.\n",
    "\n",
    "_Hint:_ remember you have already computed the mask `w`."
   ]
  },
  {
   "cell_type": "code",
   "execution_count": null,
   "metadata": {
    "inputHidden": false,
    "outputHidden": false
   },
   "outputs": [],
   "source": [
    "def P(a):\n",
    "    b = np.multiply(labels_bin,w, dtype=float)\n",
    "    b[b==0] = a[b==0]\n",
    "    return b"
   ]
  },
  {
   "cell_type": "markdown",
   "metadata": {
    "inputHidden": false,
    "outputHidden": false
   },
   "source": [
    "### Question 15\n",
    "\n",
    "Solve the variational problems for $p = 1$ and $p = 2$. Record the solution for the $1-$norm minimization under `sol_1norm_min` and the one for $2-$norm minimization under `sol_2norm_min`.\n",
    "\n",
    "Compute also binarized versions of these solutions by thresholding the values with respect to $0$, that is, non-negative values become `1.0`, while negative values become `-1.0`. Store those binarized versions under `sol_1norm_bin` and `sol_2norm_bin`, respectively."
   ]
  },
  {
   "cell_type": "code",
   "execution_count": null,
   "metadata": {
    "inputHidden": false,
    "outputHidden": false
   },
   "outputs": [],
   "source": [
    "grad   = sparse.csr_matrix(gradient)\n",
    "x0     = np.random.randn(n_nodes)\n",
    "\n",
    "\n",
    "sol_1norm_min = graph_pnorm_interpolation(grad, P, x0, p=1., verbosity='NONE')\n",
    "\n",
    "sol_2norm_min = graph_pnorm_interpolation(grad, P, x0, p=2., verbosity='NONE')\n",
    "\n",
    "threshold     = 0\n",
    "\n",
    "sol_1norm_bin = np.array([1 if sol_1norm_min[i] > threshold else -1 for i in range(sol_1norm_min.shape[0])])\n",
    "\n",
    "sol_2norm_bin = np.array([1 if sol_2norm_min[i] > threshold else -1 for i in range(sol_2norm_min.shape[0])])"
   ]
  },
  {
   "cell_type": "markdown",
   "metadata": {
    "inputHidden": false,
    "outputHidden": false
   },
   "source": [
    "Plot, on your graph, the original `labels_bin` signal, as well as the solutions to the variational problems (both binarized and otherwise). Indicate on each plot the value of the relative error $\\text{rel-err} = \\frac{\\|\\text{labels_bin} - z\\|_2}{\\|\\text{labels_bin}\\|_2}$, where $z$ is the signal in the corresponding plot."
   ]
  },
  {
   "cell_type": "code",
   "execution_count": null,
   "metadata": {},
   "outputs": [],
   "source": [
    "def rel_error(labels, z):\n",
    "    return np.linalg.norm((labels-z),2)/np.linalg.norm(labels,2)"
   ]
  },
  {
   "cell_type": "code",
   "execution_count": null,
   "metadata": {},
   "outputs": [],
   "source": [
    "#graph = pg.graphs.Graph(A)\n",
    "#graph.set_coordinates('spring')  # Force-directed layout.\n",
    "#graph.set_coordinates(U[:,1:2])\n",
    "# first eigenvector\n",
    "f = plt.figure(figsize=(20,16))\n",
    "graph.plot_signal(sol_1norm_min)\n",
    "\n",
    "print('L2 norm minimization. Relative error = {}'.format(rel_error(labels_bin, sol_2norm_min)))\n",
    "graph.plot_signal(sol_2norm_min)\n",
    "\n",
    "print('L1 norm minimization. Relative error = {}'.format(rel_error(labels_bin, sol_1norm_bin)))\n",
    "graph.plot_signal(sol_1norm_bin)\n",
    "\n",
    "print('L1 norm minimization. Relative error = {}'.format(rel_error(labels_bin, sol_2norm_bin)))\n",
    "graph.plot_signal(sol_2norm_bin)"
   ]
  },
  {
   "cell_type": "markdown",
   "metadata": {},
   "source": [
    "### Question 16\n",
    "\n",
    "Now that you have got a feeling for the sort of solutions that the transductive learning problems studied can give, we will see what is the effect of the number of measurements on the accuracy of both $p-$norm minimization problems.\n",
    "\n",
    "Towards this goal, you will write a `phase_transition()` function. This function will basically go over all the procedures that you have implemented in this section, but for varying numbers of measurements and thresholding values. It will also compute the relative error, $\\text{rel-err},$ of the solutions and average them over a number of trials.\n",
    "\n",
    "The output of the `phase_transition()` function has to be a matrix with `len(mn_ratios)` columns and `len(thresholds)` rows. Each pixel $(i,j)$ in the output matrix has to contain the average, over `n_trials` trials, of the relative error $\\text{rel-err}$ in the binarized (with threshold `thresholds[i]`) solution given by `graph_pnorm_interpolation()` from observing an `mn_ratios[j]` fraction of nodes. The randomness comes from a different choice of mask `w` at each trial, hence the averaging.\n",
    "\n",
    "The interest of this phase transition matrix is to assess what level of recovery error one could expect for a certain fraction of measurements and a certain threshold level."
   ]
  },
  {
   "cell_type": "code",
   "execution_count": null,
   "metadata": {},
   "outputs": [],
   "source": [
    "def mask(mn_ratio):\n",
    "    m = int(mn_ratio * n_nodes)  # Number of measurements.\n",
    "    w = np.array([0]*len(labels_bin))\n",
    "    w[random.sample(range(len(labels)), m)] = 1\n",
    "    return np.multiply(labels_bin, w)\n",
    "\n",
    "    "
   ]
  },
  {
   "cell_type": "code",
   "execution_count": null,
   "metadata": {
    "inputHidden": false,
    "outputHidden": false
   },
   "outputs": [],
   "source": [
    "def phase_transition(mn_ratios, thresholds, n_trials, labels_bin, p):\n",
    "    \n",
    "    grad   = sparse.csr_matrix(gradient)\n",
    "    x0     = np.random.randn(n_nodes)\n",
    "\n",
    "    pt_matrix = np.zeros([len(mn_ratios), len(thresholds)])\n",
    "    for i in range(len(mn_ratios)):\n",
    "        #Generate mask\n",
    "        m = int(mn_ratios[i] * n_nodes)  # Number of measurements.\n",
    "        w = np.array([0]*len(labels_bin))\n",
    "        w[random.sample(range(len(labels)), m)] = 1 \n",
    "        for j in range(len(thresholds)):\n",
    "            error = 0\n",
    "            for k in range(n_trials):\n",
    "                # Solve interpolation\n",
    "                sol_min = graph_pnorm_interpolation(grad, P, x0, p=p , verbosity='NONE')\n",
    "                # Compute Binary assignment\n",
    "                sol_bin = np.array([1 if sol_min[i] > thresholds[j] else -1 for i in range(sol_min.shape[0])])\n",
    "                # Compute relative error\n",
    "                error += rel_error(labels_bin, sol_bin)\n",
    "            pt_matrix[i,j] = np.average(error)\n",
    "    \n",
    "    return pt_matrix"
   ]
  },
  {
   "cell_type": "markdown",
   "metadata": {},
   "source": [
    "### Question 17\n",
    "\n",
    "Pick 5 \"m/n\" ratios in $(0, 1)$ and 5 threshold levels in $(-1, 1)$ and run the `phase_transition()` function with `n_trials` = 20, for both $p = 1$ and $p = 2$."
   ]
  },
  {
   "cell_type": "code",
   "execution_count": null,
   "metadata": {
    "inputHidden": false,
    "outputHidden": false
   },
   "outputs": [],
   "source": [
    "mn_ratios = np.linspace(0.01,1,5, endpoint=False)\n",
    "\n",
    "thresholds = np.linspace(-0.99,1,5, endpoint=False)\n",
    "\n",
    "pt_matrix_1norm = phase_transition(mn_ratios, thresholds, 20, labels_bin, 1)\n",
    "\n",
    "pt_matrix_2norm = phase_transition(mn_ratios, thresholds, 20, labels_bin, 2)"
   ]
  },
  {
   "cell_type": "markdown",
   "metadata": {},
   "source": [
    "Plot both phase transition matrices as images with a colorbar. Make sure to properly name the axes and title the images. "
   ]
  },
  {
   "cell_type": "code",
   "execution_count": null,
   "metadata": {
    "inputHidden": false,
    "outputHidden": false
   },
   "outputs": [],
   "source": [
    "fig, ax = plt.subplots()\n",
    "\n",
    "th = [ '%.2f' % elem for elem in thresholds ]\n",
    "mn_r = [ '%.2f' % elem for elem in mn_ratios ]\n",
    "\n",
    "im0 = ax.imshow(pt_matrix_1norm)\n",
    "ax.set_title('Phase Transition matrix L1 norm')\n",
    "ax.set_xlabel('Threshold values')\n",
    "ax.set_xticks(np.arange(len(th)))\n",
    "ax.set_yticks(np.arange(len(mn_r)))\n",
    "ax.set_xticklabels(th)\n",
    "ax.set_ylabel('m/n ratio')\n",
    "ax.set_yticklabels(mn_r)\n",
    "#ax.set_colorbar()\n",
    "fig.colorbar(im0)\n",
    "\n",
    "fig1, ax = plt.subplots()\n",
    "\n",
    "im1 = ax.imshow(pt_matrix_2norm)\n",
    "ax.set_title('Phase Transition matrix L2 norm')\n",
    "ax.set_xlabel('Threshold values')\n",
    "ax.set_xticks(np.arange(len(th)))\n",
    "ax.set_yticks(np.arange(len(mn_r)))\n",
    "ax.set_xticklabels(th)\n",
    "ax.set_ylabel('m/n ratio')\n",
    "ax.set_yticklabels(mn_r)\n",
    "#ax.set_colorbar()\n",
    "fig1.colorbar(im1)\n",
    "#ax.show()\n",
    "\n",
    "#plt.imshow(pt_matrix_2norm);\n",
    "#plt.title('Phase Transition matrix L2 norm')\n",
    "#plt.xlabel('Threshold values')\n",
    "#plt.ylabel('m/n ratio')\n",
    "#plt.colorbar()\n",
    "#plt.show()"
   ]
  },
  {
   "cell_type": "markdown",
   "metadata": {},
   "source": [
    "### Question 18\n",
    "\n",
    "Do the phase transition plots above provide any justification for choosing one $p-$norm interpolation over the other? Why?"
   ]
  },
  {
   "cell_type": "markdown",
   "metadata": {},
   "source": [
    "**Answer:**\n",
    "\n",
    "Based on the results of the transition plots, choosing the $2-$norm seems more convinient as the relative error achieved is lower. The maximum relative error with $2-$norm interpolation is lower than the minimum achieved with $1-$norm interpolation. "
   ]
  }
 ],
 "metadata": {
  "kernel_info": {
   "name": "python3"
  },
  "kernelspec": {
   "display_name": "Python 3",
   "language": "python",
   "name": "python3"
  },
  "language_info": {
   "codemirror_mode": {
    "name": "ipython",
    "version": 3
   },
   "file_extension": ".py",
   "mimetype": "text/x-python",
   "name": "python",
   "nbconvert_exporter": "python",
   "pygments_lexer": "ipython3",
   "version": "3.7.0"
  },
  "latex_envs": {
   "LaTeX_envs_menu_present": true,
   "autoclose": true,
   "autocomplete": true,
   "bibliofile": "biblio.bib",
   "cite_by": "apalike",
   "current_citInitial": 1,
   "eqLabelWithNumbers": true,
   "eqNumInitial": 1,
   "hotkeys": {
    "equation": "Ctrl-E",
    "itemize": "Ctrl-I"
   },
   "labels_anchors": false,
   "latex_user_defs": false,
   "report_style_numbering": false,
   "user_envs_cfg": false
  },
  "nteract": {
   "version": "0.12.3"
  },
  "varInspector": {
   "cols": {
    "lenName": 16,
    "lenType": 16,
    "lenVar": 40
   },
   "kernels_config": {
    "python": {
     "delete_cmd_postfix": "",
     "delete_cmd_prefix": "del ",
     "library": "var_list.py",
     "varRefreshCmd": "print(var_dic_list())"
    },
    "r": {
     "delete_cmd_postfix": ") ",
     "delete_cmd_prefix": "rm(",
     "library": "var_list.r",
     "varRefreshCmd": "cat(var_dic_list()) "
    }
   },
   "types_to_exclude": [
    "module",
    "function",
    "builtin_function_or_method",
    "instance",
    "_Feature"
   ],
   "window_display": false
  }
 },
 "nbformat": 4,
 "nbformat_minor": 2
}
